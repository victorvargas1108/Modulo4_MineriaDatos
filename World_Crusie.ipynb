{
  "nbformat": 4,
  "nbformat_minor": 0,
  "metadata": {
    "colab": {
      "name": "World Crusie.ipynb",
      "provenance": [],
      "authorship_tag": "ABX9TyMaXjVBiy6thgSzTEkS4nZ3",
      "include_colab_link": true
    },
    "kernelspec": {
      "name": "python3",
      "display_name": "Python 3"
    }
  },
  "cells": [
    {
      "cell_type": "markdown",
      "metadata": {
        "id": "view-in-github",
        "colab_type": "text"
      },
      "source": [
        "<a href=\"https://colab.research.google.com/github/victorvargas1108/Modulo4_MineriaDatos/blob/master/World_Crusie.ipynb\" target=\"_parent\"><img src=\"https://colab.research.google.com/assets/colab-badge.svg\" alt=\"Open In Colab\"/></a>"
      ]
    },
    {
      "cell_type": "code",
      "metadata": {
        "id": "QSA8aKVFLv0u",
        "colab_type": "code",
        "colab": {}
      },
      "source": [
        "import pandas as pd\n",
        "import numpy as np\n",
        "import missingno as msno\n",
        "%matplotlib inline"
      ],
      "execution_count": 0,
      "outputs": []
    },
    {
      "cell_type": "code",
      "metadata": {
        "id": "ks5ftV40OPhW",
        "colab_type": "code",
        "colab": {
          "base_uri": "https://localhost:8080/",
          "height": 309
        },
        "outputId": "76e3df77-efe5-49b0-b649-4c65fc1b7666"
      },
      "source": [
        "path = 'WorldCruiseData.csv'\n",
        "df = pd.read_csv(path, encoding='latin', error_bad_lines=False)\n",
        "df.head()"
      ],
      "execution_count": 5,
      "outputs": [
        {
          "output_type": "execute_result",
          "data": {
            "text/html": [
              "<div>\n",
              "<style scoped>\n",
              "    .dataframe tbody tr th:only-of-type {\n",
              "        vertical-align: middle;\n",
              "    }\n",
              "\n",
              "    .dataframe tbody tr th {\n",
              "        vertical-align: top;\n",
              "    }\n",
              "\n",
              "    .dataframe thead th {\n",
              "        text-align: right;\n",
              "    }\n",
              "</style>\n",
              "<table border=\"1\" class=\"dataframe\">\n",
              "  <thead>\n",
              "    <tr style=\"text-align: right;\">\n",
              "      <th></th>\n",
              "      <th>ROUTE</th>\n",
              "      <th>EMBARK_PORT</th>\n",
              "      <th>DISEMBARK_PORT</th>\n",
              "      <th>CABIN_TYPE</th>\n",
              "      <th>DURATION</th>\n",
              "      <th>CRUISE_REGION</th>\n",
              "      <th>BOOKING_WEEK_PRIOR</th>\n",
              "      <th>CANCEL_WEEK_PRIOR</th>\n",
              "      <th>EMBARK_REGION</th>\n",
              "      <th>DEBARK_REGION</th>\n",
              "      <th>PRICE_PAID</th>\n",
              "      <th>NO_OF_PEOPLE_ON_BOOKING</th>\n",
              "    </tr>\n",
              "  </thead>\n",
              "  <tbody>\n",
              "    <tr>\n",
              "      <th>0</th>\n",
              "      <td>SOU-AKL</td>\n",
              "      <td>SOU</td>\n",
              "      <td>AKL</td>\n",
              "      <td>O</td>\n",
              "      <td>40</td>\n",
              "      <td>West Bound</td>\n",
              "      <td>33</td>\n",
              "      <td>33.0</td>\n",
              "      <td>UK</td>\n",
              "      <td>New Zealand</td>\n",
              "      <td>2811.127882</td>\n",
              "      <td>2</td>\n",
              "    </tr>\n",
              "    <tr>\n",
              "      <th>1</th>\n",
              "      <td>SOU-AKL</td>\n",
              "      <td>SOU</td>\n",
              "      <td>AKL</td>\n",
              "      <td>O</td>\n",
              "      <td>40</td>\n",
              "      <td>West Bound</td>\n",
              "      <td>45</td>\n",
              "      <td>NaN</td>\n",
              "      <td>UK</td>\n",
              "      <td>New Zealand</td>\n",
              "      <td>5171.396346</td>\n",
              "      <td>2</td>\n",
              "    </tr>\n",
              "    <tr>\n",
              "      <th>2</th>\n",
              "      <td>SOU-AKL</td>\n",
              "      <td>SOU</td>\n",
              "      <td>AKL</td>\n",
              "      <td>B</td>\n",
              "      <td>40</td>\n",
              "      <td>West Bound</td>\n",
              "      <td>42</td>\n",
              "      <td>NaN</td>\n",
              "      <td>UK</td>\n",
              "      <td>New Zealand</td>\n",
              "      <td>6343.673826</td>\n",
              "      <td>2</td>\n",
              "    </tr>\n",
              "    <tr>\n",
              "      <th>3</th>\n",
              "      <td>SOU-BNE</td>\n",
              "      <td>SOU</td>\n",
              "      <td>BNE</td>\n",
              "      <td>B</td>\n",
              "      <td>47</td>\n",
              "      <td>West Bound</td>\n",
              "      <td>36</td>\n",
              "      <td>35.0</td>\n",
              "      <td>UK</td>\n",
              "      <td>Australia - Queensland</td>\n",
              "      <td>9784.513217</td>\n",
              "      <td>2</td>\n",
              "    </tr>\n",
              "    <tr>\n",
              "      <th>4</th>\n",
              "      <td>SOU-SFO</td>\n",
              "      <td>SOU</td>\n",
              "      <td>SFO</td>\n",
              "      <td>B</td>\n",
              "      <td>24</td>\n",
              "      <td>Panama Canal</td>\n",
              "      <td>57</td>\n",
              "      <td>NaN</td>\n",
              "      <td>UK</td>\n",
              "      <td>USA - West Coast</td>\n",
              "      <td>4182.892388</td>\n",
              "      <td>2</td>\n",
              "    </tr>\n",
              "  </tbody>\n",
              "</table>\n",
              "</div>"
            ],
            "text/plain": [
              "     ROUTE EMBARK_PORT  ...   PRICE_PAID NO_OF_PEOPLE_ON_BOOKING\n",
              "0  SOU-AKL         SOU  ...  2811.127882                       2\n",
              "1  SOU-AKL         SOU  ...  5171.396346                       2\n",
              "2  SOU-AKL         SOU  ...  6343.673826                       2\n",
              "3  SOU-BNE         SOU  ...  9784.513217                       2\n",
              "4  SOU-SFO         SOU  ...  4182.892388                       2\n",
              "\n",
              "[5 rows x 12 columns]"
            ]
          },
          "metadata": {
            "tags": []
          },
          "execution_count": 5
        }
      ]
    },
    {
      "cell_type": "code",
      "metadata": {
        "id": "foscKi6yOgGw",
        "colab_type": "code",
        "colab": {
          "base_uri": "https://localhost:8080/",
          "height": 306
        },
        "outputId": "61904eb1-9d7d-4840-cdf2-52421c9a7a86"
      },
      "source": [
        "df.info()"
      ],
      "execution_count": 6,
      "outputs": [
        {
          "output_type": "stream",
          "text": [
            "<class 'pandas.core.frame.DataFrame'>\n",
            "RangeIndex: 3923 entries, 0 to 3922\n",
            "Data columns (total 12 columns):\n",
            "ROUTE                      3923 non-null object\n",
            "EMBARK_PORT                3923 non-null object\n",
            "DISEMBARK_PORT             3923 non-null object\n",
            "CABIN_TYPE                 3923 non-null object\n",
            "DURATION                   3923 non-null int64\n",
            "CRUISE_REGION              3923 non-null object\n",
            "BOOKING_WEEK_PRIOR         3923 non-null int64\n",
            "CANCEL_WEEK_PRIOR          1181 non-null float64\n",
            "EMBARK_REGION              3923 non-null object\n",
            "DEBARK_REGION              3923 non-null object\n",
            "PRICE_PAID                 3879 non-null float64\n",
            "NO_OF_PEOPLE_ON_BOOKING    3923 non-null int64\n",
            "dtypes: float64(2), int64(3), object(7)\n",
            "memory usage: 367.9+ KB\n"
          ],
          "name": "stdout"
        }
      ]
    },
    {
      "cell_type": "code",
      "metadata": {
        "id": "KXxTrDXjOrZ4",
        "colab_type": "code",
        "colab": {
          "base_uri": "https://localhost:8080/",
          "height": 34
        },
        "outputId": "f620b1b0-7fc3-42c2-cd9c-8c9c1ef0cc08"
      },
      "source": [
        "df.shape"
      ],
      "execution_count": 7,
      "outputs": [
        {
          "output_type": "execute_result",
          "data": {
            "text/plain": [
              "(3923, 12)"
            ]
          },
          "metadata": {
            "tags": []
          },
          "execution_count": 7
        }
      ]
    },
    {
      "cell_type": "code",
      "metadata": {
        "id": "OA0XGitYPEbl",
        "colab_type": "code",
        "colab": {
          "base_uri": "https://localhost:8080/",
          "height": 34
        },
        "outputId": "75055349-414f-42f5-a1cb-f376cbf89df4"
      },
      "source": [
        "df.shape[0]"
      ],
      "execution_count": 8,
      "outputs": [
        {
          "output_type": "execute_result",
          "data": {
            "text/plain": [
              "3923"
            ]
          },
          "metadata": {
            "tags": []
          },
          "execution_count": 8
        }
      ]
    },
    {
      "cell_type": "code",
      "metadata": {
        "id": "jfMCDUnAPKXo",
        "colab_type": "code",
        "colab": {
          "base_uri": "https://localhost:8080/",
          "height": 34
        },
        "outputId": "6aae959f-1593-4c01-8031-fa01fe4bb0c8"
      },
      "source": [
        "df.shape[1]"
      ],
      "execution_count": 9,
      "outputs": [
        {
          "output_type": "execute_result",
          "data": {
            "text/plain": [
              "12"
            ]
          },
          "metadata": {
            "tags": []
          },
          "execution_count": 9
        }
      ]
    },
    {
      "cell_type": "code",
      "metadata": {
        "id": "Pi-BsUA5PM_P",
        "colab_type": "code",
        "colab": {
          "base_uri": "https://localhost:8080/",
          "height": 221
        },
        "outputId": "9d29cb94-6648-438f-cd3c-b3e053cbb5fc"
      },
      "source": [
        "df.columns.values.tolist()"
      ],
      "execution_count": 10,
      "outputs": [
        {
          "output_type": "execute_result",
          "data": {
            "text/plain": [
              "['ROUTE',\n",
              " 'EMBARK_PORT',\n",
              " 'DISEMBARK_PORT',\n",
              " 'CABIN_TYPE',\n",
              " 'DURATION',\n",
              " 'CRUISE_REGION',\n",
              " 'BOOKING_WEEK_PRIOR',\n",
              " 'CANCEL_WEEK_PRIOR',\n",
              " 'EMBARK_REGION',\n",
              " 'DEBARK_REGION',\n",
              " 'PRICE_PAID',\n",
              " 'NO_OF_PEOPLE_ON_BOOKING']"
            ]
          },
          "metadata": {
            "tags": []
          },
          "execution_count": 10
        }
      ]
    },
    {
      "cell_type": "code",
      "metadata": {
        "id": "b2yl1p46PYej",
        "colab_type": "code",
        "colab": {
          "base_uri": "https://localhost:8080/",
          "height": 238
        },
        "outputId": "0eac1b54-e758-4ff6-c89d-438127cc055c"
      },
      "source": [
        "df.dtypes"
      ],
      "execution_count": 11,
      "outputs": [
        {
          "output_type": "execute_result",
          "data": {
            "text/plain": [
              "ROUTE                       object\n",
              "EMBARK_PORT                 object\n",
              "DISEMBARK_PORT              object\n",
              "CABIN_TYPE                  object\n",
              "DURATION                     int64\n",
              "CRUISE_REGION               object\n",
              "BOOKING_WEEK_PRIOR           int64\n",
              "CANCEL_WEEK_PRIOR          float64\n",
              "EMBARK_REGION               object\n",
              "DEBARK_REGION               object\n",
              "PRICE_PAID                 float64\n",
              "NO_OF_PEOPLE_ON_BOOKING      int64\n",
              "dtype: object"
            ]
          },
          "metadata": {
            "tags": []
          },
          "execution_count": 11
        }
      ]
    },
    {
      "cell_type": "code",
      "metadata": {
        "id": "INLRF53qPgcD",
        "colab_type": "code",
        "colab": {
          "base_uri": "https://localhost:8080/",
          "height": 34
        },
        "outputId": "02d44ef1-c870-48da-e251-efc03e518e1c"
      },
      "source": [
        "df.isnull().any().any()"
      ],
      "execution_count": 12,
      "outputs": [
        {
          "output_type": "execute_result",
          "data": {
            "text/plain": [
              "True"
            ]
          },
          "metadata": {
            "tags": []
          },
          "execution_count": 12
        }
      ]
    },
    {
      "cell_type": "code",
      "metadata": {
        "id": "wQAc3llBPnzM",
        "colab_type": "code",
        "colab": {
          "base_uri": "https://localhost:8080/",
          "height": 811
        },
        "outputId": "4951163e-5ee2-4b3b-c04e-0ed958f17d8a"
      },
      "source": [
        "msno.matrix(df)"
      ],
      "execution_count": 13,
      "outputs": [
        {
          "output_type": "execute_result",
          "data": {
            "text/plain": [
              "<matplotlib.axes._subplots.AxesSubplot at 0x7f57e3931438>"
            ]
          },
          "metadata": {
            "tags": []
          },
          "execution_count": 13
        },
        {
          "output_type": "display_data",
          "data": {
            "image/png": "[encoded data removed]",
            "text/plain": [
              "<Figure size 1800x720 with 2 Axes>"
            ]
          },
          "metadata": {
            "tags": []
          }
        }
      ]
    },
    {
      "cell_type": "code",
      "metadata": {
        "id": "fpaRqtquPwG7",
        "colab_type": "code",
        "colab": {}
      },
      "source": [
        "df.replace({' ': np.nan}, inplace=True)"
      ],
      "execution_count": 0,
      "outputs": []
    },
    {
      "cell_type": "code",
      "metadata": {
        "id": "kaogEGhWP4Ii",
        "colab_type": "code",
        "colab": {
          "base_uri": "https://localhost:8080/",
          "height": 34
        },
        "outputId": "039252fc-22a7-4511-f66b-a6e1afd2c441"
      },
      "source": [
        "df.isnull().any().any()"
      ],
      "execution_count": 15,
      "outputs": [
        {
          "output_type": "execute_result",
          "data": {
            "text/plain": [
              "True"
            ]
          },
          "metadata": {
            "tags": []
          },
          "execution_count": 15
        }
      ]
    },
    {
      "cell_type": "code",
      "metadata": {
        "id": "647dVfNFP8TP",
        "colab_type": "code",
        "colab": {
          "base_uri": "https://localhost:8080/",
          "height": 811
        },
        "outputId": "e1f46552-3e87-4b8b-8d6c-874b38886853"
      },
      "source": [
        "msno.matrix(df)"
      ],
      "execution_count": 16,
      "outputs": [
        {
          "output_type": "execute_result",
          "data": {
            "text/plain": [
              "<matplotlib.axes._subplots.AxesSubplot at 0x7f57df3b9ac8>"
            ]
          },
          "metadata": {
            "tags": []
          },
          "execution_count": 16
        },
        {
          "output_type": "display_data",
          "data": {
            "image/png": "[encoded data removed]",
            "text/plain": [
              "<Figure size 1800x720 with 2 Axes>"
            ]
          },
          "metadata": {
            "tags": []
          }
        }
      ]
    },
    {
      "cell_type": "code",
      "metadata": {
        "id": "M_2FSZ03QQ-2",
        "colab_type": "code",
        "colab": {
          "base_uri": "https://localhost:8080/",
          "height": 846
        },
        "outputId": "9478394d-cb45-4bd4-e841-82b68cfc1949"
      },
      "source": [
        "msno.bar(df)"
      ],
      "execution_count": 17,
      "outputs": [
        {
          "output_type": "execute_result",
          "data": {
            "text/plain": [
              "<matplotlib.axes._subplots.AxesSubplot at 0x7f57df30e240>"
            ]
          },
          "metadata": {
            "tags": []
          },
          "execution_count": 17
        },
        {
          "output_type": "display_data",
          "data": {
            "image/png": "[encoded data removed]",
            "text/plain": [
              "<Figure size 1728x720 with 3 Axes>"
            ]
          },
          "metadata": {
            "tags": []
          }
        }
      ]
    },
    {
      "cell_type": "code",
      "metadata": {
        "id": "gJwfk5ZLQXB_",
        "colab_type": "code",
        "colab": {
          "base_uri": "https://localhost:8080/",
          "height": 34
        },
        "outputId": "127e3367-723f-4bb8-9f41-acf0aaa73537"
      },
      "source": [
        "df.columns[df.isnull().any()].tolist()"
      ],
      "execution_count": 18,
      "outputs": [
        {
          "output_type": "execute_result",
          "data": {
            "text/plain": [
              "['CANCEL_WEEK_PRIOR', 'PRICE_PAID']"
            ]
          },
          "metadata": {
            "tags": []
          },
          "execution_count": 18
        }
      ]
    },
    {
      "cell_type": "code",
      "metadata": {
        "id": "CIEQWDkKQigx",
        "colab_type": "code",
        "colab": {
          "base_uri": "https://localhost:8080/",
          "height": 297
        },
        "outputId": "577c3c20-0809-408d-d687-0d6408b3aa0f"
      },
      "source": [
        "df.describe()"
      ],
      "execution_count": 19,
      "outputs": [
        {
          "output_type": "execute_result",
          "data": {
            "text/html": [
              "<div>\n",
              "<style scoped>\n",
              "    .dataframe tbody tr th:only-of-type {\n",
              "        vertical-align: middle;\n",
              "    }\n",
              "\n",
              "    .dataframe tbody tr th {\n",
              "        vertical-align: top;\n",
              "    }\n",
              "\n",
              "    .dataframe thead th {\n",
              "        text-align: right;\n",
              "    }\n",
              "</style>\n",
              "<table border=\"1\" class=\"dataframe\">\n",
              "  <thead>\n",
              "    <tr style=\"text-align: right;\">\n",
              "      <th></th>\n",
              "      <th>DURATION</th>\n",
              "      <th>BOOKING_WEEK_PRIOR</th>\n",
              "      <th>CANCEL_WEEK_PRIOR</th>\n",
              "      <th>PRICE_PAID</th>\n",
              "      <th>NO_OF_PEOPLE_ON_BOOKING</th>\n",
              "    </tr>\n",
              "  </thead>\n",
              "  <tbody>\n",
              "    <tr>\n",
              "      <th>count</th>\n",
              "      <td>3923.000000</td>\n",
              "      <td>3923.000000</td>\n",
              "      <td>1181.000000</td>\n",
              "      <td>3879.000000</td>\n",
              "      <td>3923.000000</td>\n",
              "    </tr>\n",
              "    <tr>\n",
              "      <th>mean</th>\n",
              "      <td>38.560795</td>\n",
              "      <td>44.458578</td>\n",
              "      <td>33.505504</td>\n",
              "      <td>6880.427288</td>\n",
              "      <td>1.874076</td>\n",
              "    </tr>\n",
              "    <tr>\n",
              "      <th>std</th>\n",
              "      <td>29.589354</td>\n",
              "      <td>24.667292</td>\n",
              "      <td>22.809514</td>\n",
              "      <td>24895.035017</td>\n",
              "      <td>0.356978</td>\n",
              "    </tr>\n",
              "    <tr>\n",
              "      <th>min</th>\n",
              "      <td>3.000000</td>\n",
              "      <td>-28.000000</td>\n",
              "      <td>0.000000</td>\n",
              "      <td>227.815477</td>\n",
              "      <td>1.000000</td>\n",
              "    </tr>\n",
              "    <tr>\n",
              "      <th>25%</th>\n",
              "      <td>19.000000</td>\n",
              "      <td>27.000000</td>\n",
              "      <td>16.000000</td>\n",
              "      <td>2215.415923</td>\n",
              "      <td>2.000000</td>\n",
              "    </tr>\n",
              "    <tr>\n",
              "      <th>50%</th>\n",
              "      <td>24.000000</td>\n",
              "      <td>40.000000</td>\n",
              "      <td>28.000000</td>\n",
              "      <td>3599.598896</td>\n",
              "      <td>2.000000</td>\n",
              "    </tr>\n",
              "    <tr>\n",
              "      <th>75%</th>\n",
              "      <td>47.000000</td>\n",
              "      <td>58.000000</td>\n",
              "      <td>44.000000</td>\n",
              "      <td>7540.441109</td>\n",
              "      <td>2.000000</td>\n",
              "    </tr>\n",
              "    <tr>\n",
              "      <th>max</th>\n",
              "      <td>99.000000</td>\n",
              "      <td>109.000000</td>\n",
              "      <td>109.000000</td>\n",
              "      <td>734128.243300</td>\n",
              "      <td>4.000000</td>\n",
              "    </tr>\n",
              "  </tbody>\n",
              "</table>\n",
              "</div>"
            ],
            "text/plain": [
              "          DURATION  BOOKING_WEEK_PRIOR  ...     PRICE_PAID  NO_OF_PEOPLE_ON_BOOKING\n",
              "count  3923.000000         3923.000000  ...    3879.000000              3923.000000\n",
              "mean     38.560795           44.458578  ...    6880.427288                 1.874076\n",
              "std      29.589354           24.667292  ...   24895.035017                 0.356978\n",
              "min       3.000000          -28.000000  ...     227.815477                 1.000000\n",
              "25%      19.000000           27.000000  ...    2215.415923                 2.000000\n",
              "50%      24.000000           40.000000  ...    3599.598896                 2.000000\n",
              "75%      47.000000           58.000000  ...    7540.441109                 2.000000\n",
              "max      99.000000          109.000000  ...  734128.243300                 4.000000\n",
              "\n",
              "[8 rows x 5 columns]"
            ]
          },
          "metadata": {
            "tags": []
          },
          "execution_count": 19
        }
      ]
    },
    {
      "cell_type": "code",
      "metadata": {
        "id": "NVPWLAVpQo2g",
        "colab_type": "code",
        "colab": {
          "base_uri": "https://localhost:8080/",
          "height": 117
        },
        "outputId": "e53eae8c-d8f2-496c-a706-e35079ae967a"
      },
      "source": [
        "df.loc[[0]]"
      ],
      "execution_count": 20,
      "outputs": [
        {
          "output_type": "execute_result",
          "data": {
            "text/html": [
              "<div>\n",
              "<style scoped>\n",
              "    .dataframe tbody tr th:only-of-type {\n",
              "        vertical-align: middle;\n",
              "    }\n",
              "\n",
              "    .dataframe tbody tr th {\n",
              "        vertical-align: top;\n",
              "    }\n",
              "\n",
              "    .dataframe thead th {\n",
              "        text-align: right;\n",
              "    }\n",
              "</style>\n",
              "<table border=\"1\" class=\"dataframe\">\n",
              "  <thead>\n",
              "    <tr style=\"text-align: right;\">\n",
              "      <th></th>\n",
              "      <th>ROUTE</th>\n",
              "      <th>EMBARK_PORT</th>\n",
              "      <th>DISEMBARK_PORT</th>\n",
              "      <th>CABIN_TYPE</th>\n",
              "      <th>DURATION</th>\n",
              "      <th>CRUISE_REGION</th>\n",
              "      <th>BOOKING_WEEK_PRIOR</th>\n",
              "      <th>CANCEL_WEEK_PRIOR</th>\n",
              "      <th>EMBARK_REGION</th>\n",
              "      <th>DEBARK_REGION</th>\n",
              "      <th>PRICE_PAID</th>\n",
              "      <th>NO_OF_PEOPLE_ON_BOOKING</th>\n",
              "    </tr>\n",
              "  </thead>\n",
              "  <tbody>\n",
              "    <tr>\n",
              "      <th>0</th>\n",
              "      <td>SOU-AKL</td>\n",
              "      <td>SOU</td>\n",
              "      <td>AKL</td>\n",
              "      <td>O</td>\n",
              "      <td>40</td>\n",
              "      <td>West Bound</td>\n",
              "      <td>33</td>\n",
              "      <td>33.0</td>\n",
              "      <td>UK</td>\n",
              "      <td>New Zealand</td>\n",
              "      <td>2811.127882</td>\n",
              "      <td>2</td>\n",
              "    </tr>\n",
              "  </tbody>\n",
              "</table>\n",
              "</div>"
            ],
            "text/plain": [
              "     ROUTE EMBARK_PORT  ...   PRICE_PAID NO_OF_PEOPLE_ON_BOOKING\n",
              "0  SOU-AKL         SOU  ...  2811.127882                       2\n",
              "\n",
              "[1 rows x 12 columns]"
            ]
          },
          "metadata": {
            "tags": []
          },
          "execution_count": 20
        }
      ]
    },
    {
      "cell_type": "code",
      "metadata": {
        "id": "BtR9_bks_cb4",
        "colab_type": "code",
        "colab": {
          "base_uri": "https://localhost:8080/",
          "height": 261
        },
        "outputId": "a6008deb-e9dc-4da8-bffa-0dd4dca2e402"
      },
      "source": [
        "df.loc[30:33]"
      ],
      "execution_count": 21,
      "outputs": [
        {
          "output_type": "execute_result",
          "data": {
            "text/html": [
              "<div>\n",
              "<style scoped>\n",
              "    .dataframe tbody tr th:only-of-type {\n",
              "        vertical-align: middle;\n",
              "    }\n",
              "\n",
              "    .dataframe tbody tr th {\n",
              "        vertical-align: top;\n",
              "    }\n",
              "\n",
              "    .dataframe thead th {\n",
              "        text-align: right;\n",
              "    }\n",
              "</style>\n",
              "<table border=\"1\" class=\"dataframe\">\n",
              "  <thead>\n",
              "    <tr style=\"text-align: right;\">\n",
              "      <th></th>\n",
              "      <th>ROUTE</th>\n",
              "      <th>EMBARK_PORT</th>\n",
              "      <th>DISEMBARK_PORT</th>\n",
              "      <th>CABIN_TYPE</th>\n",
              "      <th>DURATION</th>\n",
              "      <th>CRUISE_REGION</th>\n",
              "      <th>BOOKING_WEEK_PRIOR</th>\n",
              "      <th>CANCEL_WEEK_PRIOR</th>\n",
              "      <th>EMBARK_REGION</th>\n",
              "      <th>DEBARK_REGION</th>\n",
              "      <th>PRICE_PAID</th>\n",
              "      <th>NO_OF_PEOPLE_ON_BOOKING</th>\n",
              "    </tr>\n",
              "  </thead>\n",
              "  <tbody>\n",
              "    <tr>\n",
              "      <th>30</th>\n",
              "      <td>AKL-SYD</td>\n",
              "      <td>AKL</td>\n",
              "      <td>SYD</td>\n",
              "      <td>I</td>\n",
              "      <td>4</td>\n",
              "      <td>New Zealand</td>\n",
              "      <td>22</td>\n",
              "      <td>NaN</td>\n",
              "      <td>New Zealand</td>\n",
              "      <td>Australia - New South Wales</td>\n",
              "      <td>263.892741</td>\n",
              "      <td>2</td>\n",
              "    </tr>\n",
              "    <tr>\n",
              "      <th>31</th>\n",
              "      <td>AKL-SYD</td>\n",
              "      <td>AKL</td>\n",
              "      <td>SYD</td>\n",
              "      <td>I</td>\n",
              "      <td>4</td>\n",
              "      <td>New Zealand</td>\n",
              "      <td>21</td>\n",
              "      <td>20.0</td>\n",
              "      <td>New Zealand</td>\n",
              "      <td>Australia - New South Wales</td>\n",
              "      <td>391.742298</td>\n",
              "      <td>1</td>\n",
              "    </tr>\n",
              "    <tr>\n",
              "      <th>32</th>\n",
              "      <td>AKL-SYD</td>\n",
              "      <td>AKL</td>\n",
              "      <td>SYD</td>\n",
              "      <td>B</td>\n",
              "      <td>4</td>\n",
              "      <td>New Zealand</td>\n",
              "      <td>17</td>\n",
              "      <td>16.0</td>\n",
              "      <td>New Zealand</td>\n",
              "      <td>Australia - New South Wales</td>\n",
              "      <td>489.909066</td>\n",
              "      <td>2</td>\n",
              "    </tr>\n",
              "    <tr>\n",
              "      <th>33</th>\n",
              "      <td>SOU-SYD</td>\n",
              "      <td>SOU</td>\n",
              "      <td>SYD</td>\n",
              "      <td>B</td>\n",
              "      <td>44</td>\n",
              "      <td>West Bound</td>\n",
              "      <td>37</td>\n",
              "      <td>NaN</td>\n",
              "      <td>UK</td>\n",
              "      <td>Australia - New South Wales</td>\n",
              "      <td>7791.809193</td>\n",
              "      <td>2</td>\n",
              "    </tr>\n",
              "  </tbody>\n",
              "</table>\n",
              "</div>"
            ],
            "text/plain": [
              "      ROUTE EMBARK_PORT  ...   PRICE_PAID NO_OF_PEOPLE_ON_BOOKING\n",
              "30  AKL-SYD         AKL  ...   263.892741                       2\n",
              "31  AKL-SYD         AKL  ...   391.742298                       1\n",
              "32  AKL-SYD         AKL  ...   489.909066                       2\n",
              "33  SOU-SYD         SOU  ...  7791.809193                       2\n",
              "\n",
              "[4 rows x 12 columns]"
            ]
          },
          "metadata": {
            "tags": []
          },
          "execution_count": 21
        }
      ]
    },
    {
      "cell_type": "code",
      "metadata": {
        "id": "Lfh72YiYAPek",
        "colab_type": "code",
        "colab": {
          "base_uri": "https://localhost:8080/",
          "height": 309
        },
        "outputId": "130fb765-02da-4229-a7b1-9bcf4b96552a"
      },
      "source": [
        "df.drop([0,24,51], axis=0).head()"
      ],
      "execution_count": 22,
      "outputs": [
        {
          "output_type": "execute_result",
          "data": {
            "text/html": [
              "<div>\n",
              "<style scoped>\n",
              "    .dataframe tbody tr th:only-of-type {\n",
              "        vertical-align: middle;\n",
              "    }\n",
              "\n",
              "    .dataframe tbody tr th {\n",
              "        vertical-align: top;\n",
              "    }\n",
              "\n",
              "    .dataframe thead th {\n",
              "        text-align: right;\n",
              "    }\n",
              "</style>\n",
              "<table border=\"1\" class=\"dataframe\">\n",
              "  <thead>\n",
              "    <tr style=\"text-align: right;\">\n",
              "      <th></th>\n",
              "      <th>ROUTE</th>\n",
              "      <th>EMBARK_PORT</th>\n",
              "      <th>DISEMBARK_PORT</th>\n",
              "      <th>CABIN_TYPE</th>\n",
              "      <th>DURATION</th>\n",
              "      <th>CRUISE_REGION</th>\n",
              "      <th>BOOKING_WEEK_PRIOR</th>\n",
              "      <th>CANCEL_WEEK_PRIOR</th>\n",
              "      <th>EMBARK_REGION</th>\n",
              "      <th>DEBARK_REGION</th>\n",
              "      <th>PRICE_PAID</th>\n",
              "      <th>NO_OF_PEOPLE_ON_BOOKING</th>\n",
              "    </tr>\n",
              "  </thead>\n",
              "  <tbody>\n",
              "    <tr>\n",
              "      <th>1</th>\n",
              "      <td>SOU-AKL</td>\n",
              "      <td>SOU</td>\n",
              "      <td>AKL</td>\n",
              "      <td>O</td>\n",
              "      <td>40</td>\n",
              "      <td>West Bound</td>\n",
              "      <td>45</td>\n",
              "      <td>NaN</td>\n",
              "      <td>UK</td>\n",
              "      <td>New Zealand</td>\n",
              "      <td>5171.396346</td>\n",
              "      <td>2</td>\n",
              "    </tr>\n",
              "    <tr>\n",
              "      <th>2</th>\n",
              "      <td>SOU-AKL</td>\n",
              "      <td>SOU</td>\n",
              "      <td>AKL</td>\n",
              "      <td>B</td>\n",
              "      <td>40</td>\n",
              "      <td>West Bound</td>\n",
              "      <td>42</td>\n",
              "      <td>NaN</td>\n",
              "      <td>UK</td>\n",
              "      <td>New Zealand</td>\n",
              "      <td>6343.673826</td>\n",
              "      <td>2</td>\n",
              "    </tr>\n",
              "    <tr>\n",
              "      <th>3</th>\n",
              "      <td>SOU-BNE</td>\n",
              "      <td>SOU</td>\n",
              "      <td>BNE</td>\n",
              "      <td>B</td>\n",
              "      <td>47</td>\n",
              "      <td>West Bound</td>\n",
              "      <td>36</td>\n",
              "      <td>35.0</td>\n",
              "      <td>UK</td>\n",
              "      <td>Australia - Queensland</td>\n",
              "      <td>9784.513217</td>\n",
              "      <td>2</td>\n",
              "    </tr>\n",
              "    <tr>\n",
              "      <th>4</th>\n",
              "      <td>SOU-SFO</td>\n",
              "      <td>SOU</td>\n",
              "      <td>SFO</td>\n",
              "      <td>B</td>\n",
              "      <td>24</td>\n",
              "      <td>Panama Canal</td>\n",
              "      <td>57</td>\n",
              "      <td>NaN</td>\n",
              "      <td>UK</td>\n",
              "      <td>USA - West Coast</td>\n",
              "      <td>4182.892388</td>\n",
              "      <td>2</td>\n",
              "    </tr>\n",
              "    <tr>\n",
              "      <th>5</th>\n",
              "      <td>SOU-SFO</td>\n",
              "      <td>SOU</td>\n",
              "      <td>SFO</td>\n",
              "      <td>B</td>\n",
              "      <td>24</td>\n",
              "      <td>Panama Canal</td>\n",
              "      <td>15</td>\n",
              "      <td>NaN</td>\n",
              "      <td>UK</td>\n",
              "      <td>USA - West Coast</td>\n",
              "      <td>3520.268517</td>\n",
              "      <td>2</td>\n",
              "    </tr>\n",
              "  </tbody>\n",
              "</table>\n",
              "</div>"
            ],
            "text/plain": [
              "     ROUTE EMBARK_PORT  ...   PRICE_PAID NO_OF_PEOPLE_ON_BOOKING\n",
              "1  SOU-AKL         SOU  ...  5171.396346                       2\n",
              "2  SOU-AKL         SOU  ...  6343.673826                       2\n",
              "3  SOU-BNE         SOU  ...  9784.513217                       2\n",
              "4  SOU-SFO         SOU  ...  4182.892388                       2\n",
              "5  SOU-SFO         SOU  ...  3520.268517                       2\n",
              "\n",
              "[5 rows x 12 columns]"
            ]
          },
          "metadata": {
            "tags": []
          },
          "execution_count": 22
        }
      ]
    },
    {
      "cell_type": "code",
      "metadata": {
        "id": "dbzjdf3zAXd4",
        "colab_type": "code",
        "colab": {
          "base_uri": "https://localhost:8080/",
          "height": 549
        },
        "outputId": "66cb89e9-a513-4ab3-8627-6b74d42a62ac"
      },
      "source": [
        "df.drop(df.index[1:5], axis=0).head(10)"
      ],
      "execution_count": 23,
      "outputs": [
        {
          "output_type": "execute_result",
          "data": {
            "text/html": [
              "<div>\n",
              "<style scoped>\n",
              "    .dataframe tbody tr th:only-of-type {\n",
              "        vertical-align: middle;\n",
              "    }\n",
              "\n",
              "    .dataframe tbody tr th {\n",
              "        vertical-align: top;\n",
              "    }\n",
              "\n",
              "    .dataframe thead th {\n",
              "        text-align: right;\n",
              "    }\n",
              "</style>\n",
              "<table border=\"1\" class=\"dataframe\">\n",
              "  <thead>\n",
              "    <tr style=\"text-align: right;\">\n",
              "      <th></th>\n",
              "      <th>ROUTE</th>\n",
              "      <th>EMBARK_PORT</th>\n",
              "      <th>DISEMBARK_PORT</th>\n",
              "      <th>CABIN_TYPE</th>\n",
              "      <th>DURATION</th>\n",
              "      <th>CRUISE_REGION</th>\n",
              "      <th>BOOKING_WEEK_PRIOR</th>\n",
              "      <th>CANCEL_WEEK_PRIOR</th>\n",
              "      <th>EMBARK_REGION</th>\n",
              "      <th>DEBARK_REGION</th>\n",
              "      <th>PRICE_PAID</th>\n",
              "      <th>NO_OF_PEOPLE_ON_BOOKING</th>\n",
              "    </tr>\n",
              "  </thead>\n",
              "  <tbody>\n",
              "    <tr>\n",
              "      <th>0</th>\n",
              "      <td>SOU-AKL</td>\n",
              "      <td>SOU</td>\n",
              "      <td>AKL</td>\n",
              "      <td>O</td>\n",
              "      <td>40</td>\n",
              "      <td>West Bound</td>\n",
              "      <td>33</td>\n",
              "      <td>33.0</td>\n",
              "      <td>UK</td>\n",
              "      <td>New Zealand</td>\n",
              "      <td>2811.127882</td>\n",
              "      <td>2</td>\n",
              "    </tr>\n",
              "    <tr>\n",
              "      <th>5</th>\n",
              "      <td>SOU-SFO</td>\n",
              "      <td>SOU</td>\n",
              "      <td>SFO</td>\n",
              "      <td>B</td>\n",
              "      <td>24</td>\n",
              "      <td>Panama Canal</td>\n",
              "      <td>15</td>\n",
              "      <td>NaN</td>\n",
              "      <td>UK</td>\n",
              "      <td>USA - West Coast</td>\n",
              "      <td>3520.268517</td>\n",
              "      <td>2</td>\n",
              "    </tr>\n",
              "    <tr>\n",
              "      <th>6</th>\n",
              "      <td>SOU-SFO</td>\n",
              "      <td>SOU</td>\n",
              "      <td>SFO</td>\n",
              "      <td>I</td>\n",
              "      <td>24</td>\n",
              "      <td>Panama Canal</td>\n",
              "      <td>4</td>\n",
              "      <td>NaN</td>\n",
              "      <td>UK</td>\n",
              "      <td>USA - West Coast</td>\n",
              "      <td>NaN</td>\n",
              "      <td>2</td>\n",
              "    </tr>\n",
              "    <tr>\n",
              "      <th>7</th>\n",
              "      <td>SOU-SFO</td>\n",
              "      <td>SOU</td>\n",
              "      <td>SFO</td>\n",
              "      <td>B</td>\n",
              "      <td>24</td>\n",
              "      <td>Panama Canal</td>\n",
              "      <td>30</td>\n",
              "      <td>NaN</td>\n",
              "      <td>UK</td>\n",
              "      <td>USA - West Coast</td>\n",
              "      <td>4446.411278</td>\n",
              "      <td>2</td>\n",
              "    </tr>\n",
              "    <tr>\n",
              "      <th>8</th>\n",
              "      <td>SOU-SOU</td>\n",
              "      <td>SOU</td>\n",
              "      <td>SOU</td>\n",
              "      <td>I</td>\n",
              "      <td>99</td>\n",
              "      <td>West Bound</td>\n",
              "      <td>74</td>\n",
              "      <td>73.0</td>\n",
              "      <td>UK</td>\n",
              "      <td>UK</td>\n",
              "      <td>11110.103530</td>\n",
              "      <td>2</td>\n",
              "    </tr>\n",
              "    <tr>\n",
              "      <th>9</th>\n",
              "      <td>SOU-SOU</td>\n",
              "      <td>SOU</td>\n",
              "      <td>SOU</td>\n",
              "      <td>B</td>\n",
              "      <td>99</td>\n",
              "      <td>West Bound</td>\n",
              "      <td>69</td>\n",
              "      <td>48.0</td>\n",
              "      <td>UK</td>\n",
              "      <td>UK</td>\n",
              "      <td>16925.328560</td>\n",
              "      <td>2</td>\n",
              "    </tr>\n",
              "    <tr>\n",
              "      <th>10</th>\n",
              "      <td>SOU-SOU</td>\n",
              "      <td>SOU</td>\n",
              "      <td>SOU</td>\n",
              "      <td>B</td>\n",
              "      <td>99</td>\n",
              "      <td>West Bound</td>\n",
              "      <td>80</td>\n",
              "      <td>15.0</td>\n",
              "      <td>UK</td>\n",
              "      <td>UK</td>\n",
              "      <td>16168.111880</td>\n",
              "      <td>2</td>\n",
              "    </tr>\n",
              "    <tr>\n",
              "      <th>11</th>\n",
              "      <td>SOU-SOU</td>\n",
              "      <td>SOU</td>\n",
              "      <td>SOU</td>\n",
              "      <td>S</td>\n",
              "      <td>99</td>\n",
              "      <td>West Bound</td>\n",
              "      <td>53</td>\n",
              "      <td>NaN</td>\n",
              "      <td>UK</td>\n",
              "      <td>UK</td>\n",
              "      <td>723245.938400</td>\n",
              "      <td>2</td>\n",
              "    </tr>\n",
              "    <tr>\n",
              "      <th>12</th>\n",
              "      <td>SOU-BNE</td>\n",
              "      <td>SOU</td>\n",
              "      <td>BNE</td>\n",
              "      <td>B</td>\n",
              "      <td>47</td>\n",
              "      <td>West Bound</td>\n",
              "      <td>33</td>\n",
              "      <td>NaN</td>\n",
              "      <td>UK</td>\n",
              "      <td>Australia - Queensland</td>\n",
              "      <td>6306.255232</td>\n",
              "      <td>2</td>\n",
              "    </tr>\n",
              "    <tr>\n",
              "      <th>13</th>\n",
              "      <td>SOU-BNE</td>\n",
              "      <td>SOU</td>\n",
              "      <td>BNE</td>\n",
              "      <td>B</td>\n",
              "      <td>47</td>\n",
              "      <td>West Bound</td>\n",
              "      <td>45</td>\n",
              "      <td>NaN</td>\n",
              "      <td>UK</td>\n",
              "      <td>Australia - Queensland</td>\n",
              "      <td>6358.737606</td>\n",
              "      <td>2</td>\n",
              "    </tr>\n",
              "  </tbody>\n",
              "</table>\n",
              "</div>"
            ],
            "text/plain": [
              "      ROUTE EMBARK_PORT  ...     PRICE_PAID NO_OF_PEOPLE_ON_BOOKING\n",
              "0   SOU-AKL         SOU  ...    2811.127882                       2\n",
              "5   SOU-SFO         SOU  ...    3520.268517                       2\n",
              "6   SOU-SFO         SOU  ...            NaN                       2\n",
              "7   SOU-SFO         SOU  ...    4446.411278                       2\n",
              "8   SOU-SOU         SOU  ...   11110.103530                       2\n",
              "9   SOU-SOU         SOU  ...   16925.328560                       2\n",
              "10  SOU-SOU         SOU  ...   16168.111880                       2\n",
              "11  SOU-SOU         SOU  ...  723245.938400                       2\n",
              "12  SOU-BNE         SOU  ...    6306.255232                       2\n",
              "13  SOU-BNE         SOU  ...    6358.737606                       2\n",
              "\n",
              "[10 rows x 12 columns]"
            ]
          },
          "metadata": {
            "tags": []
          },
          "execution_count": 23
        }
      ]
    },
    {
      "cell_type": "code",
      "metadata": {
        "id": "ifVBvsxdAfM4",
        "colab_type": "code",
        "colab": {
          "base_uri": "https://localhost:8080/",
          "height": 309
        },
        "outputId": "b686f30c-5efc-40e7-c95d-c9c7e245446c"
      },
      "source": [
        "df[100:].head() #df.tail(-100) )"
      ],
      "execution_count": 24,
      "outputs": [
        {
          "output_type": "execute_result",
          "data": {
            "text/html": [
              "<div>\n",
              "<style scoped>\n",
              "    .dataframe tbody tr th:only-of-type {\n",
              "        vertical-align: middle;\n",
              "    }\n",
              "\n",
              "    .dataframe tbody tr th {\n",
              "        vertical-align: top;\n",
              "    }\n",
              "\n",
              "    .dataframe thead th {\n",
              "        text-align: right;\n",
              "    }\n",
              "</style>\n",
              "<table border=\"1\" class=\"dataframe\">\n",
              "  <thead>\n",
              "    <tr style=\"text-align: right;\">\n",
              "      <th></th>\n",
              "      <th>ROUTE</th>\n",
              "      <th>EMBARK_PORT</th>\n",
              "      <th>DISEMBARK_PORT</th>\n",
              "      <th>CABIN_TYPE</th>\n",
              "      <th>DURATION</th>\n",
              "      <th>CRUISE_REGION</th>\n",
              "      <th>BOOKING_WEEK_PRIOR</th>\n",
              "      <th>CANCEL_WEEK_PRIOR</th>\n",
              "      <th>EMBARK_REGION</th>\n",
              "      <th>DEBARK_REGION</th>\n",
              "      <th>PRICE_PAID</th>\n",
              "      <th>NO_OF_PEOPLE_ON_BOOKING</th>\n",
              "    </tr>\n",
              "  </thead>\n",
              "  <tbody>\n",
              "    <tr>\n",
              "      <th>100</th>\n",
              "      <td>SOU-SOU</td>\n",
              "      <td>SOU</td>\n",
              "      <td>SOU</td>\n",
              "      <td>S</td>\n",
              "      <td>99</td>\n",
              "      <td>West Bound</td>\n",
              "      <td>93</td>\n",
              "      <td>NaN</td>\n",
              "      <td>UK</td>\n",
              "      <td>UK</td>\n",
              "      <td>20782.847910</td>\n",
              "      <td>2</td>\n",
              "    </tr>\n",
              "    <tr>\n",
              "      <th>101</th>\n",
              "      <td>SFO-SYD</td>\n",
              "      <td>SFO</td>\n",
              "      <td>SYD</td>\n",
              "      <td>I</td>\n",
              "      <td>20</td>\n",
              "      <td>South Pacific</td>\n",
              "      <td>50</td>\n",
              "      <td>NaN</td>\n",
              "      <td>USA - West Coast</td>\n",
              "      <td>Australia - New South Wales</td>\n",
              "      <td>3021.662164</td>\n",
              "      <td>2</td>\n",
              "    </tr>\n",
              "    <tr>\n",
              "      <th>102</th>\n",
              "      <td>SFO-SYD</td>\n",
              "      <td>SFO</td>\n",
              "      <td>SYD</td>\n",
              "      <td>B</td>\n",
              "      <td>20</td>\n",
              "      <td>South Pacific</td>\n",
              "      <td>49</td>\n",
              "      <td>15.0</td>\n",
              "      <td>USA - West Coast</td>\n",
              "      <td>Australia - New South Wales</td>\n",
              "      <td>3804.307380</td>\n",
              "      <td>2</td>\n",
              "    </tr>\n",
              "    <tr>\n",
              "      <th>103</th>\n",
              "      <td>SFO-SYD</td>\n",
              "      <td>SFO</td>\n",
              "      <td>SYD</td>\n",
              "      <td>I</td>\n",
              "      <td>20</td>\n",
              "      <td>South Pacific</td>\n",
              "      <td>30</td>\n",
              "      <td>NaN</td>\n",
              "      <td>USA - West Coast</td>\n",
              "      <td>Australia - New South Wales</td>\n",
              "      <td>1201.146414</td>\n",
              "      <td>2</td>\n",
              "    </tr>\n",
              "    <tr>\n",
              "      <th>104</th>\n",
              "      <td>SOU-SOU</td>\n",
              "      <td>SOU</td>\n",
              "      <td>SOU</td>\n",
              "      <td>S</td>\n",
              "      <td>99</td>\n",
              "      <td>West Bound</td>\n",
              "      <td>91</td>\n",
              "      <td>51.0</td>\n",
              "      <td>UK</td>\n",
              "      <td>UK</td>\n",
              "      <td>25484.588340</td>\n",
              "      <td>2</td>\n",
              "    </tr>\n",
              "  </tbody>\n",
              "</table>\n",
              "</div>"
            ],
            "text/plain": [
              "       ROUTE EMBARK_PORT  ...    PRICE_PAID NO_OF_PEOPLE_ON_BOOKING\n",
              "100  SOU-SOU         SOU  ...  20782.847910                       2\n",
              "101  SFO-SYD         SFO  ...   3021.662164                       2\n",
              "102  SFO-SYD         SFO  ...   3804.307380                       2\n",
              "103  SFO-SYD         SFO  ...   1201.146414                       2\n",
              "104  SOU-SOU         SOU  ...  25484.588340                       2\n",
              "\n",
              "[5 rows x 12 columns]"
            ]
          },
          "metadata": {
            "tags": []
          },
          "execution_count": 24
        }
      ]
    },
    {
      "cell_type": "code",
      "metadata": {
        "id": "717nCf7fAq-F",
        "colab_type": "code",
        "colab": {
          "base_uri": "https://localhost:8080/",
          "height": 34
        },
        "outputId": "51446c26-677e-4566-adab-9f5a5791c509"
      },
      "source": [
        "df.NO_OF_PEOPLE_ON_BOOKING.values"
      ],
      "execution_count": 27,
      "outputs": [
        {
          "output_type": "execute_result",
          "data": {
            "text/plain": [
              "array([2, 2, 2, ..., 2, 2, 2])"
            ]
          },
          "metadata": {
            "tags": []
          },
          "execution_count": 27
        }
      ]
    },
    {
      "cell_type": "code",
      "metadata": {
        "id": "n0Ba5h8sBsAD",
        "colab_type": "code",
        "colab": {
          "base_uri": "https://localhost:8080/",
          "height": 34
        },
        "outputId": "427c516d-e077-4b57-ad32-c85cd0c4febf"
      },
      "source": [
        "df['NO_OF_PEOPLE_ON_BOOKING'].values"
      ],
      "execution_count": 28,
      "outputs": [
        {
          "output_type": "execute_result",
          "data": {
            "text/plain": [
              "array([2, 2, 2, ..., 2, 2, 2])"
            ]
          },
          "metadata": {
            "tags": []
          },
          "execution_count": 28
        }
      ]
    },
    {
      "cell_type": "code",
      "metadata": {
        "id": "AG8Nlu1fB02v",
        "colab_type": "code",
        "colab": {
          "base_uri": "https://localhost:8080/",
          "height": 34
        },
        "outputId": "71ff44f6-12fa-43d3-85be-1f98d00862ea"
      },
      "source": [
        "df.NO_OF_PEOPLE_ON_BOOKING.unique()"
      ],
      "execution_count": 29,
      "outputs": [
        {
          "output_type": "execute_result",
          "data": {
            "text/plain": [
              "array([2, 1, 3, 4])"
            ]
          },
          "metadata": {
            "tags": []
          },
          "execution_count": 29
        }
      ]
    },
    {
      "cell_type": "code",
      "metadata": {
        "id": "HGzh3I1OB96m",
        "colab_type": "code",
        "colab": {
          "base_uri": "https://localhost:8080/",
          "height": 102
        },
        "outputId": "8edb66c7-74e8-4267-c9ab-993bc031f704"
      },
      "source": [
        "df.NO_OF_PEOPLE_ON_BOOKING.value_counts()"
      ],
      "execution_count": 30,
      "outputs": [
        {
          "output_type": "execute_result",
          "data": {
            "text/plain": [
              "2    3370\n",
              "1     525\n",
              "3      25\n",
              "4       3\n",
              "Name: NO_OF_PEOPLE_ON_BOOKING, dtype: int64"
            ]
          },
          "metadata": {
            "tags": []
          },
          "execution_count": 30
        }
      ]
    },
    {
      "cell_type": "code",
      "metadata": {
        "id": "_c2BlGa_CJr_",
        "colab_type": "code",
        "colab": {
          "base_uri": "https://localhost:8080/",
          "height": 162
        },
        "outputId": "959e25f7-d8ef-4a41-e7c0-6473887a5104"
      },
      "source": [
        "df.agg(['count', 'size', 'nunique'])"
      ],
      "execution_count": 31,
      "outputs": [
        {
          "output_type": "execute_result",
          "data": {
            "text/html": [
              "<div>\n",
              "<style scoped>\n",
              "    .dataframe tbody tr th:only-of-type {\n",
              "        vertical-align: middle;\n",
              "    }\n",
              "\n",
              "    .dataframe tbody tr th {\n",
              "        vertical-align: top;\n",
              "    }\n",
              "\n",
              "    .dataframe thead th {\n",
              "        text-align: right;\n",
              "    }\n",
              "</style>\n",
              "<table border=\"1\" class=\"dataframe\">\n",
              "  <thead>\n",
              "    <tr style=\"text-align: right;\">\n",
              "      <th></th>\n",
              "      <th>ROUTE</th>\n",
              "      <th>EMBARK_PORT</th>\n",
              "      <th>DISEMBARK_PORT</th>\n",
              "      <th>CABIN_TYPE</th>\n",
              "      <th>DURATION</th>\n",
              "      <th>CRUISE_REGION</th>\n",
              "      <th>BOOKING_WEEK_PRIOR</th>\n",
              "      <th>CANCEL_WEEK_PRIOR</th>\n",
              "      <th>EMBARK_REGION</th>\n",
              "      <th>DEBARK_REGION</th>\n",
              "      <th>PRICE_PAID</th>\n",
              "      <th>NO_OF_PEOPLE_ON_BOOKING</th>\n",
              "    </tr>\n",
              "  </thead>\n",
              "  <tbody>\n",
              "    <tr>\n",
              "      <th>count</th>\n",
              "      <td>3923</td>\n",
              "      <td>3923</td>\n",
              "      <td>3923</td>\n",
              "      <td>3923</td>\n",
              "      <td>3923</td>\n",
              "      <td>3923</td>\n",
              "      <td>3923</td>\n",
              "      <td>1181</td>\n",
              "      <td>3923</td>\n",
              "      <td>3923</td>\n",
              "      <td>3879</td>\n",
              "      <td>3923</td>\n",
              "    </tr>\n",
              "    <tr>\n",
              "      <th>size</th>\n",
              "      <td>3923</td>\n",
              "      <td>3923</td>\n",
              "      <td>3923</td>\n",
              "      <td>3923</td>\n",
              "      <td>3923</td>\n",
              "      <td>3923</td>\n",
              "      <td>3923</td>\n",
              "      <td>3923</td>\n",
              "      <td>3923</td>\n",
              "      <td>3923</td>\n",
              "      <td>3923</td>\n",
              "      <td>3923</td>\n",
              "    </tr>\n",
              "    <tr>\n",
              "      <th>nunique</th>\n",
              "      <td>28</td>\n",
              "      <td>8</td>\n",
              "      <td>8</td>\n",
              "      <td>4</td>\n",
              "      <td>24</td>\n",
              "      <td>10</td>\n",
              "      <td>111</td>\n",
              "      <td>104</td>\n",
              "      <td>8</td>\n",
              "      <td>8</td>\n",
              "      <td>3879</td>\n",
              "      <td>4</td>\n",
              "    </tr>\n",
              "  </tbody>\n",
              "</table>\n",
              "</div>"
            ],
            "text/plain": [
              "         ROUTE  EMBARK_PORT  ...  PRICE_PAID  NO_OF_PEOPLE_ON_BOOKING\n",
              "count     3923         3923  ...        3879                     3923\n",
              "size      3923         3923  ...        3923                     3923\n",
              "nunique     28            8  ...        3879                        4\n",
              "\n",
              "[3 rows x 12 columns]"
            ]
          },
          "metadata": {
            "tags": []
          },
          "execution_count": 31
        }
      ]
    },
    {
      "cell_type": "code",
      "metadata": {
        "id": "fTA5j8hhCYq4",
        "colab_type": "code",
        "colab": {
          "base_uri": "https://localhost:8080/",
          "height": 472
        },
        "outputId": "53559afc-5003-4f2f-a91a-b658ec4fdccf"
      },
      "source": [
        "df.groupby('NO_OF_PEOPLE_ON_BOOKING').agg(['count', 'size', 'nunique']).stack()"
      ],
      "execution_count": 32,
      "outputs": [
        {
          "output_type": "execute_result",
          "data": {
            "text/html": [
              "<div>\n",
              "<style scoped>\n",
              "    .dataframe tbody tr th:only-of-type {\n",
              "        vertical-align: middle;\n",
              "    }\n",
              "\n",
              "    .dataframe tbody tr th {\n",
              "        vertical-align: top;\n",
              "    }\n",
              "\n",
              "    .dataframe thead th {\n",
              "        text-align: right;\n",
              "    }\n",
              "</style>\n",
              "<table border=\"1\" class=\"dataframe\">\n",
              "  <thead>\n",
              "    <tr style=\"text-align: right;\">\n",
              "      <th></th>\n",
              "      <th></th>\n",
              "      <th>ROUTE</th>\n",
              "      <th>EMBARK_PORT</th>\n",
              "      <th>DISEMBARK_PORT</th>\n",
              "      <th>CABIN_TYPE</th>\n",
              "      <th>DURATION</th>\n",
              "      <th>CRUISE_REGION</th>\n",
              "      <th>BOOKING_WEEK_PRIOR</th>\n",
              "      <th>CANCEL_WEEK_PRIOR</th>\n",
              "      <th>EMBARK_REGION</th>\n",
              "      <th>DEBARK_REGION</th>\n",
              "      <th>PRICE_PAID</th>\n",
              "    </tr>\n",
              "    <tr>\n",
              "      <th>NO_OF_PEOPLE_ON_BOOKING</th>\n",
              "      <th></th>\n",
              "      <th></th>\n",
              "      <th></th>\n",
              "      <th></th>\n",
              "      <th></th>\n",
              "      <th></th>\n",
              "      <th></th>\n",
              "      <th></th>\n",
              "      <th></th>\n",
              "      <th></th>\n",
              "      <th></th>\n",
              "      <th></th>\n",
              "    </tr>\n",
              "  </thead>\n",
              "  <tbody>\n",
              "    <tr>\n",
              "      <th rowspan=\"3\" valign=\"top\">1</th>\n",
              "      <th>count</th>\n",
              "      <td>525</td>\n",
              "      <td>525</td>\n",
              "      <td>525</td>\n",
              "      <td>525</td>\n",
              "      <td>525</td>\n",
              "      <td>525</td>\n",
              "      <td>525</td>\n",
              "      <td>224</td>\n",
              "      <td>525</td>\n",
              "      <td>525</td>\n",
              "      <td>506</td>\n",
              "    </tr>\n",
              "    <tr>\n",
              "      <th>size</th>\n",
              "      <td>525</td>\n",
              "      <td>525</td>\n",
              "      <td>525</td>\n",
              "      <td>525</td>\n",
              "      <td>525</td>\n",
              "      <td>525</td>\n",
              "      <td>525</td>\n",
              "      <td>525</td>\n",
              "      <td>525</td>\n",
              "      <td>525</td>\n",
              "      <td>525</td>\n",
              "    </tr>\n",
              "    <tr>\n",
              "      <th>nunique</th>\n",
              "      <td>26</td>\n",
              "      <td>8</td>\n",
              "      <td>8</td>\n",
              "      <td>4</td>\n",
              "      <td>23</td>\n",
              "      <td>10</td>\n",
              "      <td>102</td>\n",
              "      <td>70</td>\n",
              "      <td>8</td>\n",
              "      <td>8</td>\n",
              "      <td>506</td>\n",
              "    </tr>\n",
              "    <tr>\n",
              "      <th rowspan=\"3\" valign=\"top\">2</th>\n",
              "      <th>count</th>\n",
              "      <td>3370</td>\n",
              "      <td>3370</td>\n",
              "      <td>3370</td>\n",
              "      <td>3370</td>\n",
              "      <td>3370</td>\n",
              "      <td>3370</td>\n",
              "      <td>3370</td>\n",
              "      <td>941</td>\n",
              "      <td>3370</td>\n",
              "      <td>3370</td>\n",
              "      <td>3345</td>\n",
              "    </tr>\n",
              "    <tr>\n",
              "      <th>size</th>\n",
              "      <td>3370</td>\n",
              "      <td>3370</td>\n",
              "      <td>3370</td>\n",
              "      <td>3370</td>\n",
              "      <td>3370</td>\n",
              "      <td>3370</td>\n",
              "      <td>3370</td>\n",
              "      <td>3370</td>\n",
              "      <td>3370</td>\n",
              "      <td>3370</td>\n",
              "      <td>3370</td>\n",
              "    </tr>\n",
              "    <tr>\n",
              "      <th>nunique</th>\n",
              "      <td>28</td>\n",
              "      <td>8</td>\n",
              "      <td>8</td>\n",
              "      <td>4</td>\n",
              "      <td>24</td>\n",
              "      <td>10</td>\n",
              "      <td>109</td>\n",
              "      <td>99</td>\n",
              "      <td>8</td>\n",
              "      <td>8</td>\n",
              "      <td>3345</td>\n",
              "    </tr>\n",
              "    <tr>\n",
              "      <th rowspan=\"3\" valign=\"top\">3</th>\n",
              "      <th>count</th>\n",
              "      <td>25</td>\n",
              "      <td>25</td>\n",
              "      <td>25</td>\n",
              "      <td>25</td>\n",
              "      <td>25</td>\n",
              "      <td>25</td>\n",
              "      <td>25</td>\n",
              "      <td>13</td>\n",
              "      <td>25</td>\n",
              "      <td>25</td>\n",
              "      <td>25</td>\n",
              "    </tr>\n",
              "    <tr>\n",
              "      <th>size</th>\n",
              "      <td>25</td>\n",
              "      <td>25</td>\n",
              "      <td>25</td>\n",
              "      <td>25</td>\n",
              "      <td>25</td>\n",
              "      <td>25</td>\n",
              "      <td>25</td>\n",
              "      <td>25</td>\n",
              "      <td>25</td>\n",
              "      <td>25</td>\n",
              "      <td>25</td>\n",
              "    </tr>\n",
              "    <tr>\n",
              "      <th>nunique</th>\n",
              "      <td>16</td>\n",
              "      <td>8</td>\n",
              "      <td>8</td>\n",
              "      <td>4</td>\n",
              "      <td>14</td>\n",
              "      <td>10</td>\n",
              "      <td>21</td>\n",
              "      <td>11</td>\n",
              "      <td>8</td>\n",
              "      <td>8</td>\n",
              "      <td>25</td>\n",
              "    </tr>\n",
              "    <tr>\n",
              "      <th rowspan=\"3\" valign=\"top\">4</th>\n",
              "      <th>count</th>\n",
              "      <td>3</td>\n",
              "      <td>3</td>\n",
              "      <td>3</td>\n",
              "      <td>3</td>\n",
              "      <td>3</td>\n",
              "      <td>3</td>\n",
              "      <td>3</td>\n",
              "      <td>3</td>\n",
              "      <td>3</td>\n",
              "      <td>3</td>\n",
              "      <td>3</td>\n",
              "    </tr>\n",
              "    <tr>\n",
              "      <th>size</th>\n",
              "      <td>3</td>\n",
              "      <td>3</td>\n",
              "      <td>3</td>\n",
              "      <td>3</td>\n",
              "      <td>3</td>\n",
              "      <td>3</td>\n",
              "      <td>3</td>\n",
              "      <td>3</td>\n",
              "      <td>3</td>\n",
              "      <td>3</td>\n",
              "      <td>3</td>\n",
              "    </tr>\n",
              "    <tr>\n",
              "      <th>nunique</th>\n",
              "      <td>3</td>\n",
              "      <td>3</td>\n",
              "      <td>3</td>\n",
              "      <td>1</td>\n",
              "      <td>3</td>\n",
              "      <td>3</td>\n",
              "      <td>3</td>\n",
              "      <td>3</td>\n",
              "      <td>3</td>\n",
              "      <td>3</td>\n",
              "      <td>3</td>\n",
              "    </tr>\n",
              "  </tbody>\n",
              "</table>\n",
              "</div>"
            ],
            "text/plain": [
              "                                 ROUTE  EMBARK_PORT  ...  DEBARK_REGION  PRICE_PAID\n",
              "NO_OF_PEOPLE_ON_BOOKING                              ...                           \n",
              "1                       count      525          525  ...            525         506\n",
              "                        size       525          525  ...            525         525\n",
              "                        nunique     26            8  ...              8         506\n",
              "2                       count     3370         3370  ...           3370        3345\n",
              "                        size      3370         3370  ...           3370        3370\n",
              "                        nunique     28            8  ...              8        3345\n",
              "3                       count       25           25  ...             25          25\n",
              "                        size        25           25  ...             25          25\n",
              "                        nunique     16            8  ...              8          25\n",
              "4                       count        3            3  ...              3           3\n",
              "                        size         3            3  ...              3           3\n",
              "                        nunique      3            3  ...              3           3\n",
              "\n",
              "[12 rows x 11 columns]"
            ]
          },
          "metadata": {
            "tags": []
          },
          "execution_count": 32
        }
      ]
    },
    {
      "cell_type": "code",
      "metadata": {
        "id": "Q4l0j2PQChMh",
        "colab_type": "code",
        "colab": {
          "base_uri": "https://localhost:8080/",
          "height": 255
        },
        "outputId": "af578945-85c0-4e7a-f433-098516098e91"
      },
      "source": [
        "df.groupby('NO_OF_PEOPLE_ON_BOOKING').agg(['count', 'size', 'nunique'])"
      ],
      "execution_count": 33,
      "outputs": [
        {
          "output_type": "execute_result",
          "data": {
            "text/html": [
              "<div>\n",
              "<style scoped>\n",
              "    .dataframe tbody tr th:only-of-type {\n",
              "        vertical-align: middle;\n",
              "    }\n",
              "\n",
              "    .dataframe tbody tr th {\n",
              "        vertical-align: top;\n",
              "    }\n",
              "\n",
              "    .dataframe thead tr th {\n",
              "        text-align: left;\n",
              "    }\n",
              "\n",
              "    .dataframe thead tr:last-of-type th {\n",
              "        text-align: right;\n",
              "    }\n",
              "</style>\n",
              "<table border=\"1\" class=\"dataframe\">\n",
              "  <thead>\n",
              "    <tr>\n",
              "      <th></th>\n",
              "      <th colspan=\"3\" halign=\"left\">ROUTE</th>\n",
              "      <th colspan=\"3\" halign=\"left\">EMBARK_PORT</th>\n",
              "      <th colspan=\"3\" halign=\"left\">DISEMBARK_PORT</th>\n",
              "      <th colspan=\"3\" halign=\"left\">CABIN_TYPE</th>\n",
              "      <th colspan=\"3\" halign=\"left\">DURATION</th>\n",
              "      <th colspan=\"3\" halign=\"left\">CRUISE_REGION</th>\n",
              "      <th colspan=\"3\" halign=\"left\">BOOKING_WEEK_PRIOR</th>\n",
              "      <th colspan=\"3\" halign=\"left\">CANCEL_WEEK_PRIOR</th>\n",
              "      <th colspan=\"3\" halign=\"left\">EMBARK_REGION</th>\n",
              "      <th colspan=\"3\" halign=\"left\">DEBARK_REGION</th>\n",
              "      <th colspan=\"3\" halign=\"left\">PRICE_PAID</th>\n",
              "    </tr>\n",
              "    <tr>\n",
              "      <th></th>\n",
              "      <th>count</th>\n",
              "      <th>size</th>\n",
              "      <th>nunique</th>\n",
              "      <th>count</th>\n",
              "      <th>size</th>\n",
              "      <th>nunique</th>\n",
              "      <th>count</th>\n",
              "      <th>size</th>\n",
              "      <th>nunique</th>\n",
              "      <th>count</th>\n",
              "      <th>size</th>\n",
              "      <th>nunique</th>\n",
              "      <th>count</th>\n",
              "      <th>size</th>\n",
              "      <th>nunique</th>\n",
              "      <th>count</th>\n",
              "      <th>size</th>\n",
              "      <th>nunique</th>\n",
              "      <th>count</th>\n",
              "      <th>size</th>\n",
              "      <th>nunique</th>\n",
              "      <th>count</th>\n",
              "      <th>size</th>\n",
              "      <th>nunique</th>\n",
              "      <th>count</th>\n",
              "      <th>size</th>\n",
              "      <th>nunique</th>\n",
              "      <th>count</th>\n",
              "      <th>size</th>\n",
              "      <th>nunique</th>\n",
              "      <th>count</th>\n",
              "      <th>size</th>\n",
              "      <th>nunique</th>\n",
              "    </tr>\n",
              "    <tr>\n",
              "      <th>NO_OF_PEOPLE_ON_BOOKING</th>\n",
              "      <th></th>\n",
              "      <th></th>\n",
              "      <th></th>\n",
              "      <th></th>\n",
              "      <th></th>\n",
              "      <th></th>\n",
              "      <th></th>\n",
              "      <th></th>\n",
              "      <th></th>\n",
              "      <th></th>\n",
              "      <th></th>\n",
              "      <th></th>\n",
              "      <th></th>\n",
              "      <th></th>\n",
              "      <th></th>\n",
              "      <th></th>\n",
              "      <th></th>\n",
              "      <th></th>\n",
              "      <th></th>\n",
              "      <th></th>\n",
              "      <th></th>\n",
              "      <th></th>\n",
              "      <th></th>\n",
              "      <th></th>\n",
              "      <th></th>\n",
              "      <th></th>\n",
              "      <th></th>\n",
              "      <th></th>\n",
              "      <th></th>\n",
              "      <th></th>\n",
              "      <th></th>\n",
              "      <th></th>\n",
              "      <th></th>\n",
              "    </tr>\n",
              "  </thead>\n",
              "  <tbody>\n",
              "    <tr>\n",
              "      <th>1</th>\n",
              "      <td>525</td>\n",
              "      <td>525</td>\n",
              "      <td>26</td>\n",
              "      <td>525</td>\n",
              "      <td>525</td>\n",
              "      <td>8</td>\n",
              "      <td>525</td>\n",
              "      <td>525</td>\n",
              "      <td>8</td>\n",
              "      <td>525</td>\n",
              "      <td>525</td>\n",
              "      <td>4</td>\n",
              "      <td>525</td>\n",
              "      <td>525</td>\n",
              "      <td>23</td>\n",
              "      <td>525</td>\n",
              "      <td>525</td>\n",
              "      <td>10</td>\n",
              "      <td>525</td>\n",
              "      <td>525</td>\n",
              "      <td>102</td>\n",
              "      <td>224</td>\n",
              "      <td>525</td>\n",
              "      <td>70</td>\n",
              "      <td>525</td>\n",
              "      <td>525</td>\n",
              "      <td>8</td>\n",
              "      <td>525</td>\n",
              "      <td>525</td>\n",
              "      <td>8</td>\n",
              "      <td>506</td>\n",
              "      <td>525</td>\n",
              "      <td>506</td>\n",
              "    </tr>\n",
              "    <tr>\n",
              "      <th>2</th>\n",
              "      <td>3370</td>\n",
              "      <td>3370</td>\n",
              "      <td>28</td>\n",
              "      <td>3370</td>\n",
              "      <td>3370</td>\n",
              "      <td>8</td>\n",
              "      <td>3370</td>\n",
              "      <td>3370</td>\n",
              "      <td>8</td>\n",
              "      <td>3370</td>\n",
              "      <td>3370</td>\n",
              "      <td>4</td>\n",
              "      <td>3370</td>\n",
              "      <td>3370</td>\n",
              "      <td>24</td>\n",
              "      <td>3370</td>\n",
              "      <td>3370</td>\n",
              "      <td>10</td>\n",
              "      <td>3370</td>\n",
              "      <td>3370</td>\n",
              "      <td>109</td>\n",
              "      <td>941</td>\n",
              "      <td>3370</td>\n",
              "      <td>99</td>\n",
              "      <td>3370</td>\n",
              "      <td>3370</td>\n",
              "      <td>8</td>\n",
              "      <td>3370</td>\n",
              "      <td>3370</td>\n",
              "      <td>8</td>\n",
              "      <td>3345</td>\n",
              "      <td>3370</td>\n",
              "      <td>3345</td>\n",
              "    </tr>\n",
              "    <tr>\n",
              "      <th>3</th>\n",
              "      <td>25</td>\n",
              "      <td>25</td>\n",
              "      <td>16</td>\n",
              "      <td>25</td>\n",
              "      <td>25</td>\n",
              "      <td>8</td>\n",
              "      <td>25</td>\n",
              "      <td>25</td>\n",
              "      <td>8</td>\n",
              "      <td>25</td>\n",
              "      <td>25</td>\n",
              "      <td>4</td>\n",
              "      <td>25</td>\n",
              "      <td>25</td>\n",
              "      <td>14</td>\n",
              "      <td>25</td>\n",
              "      <td>25</td>\n",
              "      <td>10</td>\n",
              "      <td>25</td>\n",
              "      <td>25</td>\n",
              "      <td>21</td>\n",
              "      <td>13</td>\n",
              "      <td>25</td>\n",
              "      <td>11</td>\n",
              "      <td>25</td>\n",
              "      <td>25</td>\n",
              "      <td>8</td>\n",
              "      <td>25</td>\n",
              "      <td>25</td>\n",
              "      <td>8</td>\n",
              "      <td>25</td>\n",
              "      <td>25</td>\n",
              "      <td>25</td>\n",
              "    </tr>\n",
              "    <tr>\n",
              "      <th>4</th>\n",
              "      <td>3</td>\n",
              "      <td>3</td>\n",
              "      <td>3</td>\n",
              "      <td>3</td>\n",
              "      <td>3</td>\n",
              "      <td>3</td>\n",
              "      <td>3</td>\n",
              "      <td>3</td>\n",
              "      <td>3</td>\n",
              "      <td>3</td>\n",
              "      <td>3</td>\n",
              "      <td>1</td>\n",
              "      <td>3</td>\n",
              "      <td>3</td>\n",
              "      <td>3</td>\n",
              "      <td>3</td>\n",
              "      <td>3</td>\n",
              "      <td>3</td>\n",
              "      <td>3</td>\n",
              "      <td>3</td>\n",
              "      <td>3</td>\n",
              "      <td>3</td>\n",
              "      <td>3</td>\n",
              "      <td>3</td>\n",
              "      <td>3</td>\n",
              "      <td>3</td>\n",
              "      <td>3</td>\n",
              "      <td>3</td>\n",
              "      <td>3</td>\n",
              "      <td>3</td>\n",
              "      <td>3</td>\n",
              "      <td>3</td>\n",
              "      <td>3</td>\n",
              "    </tr>\n",
              "  </tbody>\n",
              "</table>\n",
              "</div>"
            ],
            "text/plain": [
              "                        ROUTE                ... PRICE_PAID              \n",
              "                        count  size nunique  ...      count  size nunique\n",
              "NO_OF_PEOPLE_ON_BOOKING                      ...                         \n",
              "1                         525   525      26  ...        506   525     506\n",
              "2                        3370  3370      28  ...       3345  3370    3345\n",
              "3                          25    25      16  ...         25    25      25\n",
              "4                           3     3       3  ...          3     3       3\n",
              "\n",
              "[4 rows x 33 columns]"
            ]
          },
          "metadata": {
            "tags": []
          },
          "execution_count": 33
        }
      ]
    },
    {
      "cell_type": "code",
      "metadata": {
        "id": "APJCtxGoC0sM",
        "colab_type": "code",
        "colab": {
          "base_uri": "https://localhost:8080/",
          "height": 309
        },
        "outputId": "16a481bf-432f-4dca-d249-668c38cba53d"
      },
      "source": [
        "df_sample = df.sample(frac=0.05, random_state=1)\n",
        "df_sample.head()"
      ],
      "execution_count": 34,
      "outputs": [
        {
          "output_type": "execute_result",
          "data": {
            "text/html": [
              "<div>\n",
              "<style scoped>\n",
              "    .dataframe tbody tr th:only-of-type {\n",
              "        vertical-align: middle;\n",
              "    }\n",
              "\n",
              "    .dataframe tbody tr th {\n",
              "        vertical-align: top;\n",
              "    }\n",
              "\n",
              "    .dataframe thead th {\n",
              "        text-align: right;\n",
              "    }\n",
              "</style>\n",
              "<table border=\"1\" class=\"dataframe\">\n",
              "  <thead>\n",
              "    <tr style=\"text-align: right;\">\n",
              "      <th></th>\n",
              "      <th>ROUTE</th>\n",
              "      <th>EMBARK_PORT</th>\n",
              "      <th>DISEMBARK_PORT</th>\n",
              "      <th>CABIN_TYPE</th>\n",
              "      <th>DURATION</th>\n",
              "      <th>CRUISE_REGION</th>\n",
              "      <th>BOOKING_WEEK_PRIOR</th>\n",
              "      <th>CANCEL_WEEK_PRIOR</th>\n",
              "      <th>EMBARK_REGION</th>\n",
              "      <th>DEBARK_REGION</th>\n",
              "      <th>PRICE_PAID</th>\n",
              "      <th>NO_OF_PEOPLE_ON_BOOKING</th>\n",
              "    </tr>\n",
              "  </thead>\n",
              "  <tbody>\n",
              "    <tr>\n",
              "      <th>3140</th>\n",
              "      <td>SIN-SOU</td>\n",
              "      <td>SIN</td>\n",
              "      <td>SOU</td>\n",
              "      <td>O</td>\n",
              "      <td>30</td>\n",
              "      <td>Southern Asia</td>\n",
              "      <td>18</td>\n",
              "      <td>NaN</td>\n",
              "      <td>Singapore</td>\n",
              "      <td>UK</td>\n",
              "      <td>2113.381220</td>\n",
              "      <td>2</td>\n",
              "    </tr>\n",
              "    <tr>\n",
              "      <th>1758</th>\n",
              "      <td>DXB-SOU</td>\n",
              "      <td>DXB</td>\n",
              "      <td>SOU</td>\n",
              "      <td>B</td>\n",
              "      <td>19</td>\n",
              "      <td>Middle East</td>\n",
              "      <td>33</td>\n",
              "      <td>NaN</td>\n",
              "      <td>UAE</td>\n",
              "      <td>UK</td>\n",
              "      <td>1531.182215</td>\n",
              "      <td>2</td>\n",
              "    </tr>\n",
              "    <tr>\n",
              "      <th>2158</th>\n",
              "      <td>SIN-SOU</td>\n",
              "      <td>SIN</td>\n",
              "      <td>SOU</td>\n",
              "      <td>B</td>\n",
              "      <td>30</td>\n",
              "      <td>Southern Asia</td>\n",
              "      <td>78</td>\n",
              "      <td>77.0</td>\n",
              "      <td>Singapore</td>\n",
              "      <td>UK</td>\n",
              "      <td>5121.498946</td>\n",
              "      <td>2</td>\n",
              "    </tr>\n",
              "    <tr>\n",
              "      <th>2790</th>\n",
              "      <td>SYD-HKG</td>\n",
              "      <td>SYD</td>\n",
              "      <td>HKG</td>\n",
              "      <td>B</td>\n",
              "      <td>19</td>\n",
              "      <td>GB Reef/Queensland</td>\n",
              "      <td>30</td>\n",
              "      <td>NaN</td>\n",
              "      <td>Australia - New South Wales</td>\n",
              "      <td>China - Southern</td>\n",
              "      <td>1615.528712</td>\n",
              "      <td>2</td>\n",
              "    </tr>\n",
              "    <tr>\n",
              "      <th>3532</th>\n",
              "      <td>SOU-AKL</td>\n",
              "      <td>SOU</td>\n",
              "      <td>AKL</td>\n",
              "      <td>B</td>\n",
              "      <td>40</td>\n",
              "      <td>West Bound</td>\n",
              "      <td>32</td>\n",
              "      <td>NaN</td>\n",
              "      <td>UK</td>\n",
              "      <td>New Zealand</td>\n",
              "      <td>5899.843823</td>\n",
              "      <td>2</td>\n",
              "    </tr>\n",
              "  </tbody>\n",
              "</table>\n",
              "</div>"
            ],
            "text/plain": [
              "        ROUTE EMBARK_PORT  ...   PRICE_PAID NO_OF_PEOPLE_ON_BOOKING\n",
              "3140  SIN-SOU         SIN  ...  2113.381220                       2\n",
              "1758  DXB-SOU         DXB  ...  1531.182215                       2\n",
              "2158  SIN-SOU         SIN  ...  5121.498946                       2\n",
              "2790  SYD-HKG         SYD  ...  1615.528712                       2\n",
              "3532  SOU-AKL         SOU  ...  5899.843823                       2\n",
              "\n",
              "[5 rows x 12 columns]"
            ]
          },
          "metadata": {
            "tags": []
          },
          "execution_count": 34
        }
      ]
    },
    {
      "cell_type": "code",
      "metadata": {
        "id": "qDCo9YqZDA03",
        "colab_type": "code",
        "colab": {
          "base_uri": "https://localhost:8080/",
          "height": 34
        },
        "outputId": "f66739fc-536f-4bba-961d-668a473c6dd7"
      },
      "source": [
        "df.shape"
      ],
      "execution_count": 35,
      "outputs": [
        {
          "output_type": "execute_result",
          "data": {
            "text/plain": [
              "(3923, 12)"
            ]
          },
          "metadata": {
            "tags": []
          },
          "execution_count": 35
        }
      ]
    },
    {
      "cell_type": "code",
      "metadata": {
        "id": "x4Xngr-kDGYm",
        "colab_type": "code",
        "colab": {
          "base_uri": "https://localhost:8080/",
          "height": 34
        },
        "outputId": "424fb974-8269-4c0d-caff-40a72e821b4d"
      },
      "source": [
        "df_sample.shape"
      ],
      "execution_count": 36,
      "outputs": [
        {
          "output_type": "execute_result",
          "data": {
            "text/plain": [
              "(196, 12)"
            ]
          },
          "metadata": {
            "tags": []
          },
          "execution_count": 36
        }
      ]
    },
    {
      "cell_type": "code",
      "metadata": {
        "id": "Q3E9dJw0DSer",
        "colab_type": "code",
        "colab": {
          "base_uri": "https://localhost:8080/",
          "height": 309
        },
        "outputId": "19f6c73a-ac7e-474f-caad-fcd762b7be44"
      },
      "source": [
        "df_dropped = df.dropna(subset=['DURATION'])\n",
        "df_dropped.head()"
      ],
      "execution_count": 37,
      "outputs": [
        {
          "output_type": "execute_result",
          "data": {
            "text/html": [
              "<div>\n",
              "<style scoped>\n",
              "    .dataframe tbody tr th:only-of-type {\n",
              "        vertical-align: middle;\n",
              "    }\n",
              "\n",
              "    .dataframe tbody tr th {\n",
              "        vertical-align: top;\n",
              "    }\n",
              "\n",
              "    .dataframe thead th {\n",
              "        text-align: right;\n",
              "    }\n",
              "</style>\n",
              "<table border=\"1\" class=\"dataframe\">\n",
              "  <thead>\n",
              "    <tr style=\"text-align: right;\">\n",
              "      <th></th>\n",
              "      <th>ROUTE</th>\n",
              "      <th>EMBARK_PORT</th>\n",
              "      <th>DISEMBARK_PORT</th>\n",
              "      <th>CABIN_TYPE</th>\n",
              "      <th>DURATION</th>\n",
              "      <th>CRUISE_REGION</th>\n",
              "      <th>BOOKING_WEEK_PRIOR</th>\n",
              "      <th>CANCEL_WEEK_PRIOR</th>\n",
              "      <th>EMBARK_REGION</th>\n",
              "      <th>DEBARK_REGION</th>\n",
              "      <th>PRICE_PAID</th>\n",
              "      <th>NO_OF_PEOPLE_ON_BOOKING</th>\n",
              "    </tr>\n",
              "  </thead>\n",
              "  <tbody>\n",
              "    <tr>\n",
              "      <th>0</th>\n",
              "      <td>SOU-AKL</td>\n",
              "      <td>SOU</td>\n",
              "      <td>AKL</td>\n",
              "      <td>O</td>\n",
              "      <td>40</td>\n",
              "      <td>West Bound</td>\n",
              "      <td>33</td>\n",
              "      <td>33.0</td>\n",
              "      <td>UK</td>\n",
              "      <td>New Zealand</td>\n",
              "      <td>2811.127882</td>\n",
              "      <td>2</td>\n",
              "    </tr>\n",
              "    <tr>\n",
              "      <th>1</th>\n",
              "      <td>SOU-AKL</td>\n",
              "      <td>SOU</td>\n",
              "      <td>AKL</td>\n",
              "      <td>O</td>\n",
              "      <td>40</td>\n",
              "      <td>West Bound</td>\n",
              "      <td>45</td>\n",
              "      <td>NaN</td>\n",
              "      <td>UK</td>\n",
              "      <td>New Zealand</td>\n",
              "      <td>5171.396346</td>\n",
              "      <td>2</td>\n",
              "    </tr>\n",
              "    <tr>\n",
              "      <th>2</th>\n",
              "      <td>SOU-AKL</td>\n",
              "      <td>SOU</td>\n",
              "      <td>AKL</td>\n",
              "      <td>B</td>\n",
              "      <td>40</td>\n",
              "      <td>West Bound</td>\n",
              "      <td>42</td>\n",
              "      <td>NaN</td>\n",
              "      <td>UK</td>\n",
              "      <td>New Zealand</td>\n",
              "      <td>6343.673826</td>\n",
              "      <td>2</td>\n",
              "    </tr>\n",
              "    <tr>\n",
              "      <th>3</th>\n",
              "      <td>SOU-BNE</td>\n",
              "      <td>SOU</td>\n",
              "      <td>BNE</td>\n",
              "      <td>B</td>\n",
              "      <td>47</td>\n",
              "      <td>West Bound</td>\n",
              "      <td>36</td>\n",
              "      <td>35.0</td>\n",
              "      <td>UK</td>\n",
              "      <td>Australia - Queensland</td>\n",
              "      <td>9784.513217</td>\n",
              "      <td>2</td>\n",
              "    </tr>\n",
              "    <tr>\n",
              "      <th>4</th>\n",
              "      <td>SOU-SFO</td>\n",
              "      <td>SOU</td>\n",
              "      <td>SFO</td>\n",
              "      <td>B</td>\n",
              "      <td>24</td>\n",
              "      <td>Panama Canal</td>\n",
              "      <td>57</td>\n",
              "      <td>NaN</td>\n",
              "      <td>UK</td>\n",
              "      <td>USA - West Coast</td>\n",
              "      <td>4182.892388</td>\n",
              "      <td>2</td>\n",
              "    </tr>\n",
              "  </tbody>\n",
              "</table>\n",
              "</div>"
            ],
            "text/plain": [
              "     ROUTE EMBARK_PORT  ...   PRICE_PAID NO_OF_PEOPLE_ON_BOOKING\n",
              "0  SOU-AKL         SOU  ...  2811.127882                       2\n",
              "1  SOU-AKL         SOU  ...  5171.396346                       2\n",
              "2  SOU-AKL         SOU  ...  6343.673826                       2\n",
              "3  SOU-BNE         SOU  ...  9784.513217                       2\n",
              "4  SOU-SFO         SOU  ...  4182.892388                       2\n",
              "\n",
              "[5 rows x 12 columns]"
            ]
          },
          "metadata": {
            "tags": []
          },
          "execution_count": 37
        }
      ]
    },
    {
      "cell_type": "code",
      "metadata": {
        "id": "tYNRELtXDiMO",
        "colab_type": "code",
        "colab": {
          "base_uri": "https://localhost:8080/",
          "height": 34
        },
        "outputId": "8fb10434-578a-43dd-eba4-d338d106b925"
      },
      "source": [
        "df_dropped.shape"
      ],
      "execution_count": 38,
      "outputs": [
        {
          "output_type": "execute_result",
          "data": {
            "text/plain": [
              "(3923, 12)"
            ]
          },
          "metadata": {
            "tags": []
          },
          "execution_count": 38
        }
      ]
    },
    {
      "cell_type": "code",
      "metadata": {
        "id": "RlFq7jbPDqIe",
        "colab_type": "code",
        "colab": {
          "base_uri": "https://localhost:8080/",
          "height": 309
        },
        "outputId": "afe605b0-5791-461f-b5ef-79b03ed485a6"
      },
      "source": [
        "df_copy = df.copy()\n",
        "df_copy.head()"
      ],
      "execution_count": 39,
      "outputs": [
        {
          "output_type": "execute_result",
          "data": {
            "text/html": [
              "<div>\n",
              "<style scoped>\n",
              "    .dataframe tbody tr th:only-of-type {\n",
              "        vertical-align: middle;\n",
              "    }\n",
              "\n",
              "    .dataframe tbody tr th {\n",
              "        vertical-align: top;\n",
              "    }\n",
              "\n",
              "    .dataframe thead th {\n",
              "        text-align: right;\n",
              "    }\n",
              "</style>\n",
              "<table border=\"1\" class=\"dataframe\">\n",
              "  <thead>\n",
              "    <tr style=\"text-align: right;\">\n",
              "      <th></th>\n",
              "      <th>ROUTE</th>\n",
              "      <th>EMBARK_PORT</th>\n",
              "      <th>DISEMBARK_PORT</th>\n",
              "      <th>CABIN_TYPE</th>\n",
              "      <th>DURATION</th>\n",
              "      <th>CRUISE_REGION</th>\n",
              "      <th>BOOKING_WEEK_PRIOR</th>\n",
              "      <th>CANCEL_WEEK_PRIOR</th>\n",
              "      <th>EMBARK_REGION</th>\n",
              "      <th>DEBARK_REGION</th>\n",
              "      <th>PRICE_PAID</th>\n",
              "      <th>NO_OF_PEOPLE_ON_BOOKING</th>\n",
              "    </tr>\n",
              "  </thead>\n",
              "  <tbody>\n",
              "    <tr>\n",
              "      <th>0</th>\n",
              "      <td>SOU-AKL</td>\n",
              "      <td>SOU</td>\n",
              "      <td>AKL</td>\n",
              "      <td>O</td>\n",
              "      <td>40</td>\n",
              "      <td>West Bound</td>\n",
              "      <td>33</td>\n",
              "      <td>33.0</td>\n",
              "      <td>UK</td>\n",
              "      <td>New Zealand</td>\n",
              "      <td>2811.127882</td>\n",
              "      <td>2</td>\n",
              "    </tr>\n",
              "    <tr>\n",
              "      <th>1</th>\n",
              "      <td>SOU-AKL</td>\n",
              "      <td>SOU</td>\n",
              "      <td>AKL</td>\n",
              "      <td>O</td>\n",
              "      <td>40</td>\n",
              "      <td>West Bound</td>\n",
              "      <td>45</td>\n",
              "      <td>NaN</td>\n",
              "      <td>UK</td>\n",
              "      <td>New Zealand</td>\n",
              "      <td>5171.396346</td>\n",
              "      <td>2</td>\n",
              "    </tr>\n",
              "    <tr>\n",
              "      <th>2</th>\n",
              "      <td>SOU-AKL</td>\n",
              "      <td>SOU</td>\n",
              "      <td>AKL</td>\n",
              "      <td>B</td>\n",
              "      <td>40</td>\n",
              "      <td>West Bound</td>\n",
              "      <td>42</td>\n",
              "      <td>NaN</td>\n",
              "      <td>UK</td>\n",
              "      <td>New Zealand</td>\n",
              "      <td>6343.673826</td>\n",
              "      <td>2</td>\n",
              "    </tr>\n",
              "    <tr>\n",
              "      <th>3</th>\n",
              "      <td>SOU-BNE</td>\n",
              "      <td>SOU</td>\n",
              "      <td>BNE</td>\n",
              "      <td>B</td>\n",
              "      <td>47</td>\n",
              "      <td>West Bound</td>\n",
              "      <td>36</td>\n",
              "      <td>35.0</td>\n",
              "      <td>UK</td>\n",
              "      <td>Australia - Queensland</td>\n",
              "      <td>9784.513217</td>\n",
              "      <td>2</td>\n",
              "    </tr>\n",
              "    <tr>\n",
              "      <th>4</th>\n",
              "      <td>SOU-SFO</td>\n",
              "      <td>SOU</td>\n",
              "      <td>SFO</td>\n",
              "      <td>B</td>\n",
              "      <td>24</td>\n",
              "      <td>Panama Canal</td>\n",
              "      <td>57</td>\n",
              "      <td>NaN</td>\n",
              "      <td>UK</td>\n",
              "      <td>USA - West Coast</td>\n",
              "      <td>4182.892388</td>\n",
              "      <td>2</td>\n",
              "    </tr>\n",
              "  </tbody>\n",
              "</table>\n",
              "</div>"
            ],
            "text/plain": [
              "     ROUTE EMBARK_PORT  ...   PRICE_PAID NO_OF_PEOPLE_ON_BOOKING\n",
              "0  SOU-AKL         SOU  ...  2811.127882                       2\n",
              "1  SOU-AKL         SOU  ...  5171.396346                       2\n",
              "2  SOU-AKL         SOU  ...  6343.673826                       2\n",
              "3  SOU-BNE         SOU  ...  9784.513217                       2\n",
              "4  SOU-SFO         SOU  ...  4182.892388                       2\n",
              "\n",
              "[5 rows x 12 columns]"
            ]
          },
          "metadata": {
            "tags": []
          },
          "execution_count": 39
        }
      ]
    },
    {
      "cell_type": "code",
      "metadata": {
        "id": "pp2-ihrVDuWd",
        "colab_type": "code",
        "colab": {
          "base_uri": "https://localhost:8080/",
          "height": 34
        },
        "outputId": "d9716f9c-a624-4772-83c3-7aa9d4d3ed88"
      },
      "source": [
        "df_copy.shape"
      ],
      "execution_count": 40,
      "outputs": [
        {
          "output_type": "execute_result",
          "data": {
            "text/plain": [
              "(3923, 12)"
            ]
          },
          "metadata": {
            "tags": []
          },
          "execution_count": 40
        }
      ]
    },
    {
      "cell_type": "code",
      "metadata": {
        "id": "nQQBcjQED_zF",
        "colab_type": "code",
        "colab": {
          "base_uri": "https://localhost:8080/",
          "height": 34
        },
        "outputId": "bcdb7745-4c71-4f56-c9f8-cacd586f34c0"
      },
      "source": [
        "df_dropped['PRICE_PAID'].dtype"
      ],
      "execution_count": 41,
      "outputs": [
        {
          "output_type": "execute_result",
          "data": {
            "text/plain": [
              "dtype('float64')"
            ]
          },
          "metadata": {
            "tags": []
          },
          "execution_count": 41
        }
      ]
    },
    {
      "cell_type": "code",
      "metadata": {
        "id": "zpt0OF9GEQaa",
        "colab_type": "code",
        "colab": {
          "base_uri": "https://localhost:8080/",
          "height": 34
        },
        "outputId": "33cec4c7-d99a-4fd6-e8d3-694fbaa31f94"
      },
      "source": [
        "df_dropped['PRICE_PAID'].mean()"
      ],
      "execution_count": 42,
      "outputs": [
        {
          "output_type": "execute_result",
          "data": {
            "text/plain": [
              "6880.427287806959"
            ]
          },
          "metadata": {
            "tags": []
          },
          "execution_count": 42
        }
      ]
    },
    {
      "cell_type": "code",
      "metadata": {
        "id": "U-gGUhWFEWWW",
        "colab_type": "code",
        "colab": {}
      },
      "source": [
        "df_copy['PRICE_PAID'].fillna(value=np.round(df['PRICE_PAID'].mean(),decimals=0), inplace=True)"
      ],
      "execution_count": 0,
      "outputs": []
    },
    {
      "cell_type": "code",
      "metadata": {
        "id": "9Za1SW0xEl8a",
        "colab_type": "code",
        "colab": {
          "base_uri": "https://localhost:8080/",
          "height": 162
        },
        "outputId": "81675e32-6e4e-45ae-c8a2-96ed1576b910"
      },
      "source": [
        "df_copy.agg(['count', 'size', 'nunique'])"
      ],
      "execution_count": 44,
      "outputs": [
        {
          "output_type": "execute_result",
          "data": {
            "text/html": [
              "<div>\n",
              "<style scoped>\n",
              "    .dataframe tbody tr th:only-of-type {\n",
              "        vertical-align: middle;\n",
              "    }\n",
              "\n",
              "    .dataframe tbody tr th {\n",
              "        vertical-align: top;\n",
              "    }\n",
              "\n",
              "    .dataframe thead th {\n",
              "        text-align: right;\n",
              "    }\n",
              "</style>\n",
              "<table border=\"1\" class=\"dataframe\">\n",
              "  <thead>\n",
              "    <tr style=\"text-align: right;\">\n",
              "      <th></th>\n",
              "      <th>ROUTE</th>\n",
              "      <th>EMBARK_PORT</th>\n",
              "      <th>DISEMBARK_PORT</th>\n",
              "      <th>CABIN_TYPE</th>\n",
              "      <th>DURATION</th>\n",
              "      <th>CRUISE_REGION</th>\n",
              "      <th>BOOKING_WEEK_PRIOR</th>\n",
              "      <th>CANCEL_WEEK_PRIOR</th>\n",
              "      <th>EMBARK_REGION</th>\n",
              "      <th>DEBARK_REGION</th>\n",
              "      <th>PRICE_PAID</th>\n",
              "      <th>NO_OF_PEOPLE_ON_BOOKING</th>\n",
              "    </tr>\n",
              "  </thead>\n",
              "  <tbody>\n",
              "    <tr>\n",
              "      <th>count</th>\n",
              "      <td>3923</td>\n",
              "      <td>3923</td>\n",
              "      <td>3923</td>\n",
              "      <td>3923</td>\n",
              "      <td>3923</td>\n",
              "      <td>3923</td>\n",
              "      <td>3923</td>\n",
              "      <td>1181</td>\n",
              "      <td>3923</td>\n",
              "      <td>3923</td>\n",
              "      <td>3923</td>\n",
              "      <td>3923</td>\n",
              "    </tr>\n",
              "    <tr>\n",
              "      <th>size</th>\n",
              "      <td>3923</td>\n",
              "      <td>3923</td>\n",
              "      <td>3923</td>\n",
              "      <td>3923</td>\n",
              "      <td>3923</td>\n",
              "      <td>3923</td>\n",
              "      <td>3923</td>\n",
              "      <td>3923</td>\n",
              "      <td>3923</td>\n",
              "      <td>3923</td>\n",
              "      <td>3923</td>\n",
              "      <td>3923</td>\n",
              "    </tr>\n",
              "    <tr>\n",
              "      <th>nunique</th>\n",
              "      <td>28</td>\n",
              "      <td>8</td>\n",
              "      <td>8</td>\n",
              "      <td>4</td>\n",
              "      <td>24</td>\n",
              "      <td>10</td>\n",
              "      <td>111</td>\n",
              "      <td>104</td>\n",
              "      <td>8</td>\n",
              "      <td>8</td>\n",
              "      <td>3880</td>\n",
              "      <td>4</td>\n",
              "    </tr>\n",
              "  </tbody>\n",
              "</table>\n",
              "</div>"
            ],
            "text/plain": [
              "         ROUTE  EMBARK_PORT  ...  PRICE_PAID  NO_OF_PEOPLE_ON_BOOKING\n",
              "count     3923         3923  ...        3923                     3923\n",
              "size      3923         3923  ...        3923                     3923\n",
              "nunique     28            8  ...        3880                        4\n",
              "\n",
              "[3 rows x 12 columns]"
            ]
          },
          "metadata": {
            "tags": []
          },
          "execution_count": 44
        }
      ]
    },
    {
      "cell_type": "code",
      "metadata": {
        "id": "DfBCdwMbE2jq",
        "colab_type": "code",
        "colab": {
          "base_uri": "https://localhost:8080/",
          "height": 153
        },
        "outputId": "161572a0-682e-48e8-e5fb-b5455f305c4d"
      },
      "source": [
        "list(df['EMBARK_REGION'].unique())"
      ],
      "execution_count": 47,
      "outputs": [
        {
          "output_type": "execute_result",
          "data": {
            "text/plain": [
              "['UK',\n",
              " 'USA - West Coast',\n",
              " 'New Zealand',\n",
              " 'Australia - New South Wales',\n",
              " 'Australia - Queensland',\n",
              " 'China - Southern',\n",
              " 'Singapore',\n",
              " 'UAE']"
            ]
          },
          "metadata": {
            "tags": []
          },
          "execution_count": 47
        }
      ]
    },
    {
      "cell_type": "code",
      "metadata": {
        "id": "QICGYP95FyvH",
        "colab_type": "code",
        "colab": {}
      },
      "source": [
        "\"\"\"\n",
        "2 UK\n",
        "3 USA - West Coast\n",
        "4 New Zealand\n",
        "5 Australia - New South Wales\n",
        "6 Australia - Queensland\n",
        "7 China - Southern\n",
        "8 Singapore\n",
        "9 UEA\n",
        "\"\"\"\n",
        "df['EMBARK_REGION'].replace({2:\"UK\", \n",
        "                       3:\"USA - West Coast\",\n",
        "                       4:\"New Zealand\", \n",
        "                       5:\"Auatralia - New South Wales\", \n",
        "                       6:\"Australia - Queensland\", \n",
        "                       7:\"China - Southern\",\n",
        "                       8:\"Singapore\",\n",
        "                       9:\"UEA\"}, inplace=True)"
      ],
      "execution_count": 0,
      "outputs": []
    },
    {
      "cell_type": "code",
      "metadata": {
        "id": "hgWdNSrDI6H1",
        "colab_type": "code",
        "colab": {
          "base_uri": "https://localhost:8080/",
          "height": 153
        },
        "outputId": "697c33c1-6fa0-4ce0-a9f0-fa818d681ca2"
      },
      "source": [
        "list(df['EMBARK_REGION'].unique())"
      ],
      "execution_count": 50,
      "outputs": [
        {
          "output_type": "execute_result",
          "data": {
            "text/plain": [
              "['UK',\n",
              " 'USA - West Coast',\n",
              " 'New Zealand',\n",
              " 'Australia - New South Wales',\n",
              " 'Australia - Queensland',\n",
              " 'China - Southern',\n",
              " 'Singapore',\n",
              " 'UAE']"
            ]
          },
          "metadata": {
            "tags": []
          },
          "execution_count": 50
        }
      ]
    },
    {
      "cell_type": "code",
      "metadata": {
        "id": "nt3K75DoJGq1",
        "colab_type": "code",
        "colab": {
          "base_uri": "https://localhost:8080/",
          "height": 136
        },
        "outputId": "de095947-5188-4a3e-8266-5cded45f7216"
      },
      "source": [
        "keys = list(df['EMBARK_REGION'].unique())\n",
        "vals = range(1,8)\n",
        "act = dict(zip(keys, vals))\n",
        "act"
      ],
      "execution_count": 51,
      "outputs": [
        {
          "output_type": "execute_result",
          "data": {
            "text/plain": [
              "{'Australia - New South Wales': 4,\n",
              " 'Australia - Queensland': 5,\n",
              " 'China - Southern': 6,\n",
              " 'New Zealand': 3,\n",
              " 'Singapore': 7,\n",
              " 'UK': 1,\n",
              " 'USA - West Coast': 2}"
            ]
          },
          "metadata": {
            "tags": []
          },
          "execution_count": 51
        }
      ]
    },
    {
      "cell_type": "code",
      "metadata": {
        "id": "xYxjhs4mJYpq",
        "colab_type": "code",
        "colab": {
          "base_uri": "https://localhost:8080/",
          "height": 180
        },
        "outputId": "01de0f6d-aee9-46a1-8df6-216c567dd42a"
      },
      "source": [
        "df_copy['EMBARK_REGION_cat'] = df['EMBARK_REGION'].map(EMBARK)\n",
        "df_copy.head()"
      ],
      "execution_count": 54,
      "outputs": [
        {
          "output_type": "error",
          "ename": "NameError",
          "evalue": "ignored",
          "traceback": [
            "\u001b[0;31m---------------------------------------------------------------------------\u001b[0m",
            "\u001b[0;31mNameError\u001b[0m                                 Traceback (most recent call last)",
            "\u001b[0;32m<ipython-input-54-f598665b8eeb>\u001b[0m in \u001b[0;36m<module>\u001b[0;34m()\u001b[0m\n\u001b[0;32m----> 1\u001b[0;31m \u001b[0mdf_copy\u001b[0m\u001b[0;34m[\u001b[0m\u001b[0;34m'EMBARK_REGION_cat'\u001b[0m\u001b[0;34m]\u001b[0m \u001b[0;34m=\u001b[0m \u001b[0mdf\u001b[0m\u001b[0;34m[\u001b[0m\u001b[0;34m'EMBARK_REGION'\u001b[0m\u001b[0;34m]\u001b[0m\u001b[0;34m.\u001b[0m\u001b[0mmap\u001b[0m\u001b[0;34m(\u001b[0m\u001b[0mEMBARK\u001b[0m\u001b[0;34m)\u001b[0m\u001b[0;34m\u001b[0m\u001b[0;34m\u001b[0m\u001b[0m\n\u001b[0m\u001b[1;32m      2\u001b[0m \u001b[0mdf_copy\u001b[0m\u001b[0;34m.\u001b[0m\u001b[0mhead\u001b[0m\u001b[0;34m(\u001b[0m\u001b[0;34m)\u001b[0m\u001b[0;34m\u001b[0m\u001b[0;34m\u001b[0m\u001b[0m\n",
            "\u001b[0;31mNameError\u001b[0m: name 'EMBARK' is not defined"
          ]
        }
      ]
    },
    {
      "cell_type": "code",
      "metadata": {
        "id": "W52FyCwCKdob",
        "colab_type": "code",
        "colab": {
          "base_uri": "https://localhost:8080/",
          "height": 34
        },
        "outputId": "cca2e90c-266f-4a4a-e5b1-b469a4ab3acf"
      },
      "source": [
        "df_copy['PRICE_PAID'].mean()"
      ],
      "execution_count": 55,
      "outputs": [
        {
          "output_type": "execute_result",
          "data": {
            "text/plain": [
              "6880.422495386998"
            ]
          },
          "metadata": {
            "tags": []
          },
          "execution_count": 55
        }
      ]
    },
    {
      "cell_type": "code",
      "metadata": {
        "id": "LTUjl-iUK59u",
        "colab_type": "code",
        "colab": {
          "base_uri": "https://localhost:8080/",
          "height": 34
        },
        "outputId": "f4e3734f-0216-4192-e863-e86ab8cccc28"
      },
      "source": [
        "df_copy['PRICE_PAID'][df_copy['EMBARK_REGION'] == 6]"
      ],
      "execution_count": 56,
      "outputs": [
        {
          "output_type": "execute_result",
          "data": {
            "text/plain": [
              "Series([], Name: PRICE_PAID, dtype: float64)"
            ]
          },
          "metadata": {
            "tags": []
          },
          "execution_count": 56
        }
      ]
    },
    {
      "cell_type": "code",
      "metadata": {
        "id": "dSeItULILTyb",
        "colab_type": "code",
        "colab": {
          "base_uri": "https://localhost:8080/",
          "height": 948
        },
        "outputId": "f814699e-b172-4833-d8f9-7317544e9448"
      },
      "source": [
        "df_copy.groupby([\"EMBARK_REGION\", \"ROUTE\"])[[\"BOOKING_WEEK_PRIOR\", \"DURATION\"]].count()"
      ],
      "execution_count": 57,
      "outputs": [
        {
          "output_type": "execute_result",
          "data": {
            "text/html": [
              "<div>\n",
              "<style scoped>\n",
              "    .dataframe tbody tr th:only-of-type {\n",
              "        vertical-align: middle;\n",
              "    }\n",
              "\n",
              "    .dataframe tbody tr th {\n",
              "        vertical-align: top;\n",
              "    }\n",
              "\n",
              "    .dataframe thead th {\n",
              "        text-align: right;\n",
              "    }\n",
              "</style>\n",
              "<table border=\"1\" class=\"dataframe\">\n",
              "  <thead>\n",
              "    <tr style=\"text-align: right;\">\n",
              "      <th></th>\n",
              "      <th></th>\n",
              "      <th>BOOKING_WEEK_PRIOR</th>\n",
              "      <th>DURATION</th>\n",
              "    </tr>\n",
              "    <tr>\n",
              "      <th>EMBARK_REGION</th>\n",
              "      <th>ROUTE</th>\n",
              "      <th></th>\n",
              "      <th></th>\n",
              "    </tr>\n",
              "  </thead>\n",
              "  <tbody>\n",
              "    <tr>\n",
              "      <th rowspan=\"5\" valign=\"top\">Australia - New South Wales</th>\n",
              "      <th>SYD-BNE</th>\n",
              "      <td>107</td>\n",
              "      <td>107</td>\n",
              "    </tr>\n",
              "    <tr>\n",
              "      <th>SYD-DXB</th>\n",
              "      <td>7</td>\n",
              "      <td>7</td>\n",
              "    </tr>\n",
              "    <tr>\n",
              "      <th>SYD-HKG</th>\n",
              "      <td>264</td>\n",
              "      <td>264</td>\n",
              "    </tr>\n",
              "    <tr>\n",
              "      <th>SYD-SIN</th>\n",
              "      <td>177</td>\n",
              "      <td>177</td>\n",
              "    </tr>\n",
              "    <tr>\n",
              "      <th>SYD-SOU</th>\n",
              "      <td>190</td>\n",
              "      <td>190</td>\n",
              "    </tr>\n",
              "    <tr>\n",
              "      <th rowspan=\"2\" valign=\"top\">Australia - Queensland</th>\n",
              "      <th>BNE-HKG</th>\n",
              "      <td>114</td>\n",
              "      <td>114</td>\n",
              "    </tr>\n",
              "    <tr>\n",
              "      <th>BNE-SOU</th>\n",
              "      <td>61</td>\n",
              "      <td>61</td>\n",
              "    </tr>\n",
              "    <tr>\n",
              "      <th rowspan=\"2\" valign=\"top\">China - Southern</th>\n",
              "      <th>HKG-DXB</th>\n",
              "      <td>263</td>\n",
              "      <td>263</td>\n",
              "    </tr>\n",
              "    <tr>\n",
              "      <th>HKG-SOU</th>\n",
              "      <td>110</td>\n",
              "      <td>110</td>\n",
              "    </tr>\n",
              "    <tr>\n",
              "      <th rowspan=\"5\" valign=\"top\">New Zealand</th>\n",
              "      <th>AKL-DXB</th>\n",
              "      <td>7</td>\n",
              "      <td>7</td>\n",
              "    </tr>\n",
              "    <tr>\n",
              "      <th>AKL-HKG</th>\n",
              "      <td>14</td>\n",
              "      <td>14</td>\n",
              "    </tr>\n",
              "    <tr>\n",
              "      <th>AKL-SIN</th>\n",
              "      <td>10</td>\n",
              "      <td>10</td>\n",
              "    </tr>\n",
              "    <tr>\n",
              "      <th>AKL-SOU</th>\n",
              "      <td>52</td>\n",
              "      <td>52</td>\n",
              "    </tr>\n",
              "    <tr>\n",
              "      <th>AKL-SYD</th>\n",
              "      <td>123</td>\n",
              "      <td>123</td>\n",
              "    </tr>\n",
              "    <tr>\n",
              "      <th rowspan=\"2\" valign=\"top\">Singapore</th>\n",
              "      <th>SIN-DXB</th>\n",
              "      <td>85</td>\n",
              "      <td>85</td>\n",
              "    </tr>\n",
              "    <tr>\n",
              "      <th>SIN-SOU</th>\n",
              "      <td>139</td>\n",
              "      <td>139</td>\n",
              "    </tr>\n",
              "    <tr>\n",
              "      <th>UAE</th>\n",
              "      <th>DXB-SOU</th>\n",
              "      <td>322</td>\n",
              "      <td>322</td>\n",
              "    </tr>\n",
              "    <tr>\n",
              "      <th rowspan=\"7\" valign=\"top\">UK</th>\n",
              "      <th>SOU-AKL</th>\n",
              "      <td>115</td>\n",
              "      <td>115</td>\n",
              "    </tr>\n",
              "    <tr>\n",
              "      <th>SOU-BNE</th>\n",
              "      <td>53</td>\n",
              "      <td>53</td>\n",
              "    </tr>\n",
              "    <tr>\n",
              "      <th>SOU-HKG</th>\n",
              "      <td>4</td>\n",
              "      <td>4</td>\n",
              "    </tr>\n",
              "    <tr>\n",
              "      <th>SOU-SFO</th>\n",
              "      <td>362</td>\n",
              "      <td>362</td>\n",
              "    </tr>\n",
              "    <tr>\n",
              "      <th>SOU-SIN</th>\n",
              "      <td>7</td>\n",
              "      <td>7</td>\n",
              "    </tr>\n",
              "    <tr>\n",
              "      <th>SOU-SOU</th>\n",
              "      <td>636</td>\n",
              "      <td>636</td>\n",
              "    </tr>\n",
              "    <tr>\n",
              "      <th>SOU-SYD</th>\n",
              "      <td>319</td>\n",
              "      <td>319</td>\n",
              "    </tr>\n",
              "    <tr>\n",
              "      <th rowspan=\"4\" valign=\"top\">USA - West Coast</th>\n",
              "      <th>SFO-AKL</th>\n",
              "      <td>57</td>\n",
              "      <td>57</td>\n",
              "    </tr>\n",
              "    <tr>\n",
              "      <th>SFO-HKG</th>\n",
              "      <td>28</td>\n",
              "      <td>28</td>\n",
              "    </tr>\n",
              "    <tr>\n",
              "      <th>SFO-SIN</th>\n",
              "      <td>10</td>\n",
              "      <td>10</td>\n",
              "    </tr>\n",
              "    <tr>\n",
              "      <th>SFO-SYD</th>\n",
              "      <td>287</td>\n",
              "      <td>287</td>\n",
              "    </tr>\n",
              "  </tbody>\n",
              "</table>\n",
              "</div>"
            ],
            "text/plain": [
              "                                     BOOKING_WEEK_PRIOR  DURATION\n",
              "EMBARK_REGION               ROUTE                                \n",
              "Australia - New South Wales SYD-BNE                 107       107\n",
              "                            SYD-DXB                   7         7\n",
              "                            SYD-HKG                 264       264\n",
              "                            SYD-SIN                 177       177\n",
              "                            SYD-SOU                 190       190\n",
              "Australia - Queensland      BNE-HKG                 114       114\n",
              "                            BNE-SOU                  61        61\n",
              "China - Southern            HKG-DXB                 263       263\n",
              "                            HKG-SOU                 110       110\n",
              "New Zealand                 AKL-DXB                   7         7\n",
              "                            AKL-HKG                  14        14\n",
              "                            AKL-SIN                  10        10\n",
              "                            AKL-SOU                  52        52\n",
              "                            AKL-SYD                 123       123\n",
              "Singapore                   SIN-DXB                  85        85\n",
              "                            SIN-SOU                 139       139\n",
              "UAE                         DXB-SOU                 322       322\n",
              "UK                          SOU-AKL                 115       115\n",
              "                            SOU-BNE                  53        53\n",
              "                            SOU-HKG                   4         4\n",
              "                            SOU-SFO                 362       362\n",
              "                            SOU-SIN                   7         7\n",
              "                            SOU-SOU                 636       636\n",
              "                            SOU-SYD                 319       319\n",
              "USA - West Coast            SFO-AKL                  57        57\n",
              "                            SFO-HKG                  28        28\n",
              "                            SFO-SIN                  10        10\n",
              "                            SFO-SYD                 287       287"
            ]
          },
          "metadata": {
            "tags": []
          },
          "execution_count": 57
        }
      ]
    },
    {
      "cell_type": "code",
      "metadata": {
        "id": "naeNOTYMMj3I",
        "colab_type": "code",
        "colab": {
          "base_uri": "https://localhost:8080/",
          "height": 309
        },
        "outputId": "ba8cb3e1-d5a5-414d-ee5c-3eacc612b798"
      },
      "source": [
        "df_sample = df.sample(frac=0.05, random_state=1)\n",
        "df_sample.head()"
      ],
      "execution_count": 58,
      "outputs": [
        {
          "output_type": "execute_result",
          "data": {
            "text/html": [
              "<div>\n",
              "<style scoped>\n",
              "    .dataframe tbody tr th:only-of-type {\n",
              "        vertical-align: middle;\n",
              "    }\n",
              "\n",
              "    .dataframe tbody tr th {\n",
              "        vertical-align: top;\n",
              "    }\n",
              "\n",
              "    .dataframe thead th {\n",
              "        text-align: right;\n",
              "    }\n",
              "</style>\n",
              "<table border=\"1\" class=\"dataframe\">\n",
              "  <thead>\n",
              "    <tr style=\"text-align: right;\">\n",
              "      <th></th>\n",
              "      <th>ROUTE</th>\n",
              "      <th>EMBARK_PORT</th>\n",
              "      <th>DISEMBARK_PORT</th>\n",
              "      <th>CABIN_TYPE</th>\n",
              "      <th>DURATION</th>\n",
              "      <th>CRUISE_REGION</th>\n",
              "      <th>BOOKING_WEEK_PRIOR</th>\n",
              "      <th>CANCEL_WEEK_PRIOR</th>\n",
              "      <th>EMBARK_REGION</th>\n",
              "      <th>DEBARK_REGION</th>\n",
              "      <th>PRICE_PAID</th>\n",
              "      <th>NO_OF_PEOPLE_ON_BOOKING</th>\n",
              "    </tr>\n",
              "  </thead>\n",
              "  <tbody>\n",
              "    <tr>\n",
              "      <th>3140</th>\n",
              "      <td>SIN-SOU</td>\n",
              "      <td>SIN</td>\n",
              "      <td>SOU</td>\n",
              "      <td>O</td>\n",
              "      <td>30</td>\n",
              "      <td>Southern Asia</td>\n",
              "      <td>18</td>\n",
              "      <td>NaN</td>\n",
              "      <td>Singapore</td>\n",
              "      <td>UK</td>\n",
              "      <td>2113.381220</td>\n",
              "      <td>2</td>\n",
              "    </tr>\n",
              "    <tr>\n",
              "      <th>1758</th>\n",
              "      <td>DXB-SOU</td>\n",
              "      <td>DXB</td>\n",
              "      <td>SOU</td>\n",
              "      <td>B</td>\n",
              "      <td>19</td>\n",
              "      <td>Middle East</td>\n",
              "      <td>33</td>\n",
              "      <td>NaN</td>\n",
              "      <td>UAE</td>\n",
              "      <td>UK</td>\n",
              "      <td>1531.182215</td>\n",
              "      <td>2</td>\n",
              "    </tr>\n",
              "    <tr>\n",
              "      <th>2158</th>\n",
              "      <td>SIN-SOU</td>\n",
              "      <td>SIN</td>\n",
              "      <td>SOU</td>\n",
              "      <td>B</td>\n",
              "      <td>30</td>\n",
              "      <td>Southern Asia</td>\n",
              "      <td>78</td>\n",
              "      <td>77.0</td>\n",
              "      <td>Singapore</td>\n",
              "      <td>UK</td>\n",
              "      <td>5121.498946</td>\n",
              "      <td>2</td>\n",
              "    </tr>\n",
              "    <tr>\n",
              "      <th>2790</th>\n",
              "      <td>SYD-HKG</td>\n",
              "      <td>SYD</td>\n",
              "      <td>HKG</td>\n",
              "      <td>B</td>\n",
              "      <td>19</td>\n",
              "      <td>GB Reef/Queensland</td>\n",
              "      <td>30</td>\n",
              "      <td>NaN</td>\n",
              "      <td>Australia - New South Wales</td>\n",
              "      <td>China - Southern</td>\n",
              "      <td>1615.528712</td>\n",
              "      <td>2</td>\n",
              "    </tr>\n",
              "    <tr>\n",
              "      <th>3532</th>\n",
              "      <td>SOU-AKL</td>\n",
              "      <td>SOU</td>\n",
              "      <td>AKL</td>\n",
              "      <td>B</td>\n",
              "      <td>40</td>\n",
              "      <td>West Bound</td>\n",
              "      <td>32</td>\n",
              "      <td>NaN</td>\n",
              "      <td>UK</td>\n",
              "      <td>New Zealand</td>\n",
              "      <td>5899.843823</td>\n",
              "      <td>2</td>\n",
              "    </tr>\n",
              "  </tbody>\n",
              "</table>\n",
              "</div>"
            ],
            "text/plain": [
              "        ROUTE EMBARK_PORT  ...   PRICE_PAID NO_OF_PEOPLE_ON_BOOKING\n",
              "3140  SIN-SOU         SIN  ...  2113.381220                       2\n",
              "1758  DXB-SOU         DXB  ...  1531.182215                       2\n",
              "2158  SIN-SOU         SIN  ...  5121.498946                       2\n",
              "2790  SYD-HKG         SYD  ...  1615.528712                       2\n",
              "3532  SOU-AKL         SOU  ...  5899.843823                       2\n",
              "\n",
              "[5 rows x 12 columns]"
            ]
          },
          "metadata": {
            "tags": []
          },
          "execution_count": 58
        }
      ]
    }
  ]
}