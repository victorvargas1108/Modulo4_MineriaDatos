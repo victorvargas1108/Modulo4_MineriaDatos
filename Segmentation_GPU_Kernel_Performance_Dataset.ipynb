{
  "nbformat": 4,
  "nbformat_minor": 0,
  "metadata": {
    "colab": {
      "name": "Segmentation GPU Kernel Performance Dataset.ipynb",
      "provenance": [],
      "authorship_tag": "ABX9TyO6654uPQY+CJlVBE7KJKZJ",
      "include_colab_link": true
    },
    "kernelspec": {
      "name": "python3",
      "display_name": "Python 3"
    }
  },
  "cells": [
    {
      "cell_type": "markdown",
      "metadata": {
        "id": "view-in-github",
        "colab_type": "text"
      },
      "source": [
        "<a href=\"https://colab.research.google.com/github/victorvargas1108/Modulo4_MineriaDatos/blob/master/Segmentation_GPU_Kernel_Performance_Dataset.ipynb\" target=\"_parent\"><img src=\"https://colab.research.google.com/assets/colab-badge.svg\" alt=\"Open In Colab\"/></a>"
      ]
    },
    {
      "cell_type": "code",
      "metadata": {
        "id": "6rvoSyPNbXH1",
        "colab_type": "code",
        "colab": {}
      },
      "source": [
        "import pandas as pd\n",
        "import numpy as np\n",
        "import missingno as msno\n",
        "%matplotlib inline"
      ],
      "execution_count": 0,
      "outputs": []
    },
    {
      "cell_type": "code",
      "metadata": {
        "id": "ph1XYe3xcAPU",
        "colab_type": "code",
        "colab": {
          "base_uri": "https://localhost:8080/",
          "height": 221
        },
        "outputId": "0a9ea628-e8b7-492e-892c-e0a13878753a"
      },
      "source": [
        "path = 'sgemm_product.csv'\n",
        "df = pd.read_csv(path, encoding='latin', error_bad_lines=False)\n",
        "df.head()"
      ],
      "execution_count": 2,
      "outputs": [
        {
          "output_type": "execute_result",
          "data": {
            "text/html": [
              "<div>\n",
              "<style scoped>\n",
              "    .dataframe tbody tr th:only-of-type {\n",
              "        vertical-align: middle;\n",
              "    }\n",
              "\n",
              "    .dataframe tbody tr th {\n",
              "        vertical-align: top;\n",
              "    }\n",
              "\n",
              "    .dataframe thead th {\n",
              "        text-align: right;\n",
              "    }\n",
              "</style>\n",
              "<table border=\"1\" class=\"dataframe\">\n",
              "  <thead>\n",
              "    <tr style=\"text-align: right;\">\n",
              "      <th></th>\n",
              "      <th>MWG</th>\n",
              "      <th>NWG</th>\n",
              "      <th>KWG</th>\n",
              "      <th>MDIMC</th>\n",
              "      <th>NDIMC</th>\n",
              "      <th>MDIMA</th>\n",
              "      <th>NDIMB</th>\n",
              "      <th>KWI</th>\n",
              "      <th>VWM</th>\n",
              "      <th>VWN</th>\n",
              "      <th>STRM</th>\n",
              "      <th>STRN</th>\n",
              "      <th>SA</th>\n",
              "      <th>SB</th>\n",
              "      <th>Run1 (ms)</th>\n",
              "      <th>Run2 (ms)</th>\n",
              "      <th>Run3 (ms)</th>\n",
              "      <th>Run4 (ms)</th>\n",
              "    </tr>\n",
              "  </thead>\n",
              "  <tbody>\n",
              "    <tr>\n",
              "      <th>0</th>\n",
              "      <td>16</td>\n",
              "      <td>16</td>\n",
              "      <td>16</td>\n",
              "      <td>8</td>\n",
              "      <td>8</td>\n",
              "      <td>8</td>\n",
              "      <td>8</td>\n",
              "      <td>2</td>\n",
              "      <td>1</td>\n",
              "      <td>1</td>\n",
              "      <td>0</td>\n",
              "      <td>0</td>\n",
              "      <td>0</td>\n",
              "      <td>0</td>\n",
              "      <td>115.26</td>\n",
              "      <td>115.87</td>\n",
              "      <td>118.55</td>\n",
              "      <td>115.80</td>\n",
              "    </tr>\n",
              "    <tr>\n",
              "      <th>1</th>\n",
              "      <td>16</td>\n",
              "      <td>16</td>\n",
              "      <td>16</td>\n",
              "      <td>8</td>\n",
              "      <td>8</td>\n",
              "      <td>8</td>\n",
              "      <td>8</td>\n",
              "      <td>2</td>\n",
              "      <td>1</td>\n",
              "      <td>1</td>\n",
              "      <td>0</td>\n",
              "      <td>0</td>\n",
              "      <td>0</td>\n",
              "      <td>1</td>\n",
              "      <td>78.13</td>\n",
              "      <td>78.25</td>\n",
              "      <td>79.25</td>\n",
              "      <td>79.19</td>\n",
              "    </tr>\n",
              "    <tr>\n",
              "      <th>2</th>\n",
              "      <td>16</td>\n",
              "      <td>16</td>\n",
              "      <td>16</td>\n",
              "      <td>8</td>\n",
              "      <td>8</td>\n",
              "      <td>8</td>\n",
              "      <td>8</td>\n",
              "      <td>2</td>\n",
              "      <td>1</td>\n",
              "      <td>1</td>\n",
              "      <td>0</td>\n",
              "      <td>0</td>\n",
              "      <td>1</td>\n",
              "      <td>0</td>\n",
              "      <td>79.84</td>\n",
              "      <td>80.69</td>\n",
              "      <td>80.76</td>\n",
              "      <td>80.97</td>\n",
              "    </tr>\n",
              "    <tr>\n",
              "      <th>3</th>\n",
              "      <td>16</td>\n",
              "      <td>16</td>\n",
              "      <td>16</td>\n",
              "      <td>8</td>\n",
              "      <td>8</td>\n",
              "      <td>8</td>\n",
              "      <td>8</td>\n",
              "      <td>2</td>\n",
              "      <td>1</td>\n",
              "      <td>1</td>\n",
              "      <td>0</td>\n",
              "      <td>0</td>\n",
              "      <td>1</td>\n",
              "      <td>1</td>\n",
              "      <td>84.32</td>\n",
              "      <td>89.90</td>\n",
              "      <td>86.75</td>\n",
              "      <td>85.58</td>\n",
              "    </tr>\n",
              "    <tr>\n",
              "      <th>4</th>\n",
              "      <td>16</td>\n",
              "      <td>16</td>\n",
              "      <td>16</td>\n",
              "      <td>8</td>\n",
              "      <td>8</td>\n",
              "      <td>8</td>\n",
              "      <td>8</td>\n",
              "      <td>2</td>\n",
              "      <td>1</td>\n",
              "      <td>1</td>\n",
              "      <td>0</td>\n",
              "      <td>1</td>\n",
              "      <td>0</td>\n",
              "      <td>0</td>\n",
              "      <td>115.13</td>\n",
              "      <td>121.98</td>\n",
              "      <td>122.73</td>\n",
              "      <td>114.81</td>\n",
              "    </tr>\n",
              "  </tbody>\n",
              "</table>\n",
              "</div>"
            ],
            "text/plain": [
              "   MWG  NWG  KWG  MDIMC  NDIMC  ...  SB  Run1 (ms)  Run2 (ms)  Run3 (ms)  Run4 (ms)\n",
              "0   16   16   16      8      8  ...   0     115.26     115.87     118.55     115.80\n",
              "1   16   16   16      8      8  ...   1      78.13      78.25      79.25      79.19\n",
              "2   16   16   16      8      8  ...   0      79.84      80.69      80.76      80.97\n",
              "3   16   16   16      8      8  ...   1      84.32      89.90      86.75      85.58\n",
              "4   16   16   16      8      8  ...   0     115.13     121.98     122.73     114.81\n",
              "\n",
              "[5 rows x 18 columns]"
            ]
          },
          "metadata": {
            "tags": []
          },
          "execution_count": 2
        }
      ]
    },
    {
      "cell_type": "code",
      "metadata": {
        "id": "HtJNpHSMcLDg",
        "colab_type": "code",
        "colab": {
          "base_uri": "https://localhost:8080/",
          "height": 408
        },
        "outputId": "ab15b07e-66b3-4502-cedd-2f31d7305b05"
      },
      "source": [
        "df.info()"
      ],
      "execution_count": 3,
      "outputs": [
        {
          "output_type": "stream",
          "text": [
            "<class 'pandas.core.frame.DataFrame'>\n",
            "RangeIndex: 241600 entries, 0 to 241599\n",
            "Data columns (total 18 columns):\n",
            "MWG          241600 non-null int64\n",
            "NWG          241600 non-null int64\n",
            "KWG          241600 non-null int64\n",
            "MDIMC        241600 non-null int64\n",
            "NDIMC        241600 non-null int64\n",
            "MDIMA        241600 non-null int64\n",
            "NDIMB        241600 non-null int64\n",
            "KWI          241600 non-null int64\n",
            "VWM          241600 non-null int64\n",
            "VWN          241600 non-null int64\n",
            "STRM         241600 non-null int64\n",
            "STRN         241600 non-null int64\n",
            "SA           241600 non-null int64\n",
            "SB           241600 non-null int64\n",
            "Run1 (ms)    241600 non-null float64\n",
            "Run2 (ms)    241600 non-null float64\n",
            "Run3 (ms)    241600 non-null float64\n",
            "Run4 (ms)    241600 non-null float64\n",
            "dtypes: float64(4), int64(14)\n",
            "memory usage: 33.2 MB\n"
          ],
          "name": "stdout"
        }
      ]
    },
    {
      "cell_type": "code",
      "metadata": {
        "id": "C43yPYY0cQcQ",
        "colab_type": "code",
        "colab": {
          "base_uri": "https://localhost:8080/",
          "height": 34
        },
        "outputId": "30736961-4007-40af-997c-1e7c1cf0d8b1"
      },
      "source": [
        "df.shape"
      ],
      "execution_count": 4,
      "outputs": [
        {
          "output_type": "execute_result",
          "data": {
            "text/plain": [
              "(241600, 18)"
            ]
          },
          "metadata": {
            "tags": []
          },
          "execution_count": 4
        }
      ]
    },
    {
      "cell_type": "code",
      "metadata": {
        "id": "JPzHombNcW4f",
        "colab_type": "code",
        "colab": {
          "base_uri": "https://localhost:8080/",
          "height": 34
        },
        "outputId": "f54c5e94-f714-4578-dd5c-5c8b5b54e933"
      },
      "source": [
        "df.shape[0]"
      ],
      "execution_count": 5,
      "outputs": [
        {
          "output_type": "execute_result",
          "data": {
            "text/plain": [
              "241600"
            ]
          },
          "metadata": {
            "tags": []
          },
          "execution_count": 5
        }
      ]
    },
    {
      "cell_type": "code",
      "metadata": {
        "id": "zlnrX15Ica1I",
        "colab_type": "code",
        "colab": {
          "base_uri": "https://localhost:8080/",
          "height": 34
        },
        "outputId": "59fd34f8-d5ac-4c30-abcd-92d7a55a07f0"
      },
      "source": [
        "df.shape[1]"
      ],
      "execution_count": 6,
      "outputs": [
        {
          "output_type": "execute_result",
          "data": {
            "text/plain": [
              "18"
            ]
          },
          "metadata": {
            "tags": []
          },
          "execution_count": 6
        }
      ]
    },
    {
      "cell_type": "code",
      "metadata": {
        "id": "P_zFSz-scehs",
        "colab_type": "code",
        "colab": {
          "base_uri": "https://localhost:8080/",
          "height": 323
        },
        "outputId": "8e929ac2-e9ff-4af8-958e-aed626d0818e"
      },
      "source": [
        "df.columns.values.tolist()"
      ],
      "execution_count": 7,
      "outputs": [
        {
          "output_type": "execute_result",
          "data": {
            "text/plain": [
              "['MWG',\n",
              " 'NWG',\n",
              " 'KWG',\n",
              " 'MDIMC',\n",
              " 'NDIMC',\n",
              " 'MDIMA',\n",
              " 'NDIMB',\n",
              " 'KWI',\n",
              " 'VWM',\n",
              " 'VWN',\n",
              " 'STRM',\n",
              " 'STRN',\n",
              " 'SA',\n",
              " 'SB',\n",
              " 'Run1 (ms)',\n",
              " 'Run2 (ms)',\n",
              " 'Run3 (ms)',\n",
              " 'Run4 (ms)']"
            ]
          },
          "metadata": {
            "tags": []
          },
          "execution_count": 7
        }
      ]
    },
    {
      "cell_type": "code",
      "metadata": {
        "id": "Wjt_nAJGchZz",
        "colab_type": "code",
        "colab": {
          "base_uri": "https://localhost:8080/",
          "height": 340
        },
        "outputId": "24cf4061-1d1d-4202-e5af-bae2fc868ea7"
      },
      "source": [
        "df.dtypes"
      ],
      "execution_count": 8,
      "outputs": [
        {
          "output_type": "execute_result",
          "data": {
            "text/plain": [
              "MWG            int64\n",
              "NWG            int64\n",
              "KWG            int64\n",
              "MDIMC          int64\n",
              "NDIMC          int64\n",
              "MDIMA          int64\n",
              "NDIMB          int64\n",
              "KWI            int64\n",
              "VWM            int64\n",
              "VWN            int64\n",
              "STRM           int64\n",
              "STRN           int64\n",
              "SA             int64\n",
              "SB             int64\n",
              "Run1 (ms)    float64\n",
              "Run2 (ms)    float64\n",
              "Run3 (ms)    float64\n",
              "Run4 (ms)    float64\n",
              "dtype: object"
            ]
          },
          "metadata": {
            "tags": []
          },
          "execution_count": 8
        }
      ]
    },
    {
      "cell_type": "code",
      "metadata": {
        "id": "FAVpJAjCcmEH",
        "colab_type": "code",
        "colab": {
          "base_uri": "https://localhost:8080/",
          "height": 34
        },
        "outputId": "0b5e52a3-0b30-4221-b279-f09c3d6047ad"
      },
      "source": [
        "df.isnull().any().any()"
      ],
      "execution_count": 9,
      "outputs": [
        {
          "output_type": "execute_result",
          "data": {
            "text/plain": [
              "False"
            ]
          },
          "metadata": {
            "tags": []
          },
          "execution_count": 9
        }
      ]
    },
    {
      "cell_type": "code",
      "metadata": {
        "id": "jowzcus5cst4",
        "colab_type": "code",
        "colab": {
          "base_uri": "https://localhost:8080/",
          "height": 700
        },
        "outputId": "cf0aefa5-f2bb-47b7-950c-2a87094fbd74"
      },
      "source": [
        "msno.matrix(df)"
      ],
      "execution_count": 10,
      "outputs": [
        {
          "output_type": "execute_result",
          "data": {
            "text/plain": [
              "<matplotlib.axes._subplots.AxesSubplot at 0x7fa9c58047f0>"
            ]
          },
          "metadata": {
            "tags": []
          },
          "execution_count": 10
        },
        {
          "output_type": "display_data",
          "data": {
            "image/png": "[encoded data removed]",
            "text/plain": [
              "<Figure size 1800x720 with 2 Axes>"
            ]
          },
          "metadata": {
            "tags": []
          }
        }
      ]
    },
    {
      "cell_type": "code",
      "metadata": {
        "id": "EiDXV5c-dBzl",
        "colab_type": "code",
        "colab": {
          "base_uri": "https://localhost:8080/",
          "height": 34
        },
        "outputId": "5ff6b72a-1f8a-40f3-e091-6aa933842c05"
      },
      "source": [
        "df.isnull().any().any()"
      ],
      "execution_count": 12,
      "outputs": [
        {
          "output_type": "execute_result",
          "data": {
            "text/plain": [
              "False"
            ]
          },
          "metadata": {
            "tags": []
          },
          "execution_count": 12
        }
      ]
    },
    {
      "cell_type": "code",
      "metadata": {
        "id": "RPvfx2l8dGnW",
        "colab_type": "code",
        "colab": {
          "base_uri": "https://localhost:8080/",
          "height": 700
        },
        "outputId": "1dbf7df8-475f-4cd4-e58f-4cab44734a89"
      },
      "source": [
        "msno.matrix(df)"
      ],
      "execution_count": 13,
      "outputs": [
        {
          "output_type": "execute_result",
          "data": {
            "text/plain": [
              "<matplotlib.axes._subplots.AxesSubplot at 0x7fa9c2924358>"
            ]
          },
          "metadata": {
            "tags": []
          },
          "execution_count": 13
        },
        {
          "output_type": "display_data",
          "data": {
            "image/png": "[encoded data removed]",
            "text/plain": [
              "<Figure size 1800x720 with 2 Axes>"
            ]
          },
          "metadata": {
            "tags": []
          }
        }
      ]
    },
    {
      "cell_type": "code",
      "metadata": {
        "id": "lSZj_mTAdMmn",
        "colab_type": "code",
        "colab": {
          "base_uri": "https://localhost:8080/",
          "height": 749
        },
        "outputId": "958ff733-d103-4670-bdac-97936588e1c9"
      },
      "source": [
        "msno.bar(df)"
      ],
      "execution_count": 14,
      "outputs": [
        {
          "output_type": "execute_result",
          "data": {
            "text/plain": [
              "<matplotlib.axes._subplots.AxesSubplot at 0x7fa9c1ab6b00>"
            ]
          },
          "metadata": {
            "tags": []
          },
          "execution_count": 14
        },
        {
          "output_type": "display_data",
          "data": {
            "image/png": "[encoded data removed]",
            "text/plain": [
              "<Figure size 1728x720 with 3 Axes>"
            ]
          },
          "metadata": {
            "tags": []
          }
        }
      ]
    },
    {
      "cell_type": "code",
      "metadata": {
        "id": "H0it_brpdPO2",
        "colab_type": "code",
        "colab": {
          "base_uri": "https://localhost:8080/",
          "height": 34
        },
        "outputId": "88ed07ff-8a58-4916-c9d8-9ff60dfe068b"
      },
      "source": [
        "df.columns[df.isnull().any()].tolist()"
      ],
      "execution_count": 15,
      "outputs": [
        {
          "output_type": "execute_result",
          "data": {
            "text/plain": [
              "[]"
            ]
          },
          "metadata": {
            "tags": []
          },
          "execution_count": 15
        }
      ]
    },
    {
      "cell_type": "code",
      "metadata": {
        "id": "7rri5MeJdYAR",
        "colab_type": "code",
        "colab": {
          "base_uri": "https://localhost:8080/",
          "height": 317
        },
        "outputId": "73143a3e-e5b4-44c6-fad2-777b8b712591"
      },
      "source": [
        "df.describe()"
      ],
      "execution_count": 16,
      "outputs": [
        {
          "output_type": "execute_result",
          "data": {
            "text/html": [
              "<div>\n",
              "<style scoped>\n",
              "    .dataframe tbody tr th:only-of-type {\n",
              "        vertical-align: middle;\n",
              "    }\n",
              "\n",
              "    .dataframe tbody tr th {\n",
              "        vertical-align: top;\n",
              "    }\n",
              "\n",
              "    .dataframe thead th {\n",
              "        text-align: right;\n",
              "    }\n",
              "</style>\n",
              "<table border=\"1\" class=\"dataframe\">\n",
              "  <thead>\n",
              "    <tr style=\"text-align: right;\">\n",
              "      <th></th>\n",
              "      <th>MWG</th>\n",
              "      <th>NWG</th>\n",
              "      <th>KWG</th>\n",
              "      <th>MDIMC</th>\n",
              "      <th>NDIMC</th>\n",
              "      <th>MDIMA</th>\n",
              "      <th>NDIMB</th>\n",
              "      <th>KWI</th>\n",
              "      <th>VWM</th>\n",
              "      <th>VWN</th>\n",
              "      <th>STRM</th>\n",
              "      <th>STRN</th>\n",
              "      <th>SA</th>\n",
              "      <th>SB</th>\n",
              "      <th>Run1 (ms)</th>\n",
              "      <th>Run2 (ms)</th>\n",
              "      <th>Run3 (ms)</th>\n",
              "      <th>Run4 (ms)</th>\n",
              "    </tr>\n",
              "  </thead>\n",
              "  <tbody>\n",
              "    <tr>\n",
              "      <th>count</th>\n",
              "      <td>241600.000000</td>\n",
              "      <td>241600.000000</td>\n",
              "      <td>241600.000000</td>\n",
              "      <td>241600.000000</td>\n",
              "      <td>241600.000000</td>\n",
              "      <td>241600.000000</td>\n",
              "      <td>241600.000000</td>\n",
              "      <td>241600.000000</td>\n",
              "      <td>241600.000000</td>\n",
              "      <td>241600.000000</td>\n",
              "      <td>241600.000000</td>\n",
              "      <td>241600.000000</td>\n",
              "      <td>241600.000000</td>\n",
              "      <td>241600.000000</td>\n",
              "      <td>241600.000000</td>\n",
              "      <td>241600.000000</td>\n",
              "      <td>241600.000000</td>\n",
              "      <td>241600.000000</td>\n",
              "    </tr>\n",
              "    <tr>\n",
              "      <th>mean</th>\n",
              "      <td>80.415364</td>\n",
              "      <td>80.415364</td>\n",
              "      <td>25.513113</td>\n",
              "      <td>13.935894</td>\n",
              "      <td>13.935894</td>\n",
              "      <td>17.371126</td>\n",
              "      <td>17.371126</td>\n",
              "      <td>5.000000</td>\n",
              "      <td>2.448609</td>\n",
              "      <td>2.448609</td>\n",
              "      <td>0.500000</td>\n",
              "      <td>0.500000</td>\n",
              "      <td>0.500000</td>\n",
              "      <td>0.500000</td>\n",
              "      <td>217.647852</td>\n",
              "      <td>217.579536</td>\n",
              "      <td>217.532756</td>\n",
              "      <td>217.527669</td>\n",
              "    </tr>\n",
              "    <tr>\n",
              "      <th>std</th>\n",
              "      <td>42.469220</td>\n",
              "      <td>42.469220</td>\n",
              "      <td>7.855619</td>\n",
              "      <td>7.873662</td>\n",
              "      <td>7.873662</td>\n",
              "      <td>9.389418</td>\n",
              "      <td>9.389418</td>\n",
              "      <td>3.000006</td>\n",
              "      <td>1.953759</td>\n",
              "      <td>1.953759</td>\n",
              "      <td>0.500001</td>\n",
              "      <td>0.500001</td>\n",
              "      <td>0.500001</td>\n",
              "      <td>0.500001</td>\n",
              "      <td>369.012422</td>\n",
              "      <td>368.677309</td>\n",
              "      <td>368.655118</td>\n",
              "      <td>368.677413</td>\n",
              "    </tr>\n",
              "    <tr>\n",
              "      <th>min</th>\n",
              "      <td>16.000000</td>\n",
              "      <td>16.000000</td>\n",
              "      <td>16.000000</td>\n",
              "      <td>8.000000</td>\n",
              "      <td>8.000000</td>\n",
              "      <td>8.000000</td>\n",
              "      <td>8.000000</td>\n",
              "      <td>2.000000</td>\n",
              "      <td>1.000000</td>\n",
              "      <td>1.000000</td>\n",
              "      <td>0.000000</td>\n",
              "      <td>0.000000</td>\n",
              "      <td>0.000000</td>\n",
              "      <td>0.000000</td>\n",
              "      <td>13.290000</td>\n",
              "      <td>13.250000</td>\n",
              "      <td>13.360000</td>\n",
              "      <td>13.370000</td>\n",
              "    </tr>\n",
              "    <tr>\n",
              "      <th>25%</th>\n",
              "      <td>32.000000</td>\n",
              "      <td>32.000000</td>\n",
              "      <td>16.000000</td>\n",
              "      <td>8.000000</td>\n",
              "      <td>8.000000</td>\n",
              "      <td>8.000000</td>\n",
              "      <td>8.000000</td>\n",
              "      <td>2.000000</td>\n",
              "      <td>1.000000</td>\n",
              "      <td>1.000000</td>\n",
              "      <td>0.000000</td>\n",
              "      <td>0.000000</td>\n",
              "      <td>0.000000</td>\n",
              "      <td>0.000000</td>\n",
              "      <td>40.660000</td>\n",
              "      <td>40.710000</td>\n",
              "      <td>40.660000</td>\n",
              "      <td>40.640000</td>\n",
              "    </tr>\n",
              "    <tr>\n",
              "      <th>50%</th>\n",
              "      <td>64.000000</td>\n",
              "      <td>64.000000</td>\n",
              "      <td>32.000000</td>\n",
              "      <td>8.000000</td>\n",
              "      <td>8.000000</td>\n",
              "      <td>16.000000</td>\n",
              "      <td>16.000000</td>\n",
              "      <td>5.000000</td>\n",
              "      <td>2.000000</td>\n",
              "      <td>2.000000</td>\n",
              "      <td>0.500000</td>\n",
              "      <td>0.500000</td>\n",
              "      <td>0.500000</td>\n",
              "      <td>0.500000</td>\n",
              "      <td>69.825000</td>\n",
              "      <td>69.930000</td>\n",
              "      <td>69.790000</td>\n",
              "      <td>69.820000</td>\n",
              "    </tr>\n",
              "    <tr>\n",
              "      <th>75%</th>\n",
              "      <td>128.000000</td>\n",
              "      <td>128.000000</td>\n",
              "      <td>32.000000</td>\n",
              "      <td>16.000000</td>\n",
              "      <td>16.000000</td>\n",
              "      <td>32.000000</td>\n",
              "      <td>32.000000</td>\n",
              "      <td>8.000000</td>\n",
              "      <td>4.000000</td>\n",
              "      <td>4.000000</td>\n",
              "      <td>1.000000</td>\n",
              "      <td>1.000000</td>\n",
              "      <td>1.000000</td>\n",
              "      <td>1.000000</td>\n",
              "      <td>228.530000</td>\n",
              "      <td>228.310000</td>\n",
              "      <td>228.320000</td>\n",
              "      <td>228.320000</td>\n",
              "    </tr>\n",
              "    <tr>\n",
              "      <th>max</th>\n",
              "      <td>128.000000</td>\n",
              "      <td>128.000000</td>\n",
              "      <td>32.000000</td>\n",
              "      <td>32.000000</td>\n",
              "      <td>32.000000</td>\n",
              "      <td>32.000000</td>\n",
              "      <td>32.000000</td>\n",
              "      <td>8.000000</td>\n",
              "      <td>8.000000</td>\n",
              "      <td>8.000000</td>\n",
              "      <td>1.000000</td>\n",
              "      <td>1.000000</td>\n",
              "      <td>1.000000</td>\n",
              "      <td>1.000000</td>\n",
              "      <td>3339.630000</td>\n",
              "      <td>3375.420000</td>\n",
              "      <td>3397.080000</td>\n",
              "      <td>3361.710000</td>\n",
              "    </tr>\n",
              "  </tbody>\n",
              "</table>\n",
              "</div>"
            ],
            "text/plain": [
              "                 MWG            NWG  ...      Run3 (ms)      Run4 (ms)\n",
              "count  241600.000000  241600.000000  ...  241600.000000  241600.000000\n",
              "mean       80.415364      80.415364  ...     217.532756     217.527669\n",
              "std        42.469220      42.469220  ...     368.655118     368.677413\n",
              "min        16.000000      16.000000  ...      13.360000      13.370000\n",
              "25%        32.000000      32.000000  ...      40.660000      40.640000\n",
              "50%        64.000000      64.000000  ...      69.790000      69.820000\n",
              "75%       128.000000     128.000000  ...     228.320000     228.320000\n",
              "max       128.000000     128.000000  ...    3397.080000    3361.710000\n",
              "\n",
              "[8 rows x 18 columns]"
            ]
          },
          "metadata": {
            "tags": []
          },
          "execution_count": 16
        }
      ]
    },
    {
      "cell_type": "code",
      "metadata": {
        "id": "9LHd3oJEdcCv",
        "colab_type": "code",
        "colab": {
          "base_uri": "https://localhost:8080/",
          "height": 97
        },
        "outputId": "a5901209-56ad-4478-eef4-e9b5fbf004a1"
      },
      "source": [
        "df.loc[[0]]"
      ],
      "execution_count": 17,
      "outputs": [
        {
          "output_type": "execute_result",
          "data": {
            "text/html": [
              "<div>\n",
              "<style scoped>\n",
              "    .dataframe tbody tr th:only-of-type {\n",
              "        vertical-align: middle;\n",
              "    }\n",
              "\n",
              "    .dataframe tbody tr th {\n",
              "        vertical-align: top;\n",
              "    }\n",
              "\n",
              "    .dataframe thead th {\n",
              "        text-align: right;\n",
              "    }\n",
              "</style>\n",
              "<table border=\"1\" class=\"dataframe\">\n",
              "  <thead>\n",
              "    <tr style=\"text-align: right;\">\n",
              "      <th></th>\n",
              "      <th>MWG</th>\n",
              "      <th>NWG</th>\n",
              "      <th>KWG</th>\n",
              "      <th>MDIMC</th>\n",
              "      <th>NDIMC</th>\n",
              "      <th>MDIMA</th>\n",
              "      <th>NDIMB</th>\n",
              "      <th>KWI</th>\n",
              "      <th>VWM</th>\n",
              "      <th>VWN</th>\n",
              "      <th>STRM</th>\n",
              "      <th>STRN</th>\n",
              "      <th>SA</th>\n",
              "      <th>SB</th>\n",
              "      <th>Run1 (ms)</th>\n",
              "      <th>Run2 (ms)</th>\n",
              "      <th>Run3 (ms)</th>\n",
              "      <th>Run4 (ms)</th>\n",
              "    </tr>\n",
              "  </thead>\n",
              "  <tbody>\n",
              "    <tr>\n",
              "      <th>0</th>\n",
              "      <td>16</td>\n",
              "      <td>16</td>\n",
              "      <td>16</td>\n",
              "      <td>8</td>\n",
              "      <td>8</td>\n",
              "      <td>8</td>\n",
              "      <td>8</td>\n",
              "      <td>2</td>\n",
              "      <td>1</td>\n",
              "      <td>1</td>\n",
              "      <td>0</td>\n",
              "      <td>0</td>\n",
              "      <td>0</td>\n",
              "      <td>0</td>\n",
              "      <td>115.26</td>\n",
              "      <td>115.87</td>\n",
              "      <td>118.55</td>\n",
              "      <td>115.8</td>\n",
              "    </tr>\n",
              "  </tbody>\n",
              "</table>\n",
              "</div>"
            ],
            "text/plain": [
              "   MWG  NWG  KWG  MDIMC  NDIMC  ...  SB  Run1 (ms)  Run2 (ms)  Run3 (ms)  Run4 (ms)\n",
              "0   16   16   16      8      8  ...   0     115.26     115.87     118.55      115.8\n",
              "\n",
              "[1 rows x 18 columns]"
            ]
          },
          "metadata": {
            "tags": []
          },
          "execution_count": 17
        }
      ]
    },
    {
      "cell_type": "code",
      "metadata": {
        "id": "w-LadJ4hdgzX",
        "colab_type": "code",
        "colab": {
          "base_uri": "https://localhost:8080/",
          "height": 190
        },
        "outputId": "de51d143-f22d-4f98-812f-6395c4059715"
      },
      "source": [
        "df.loc[30:33]"
      ],
      "execution_count": 18,
      "outputs": [
        {
          "output_type": "execute_result",
          "data": {
            "text/html": [
              "<div>\n",
              "<style scoped>\n",
              "    .dataframe tbody tr th:only-of-type {\n",
              "        vertical-align: middle;\n",
              "    }\n",
              "\n",
              "    .dataframe tbody tr th {\n",
              "        vertical-align: top;\n",
              "    }\n",
              "\n",
              "    .dataframe thead th {\n",
              "        text-align: right;\n",
              "    }\n",
              "</style>\n",
              "<table border=\"1\" class=\"dataframe\">\n",
              "  <thead>\n",
              "    <tr style=\"text-align: right;\">\n",
              "      <th></th>\n",
              "      <th>MWG</th>\n",
              "      <th>NWG</th>\n",
              "      <th>KWG</th>\n",
              "      <th>MDIMC</th>\n",
              "      <th>NDIMC</th>\n",
              "      <th>MDIMA</th>\n",
              "      <th>NDIMB</th>\n",
              "      <th>KWI</th>\n",
              "      <th>VWM</th>\n",
              "      <th>VWN</th>\n",
              "      <th>STRM</th>\n",
              "      <th>STRN</th>\n",
              "      <th>SA</th>\n",
              "      <th>SB</th>\n",
              "      <th>Run1 (ms)</th>\n",
              "      <th>Run2 (ms)</th>\n",
              "      <th>Run3 (ms)</th>\n",
              "      <th>Run4 (ms)</th>\n",
              "    </tr>\n",
              "  </thead>\n",
              "  <tbody>\n",
              "    <tr>\n",
              "      <th>30</th>\n",
              "      <td>16</td>\n",
              "      <td>16</td>\n",
              "      <td>16</td>\n",
              "      <td>8</td>\n",
              "      <td>8</td>\n",
              "      <td>8</td>\n",
              "      <td>8</td>\n",
              "      <td>2</td>\n",
              "      <td>1</td>\n",
              "      <td>2</td>\n",
              "      <td>1</td>\n",
              "      <td>1</td>\n",
              "      <td>1</td>\n",
              "      <td>0</td>\n",
              "      <td>73.58</td>\n",
              "      <td>73.33</td>\n",
              "      <td>74.58</td>\n",
              "      <td>74.82</td>\n",
              "    </tr>\n",
              "    <tr>\n",
              "      <th>31</th>\n",
              "      <td>16</td>\n",
              "      <td>16</td>\n",
              "      <td>16</td>\n",
              "      <td>8</td>\n",
              "      <td>8</td>\n",
              "      <td>8</td>\n",
              "      <td>8</td>\n",
              "      <td>2</td>\n",
              "      <td>1</td>\n",
              "      <td>2</td>\n",
              "      <td>1</td>\n",
              "      <td>1</td>\n",
              "      <td>1</td>\n",
              "      <td>1</td>\n",
              "      <td>75.30</td>\n",
              "      <td>74.06</td>\n",
              "      <td>76.74</td>\n",
              "      <td>77.70</td>\n",
              "    </tr>\n",
              "    <tr>\n",
              "      <th>32</th>\n",
              "      <td>16</td>\n",
              "      <td>16</td>\n",
              "      <td>16</td>\n",
              "      <td>8</td>\n",
              "      <td>8</td>\n",
              "      <td>8</td>\n",
              "      <td>8</td>\n",
              "      <td>2</td>\n",
              "      <td>2</td>\n",
              "      <td>1</td>\n",
              "      <td>0</td>\n",
              "      <td>0</td>\n",
              "      <td>0</td>\n",
              "      <td>0</td>\n",
              "      <td>72.45</td>\n",
              "      <td>72.58</td>\n",
              "      <td>73.35</td>\n",
              "      <td>76.92</td>\n",
              "    </tr>\n",
              "    <tr>\n",
              "      <th>33</th>\n",
              "      <td>16</td>\n",
              "      <td>16</td>\n",
              "      <td>16</td>\n",
              "      <td>8</td>\n",
              "      <td>8</td>\n",
              "      <td>8</td>\n",
              "      <td>8</td>\n",
              "      <td>2</td>\n",
              "      <td>2</td>\n",
              "      <td>1</td>\n",
              "      <td>0</td>\n",
              "      <td>0</td>\n",
              "      <td>0</td>\n",
              "      <td>1</td>\n",
              "      <td>69.36</td>\n",
              "      <td>69.24</td>\n",
              "      <td>70.55</td>\n",
              "      <td>75.21</td>\n",
              "    </tr>\n",
              "  </tbody>\n",
              "</table>\n",
              "</div>"
            ],
            "text/plain": [
              "    MWG  NWG  KWG  MDIMC  NDIMC  ...  SB  Run1 (ms)  Run2 (ms)  Run3 (ms)  Run4 (ms)\n",
              "30   16   16   16      8      8  ...   0      73.58      73.33      74.58      74.82\n",
              "31   16   16   16      8      8  ...   1      75.30      74.06      76.74      77.70\n",
              "32   16   16   16      8      8  ...   0      72.45      72.58      73.35      76.92\n",
              "33   16   16   16      8      8  ...   1      69.36      69.24      70.55      75.21\n",
              "\n",
              "[4 rows x 18 columns]"
            ]
          },
          "metadata": {
            "tags": []
          },
          "execution_count": 18
        }
      ]
    },
    {
      "cell_type": "code",
      "metadata": {
        "id": "QVskecM1dlMG",
        "colab_type": "code",
        "colab": {
          "base_uri": "https://localhost:8080/",
          "height": 221
        },
        "outputId": "07104da0-6840-494a-8c5b-de828ff0715b"
      },
      "source": [
        "df.drop([0,24,51], axis=0).head()"
      ],
      "execution_count": 19,
      "outputs": [
        {
          "output_type": "execute_result",
          "data": {
            "text/html": [
              "<div>\n",
              "<style scoped>\n",
              "    .dataframe tbody tr th:only-of-type {\n",
              "        vertical-align: middle;\n",
              "    }\n",
              "\n",
              "    .dataframe tbody tr th {\n",
              "        vertical-align: top;\n",
              "    }\n",
              "\n",
              "    .dataframe thead th {\n",
              "        text-align: right;\n",
              "    }\n",
              "</style>\n",
              "<table border=\"1\" class=\"dataframe\">\n",
              "  <thead>\n",
              "    <tr style=\"text-align: right;\">\n",
              "      <th></th>\n",
              "      <th>MWG</th>\n",
              "      <th>NWG</th>\n",
              "      <th>KWG</th>\n",
              "      <th>MDIMC</th>\n",
              "      <th>NDIMC</th>\n",
              "      <th>MDIMA</th>\n",
              "      <th>NDIMB</th>\n",
              "      <th>KWI</th>\n",
              "      <th>VWM</th>\n",
              "      <th>VWN</th>\n",
              "      <th>STRM</th>\n",
              "      <th>STRN</th>\n",
              "      <th>SA</th>\n",
              "      <th>SB</th>\n",
              "      <th>Run1 (ms)</th>\n",
              "      <th>Run2 (ms)</th>\n",
              "      <th>Run3 (ms)</th>\n",
              "      <th>Run4 (ms)</th>\n",
              "    </tr>\n",
              "  </thead>\n",
              "  <tbody>\n",
              "    <tr>\n",
              "      <th>1</th>\n",
              "      <td>16</td>\n",
              "      <td>16</td>\n",
              "      <td>16</td>\n",
              "      <td>8</td>\n",
              "      <td>8</td>\n",
              "      <td>8</td>\n",
              "      <td>8</td>\n",
              "      <td>2</td>\n",
              "      <td>1</td>\n",
              "      <td>1</td>\n",
              "      <td>0</td>\n",
              "      <td>0</td>\n",
              "      <td>0</td>\n",
              "      <td>1</td>\n",
              "      <td>78.13</td>\n",
              "      <td>78.25</td>\n",
              "      <td>79.25</td>\n",
              "      <td>79.19</td>\n",
              "    </tr>\n",
              "    <tr>\n",
              "      <th>2</th>\n",
              "      <td>16</td>\n",
              "      <td>16</td>\n",
              "      <td>16</td>\n",
              "      <td>8</td>\n",
              "      <td>8</td>\n",
              "      <td>8</td>\n",
              "      <td>8</td>\n",
              "      <td>2</td>\n",
              "      <td>1</td>\n",
              "      <td>1</td>\n",
              "      <td>0</td>\n",
              "      <td>0</td>\n",
              "      <td>1</td>\n",
              "      <td>0</td>\n",
              "      <td>79.84</td>\n",
              "      <td>80.69</td>\n",
              "      <td>80.76</td>\n",
              "      <td>80.97</td>\n",
              "    </tr>\n",
              "    <tr>\n",
              "      <th>3</th>\n",
              "      <td>16</td>\n",
              "      <td>16</td>\n",
              "      <td>16</td>\n",
              "      <td>8</td>\n",
              "      <td>8</td>\n",
              "      <td>8</td>\n",
              "      <td>8</td>\n",
              "      <td>2</td>\n",
              "      <td>1</td>\n",
              "      <td>1</td>\n",
              "      <td>0</td>\n",
              "      <td>0</td>\n",
              "      <td>1</td>\n",
              "      <td>1</td>\n",
              "      <td>84.32</td>\n",
              "      <td>89.90</td>\n",
              "      <td>86.75</td>\n",
              "      <td>85.58</td>\n",
              "    </tr>\n",
              "    <tr>\n",
              "      <th>4</th>\n",
              "      <td>16</td>\n",
              "      <td>16</td>\n",
              "      <td>16</td>\n",
              "      <td>8</td>\n",
              "      <td>8</td>\n",
              "      <td>8</td>\n",
              "      <td>8</td>\n",
              "      <td>2</td>\n",
              "      <td>1</td>\n",
              "      <td>1</td>\n",
              "      <td>0</td>\n",
              "      <td>1</td>\n",
              "      <td>0</td>\n",
              "      <td>0</td>\n",
              "      <td>115.13</td>\n",
              "      <td>121.98</td>\n",
              "      <td>122.73</td>\n",
              "      <td>114.81</td>\n",
              "    </tr>\n",
              "    <tr>\n",
              "      <th>5</th>\n",
              "      <td>16</td>\n",
              "      <td>16</td>\n",
              "      <td>16</td>\n",
              "      <td>8</td>\n",
              "      <td>8</td>\n",
              "      <td>8</td>\n",
              "      <td>8</td>\n",
              "      <td>2</td>\n",
              "      <td>1</td>\n",
              "      <td>1</td>\n",
              "      <td>0</td>\n",
              "      <td>1</td>\n",
              "      <td>0</td>\n",
              "      <td>1</td>\n",
              "      <td>81.10</td>\n",
              "      <td>82.41</td>\n",
              "      <td>87.01</td>\n",
              "      <td>82.14</td>\n",
              "    </tr>\n",
              "  </tbody>\n",
              "</table>\n",
              "</div>"
            ],
            "text/plain": [
              "   MWG  NWG  KWG  MDIMC  NDIMC  ...  SB  Run1 (ms)  Run2 (ms)  Run3 (ms)  Run4 (ms)\n",
              "1   16   16   16      8      8  ...   1      78.13      78.25      79.25      79.19\n",
              "2   16   16   16      8      8  ...   0      79.84      80.69      80.76      80.97\n",
              "3   16   16   16      8      8  ...   1      84.32      89.90      86.75      85.58\n",
              "4   16   16   16      8      8  ...   0     115.13     121.98     122.73     114.81\n",
              "5   16   16   16      8      8  ...   1      81.10      82.41      87.01      82.14\n",
              "\n",
              "[5 rows x 18 columns]"
            ]
          },
          "metadata": {
            "tags": []
          },
          "execution_count": 19
        }
      ]
    },
    {
      "cell_type": "code",
      "metadata": {
        "id": "2qA9DcIqdpx_",
        "colab_type": "code",
        "colab": {
          "base_uri": "https://localhost:8080/",
          "height": 376
        },
        "outputId": "98a34695-c30a-47f1-ecb7-06f1c5892fc5"
      },
      "source": [
        "df.drop(df.index[1:5], axis=0).head(10)"
      ],
      "execution_count": 20,
      "outputs": [
        {
          "output_type": "execute_result",
          "data": {
            "text/html": [
              "<div>\n",
              "<style scoped>\n",
              "    .dataframe tbody tr th:only-of-type {\n",
              "        vertical-align: middle;\n",
              "    }\n",
              "\n",
              "    .dataframe tbody tr th {\n",
              "        vertical-align: top;\n",
              "    }\n",
              "\n",
              "    .dataframe thead th {\n",
              "        text-align: right;\n",
              "    }\n",
              "</style>\n",
              "<table border=\"1\" class=\"dataframe\">\n",
              "  <thead>\n",
              "    <tr style=\"text-align: right;\">\n",
              "      <th></th>\n",
              "      <th>MWG</th>\n",
              "      <th>NWG</th>\n",
              "      <th>KWG</th>\n",
              "      <th>MDIMC</th>\n",
              "      <th>NDIMC</th>\n",
              "      <th>MDIMA</th>\n",
              "      <th>NDIMB</th>\n",
              "      <th>KWI</th>\n",
              "      <th>VWM</th>\n",
              "      <th>VWN</th>\n",
              "      <th>STRM</th>\n",
              "      <th>STRN</th>\n",
              "      <th>SA</th>\n",
              "      <th>SB</th>\n",
              "      <th>Run1 (ms)</th>\n",
              "      <th>Run2 (ms)</th>\n",
              "      <th>Run3 (ms)</th>\n",
              "      <th>Run4 (ms)</th>\n",
              "    </tr>\n",
              "  </thead>\n",
              "  <tbody>\n",
              "    <tr>\n",
              "      <th>0</th>\n",
              "      <td>16</td>\n",
              "      <td>16</td>\n",
              "      <td>16</td>\n",
              "      <td>8</td>\n",
              "      <td>8</td>\n",
              "      <td>8</td>\n",
              "      <td>8</td>\n",
              "      <td>2</td>\n",
              "      <td>1</td>\n",
              "      <td>1</td>\n",
              "      <td>0</td>\n",
              "      <td>0</td>\n",
              "      <td>0</td>\n",
              "      <td>0</td>\n",
              "      <td>115.26</td>\n",
              "      <td>115.87</td>\n",
              "      <td>118.55</td>\n",
              "      <td>115.80</td>\n",
              "    </tr>\n",
              "    <tr>\n",
              "      <th>5</th>\n",
              "      <td>16</td>\n",
              "      <td>16</td>\n",
              "      <td>16</td>\n",
              "      <td>8</td>\n",
              "      <td>8</td>\n",
              "      <td>8</td>\n",
              "      <td>8</td>\n",
              "      <td>2</td>\n",
              "      <td>1</td>\n",
              "      <td>1</td>\n",
              "      <td>0</td>\n",
              "      <td>1</td>\n",
              "      <td>0</td>\n",
              "      <td>1</td>\n",
              "      <td>81.10</td>\n",
              "      <td>82.41</td>\n",
              "      <td>87.01</td>\n",
              "      <td>82.14</td>\n",
              "    </tr>\n",
              "    <tr>\n",
              "      <th>6</th>\n",
              "      <td>16</td>\n",
              "      <td>16</td>\n",
              "      <td>16</td>\n",
              "      <td>8</td>\n",
              "      <td>8</td>\n",
              "      <td>8</td>\n",
              "      <td>8</td>\n",
              "      <td>2</td>\n",
              "      <td>1</td>\n",
              "      <td>1</td>\n",
              "      <td>0</td>\n",
              "      <td>1</td>\n",
              "      <td>1</td>\n",
              "      <td>0</td>\n",
              "      <td>83.31</td>\n",
              "      <td>82.86</td>\n",
              "      <td>88.60</td>\n",
              "      <td>82.97</td>\n",
              "    </tr>\n",
              "    <tr>\n",
              "      <th>7</th>\n",
              "      <td>16</td>\n",
              "      <td>16</td>\n",
              "      <td>16</td>\n",
              "      <td>8</td>\n",
              "      <td>8</td>\n",
              "      <td>8</td>\n",
              "      <td>8</td>\n",
              "      <td>2</td>\n",
              "      <td>1</td>\n",
              "      <td>1</td>\n",
              "      <td>0</td>\n",
              "      <td>1</td>\n",
              "      <td>1</td>\n",
              "      <td>1</td>\n",
              "      <td>93.13</td>\n",
              "      <td>94.30</td>\n",
              "      <td>96.19</td>\n",
              "      <td>94.43</td>\n",
              "    </tr>\n",
              "    <tr>\n",
              "      <th>8</th>\n",
              "      <td>16</td>\n",
              "      <td>16</td>\n",
              "      <td>16</td>\n",
              "      <td>8</td>\n",
              "      <td>8</td>\n",
              "      <td>8</td>\n",
              "      <td>8</td>\n",
              "      <td>2</td>\n",
              "      <td>1</td>\n",
              "      <td>1</td>\n",
              "      <td>1</td>\n",
              "      <td>0</td>\n",
              "      <td>0</td>\n",
              "      <td>0</td>\n",
              "      <td>117.38</td>\n",
              "      <td>116.95</td>\n",
              "      <td>124.15</td>\n",
              "      <td>117.83</td>\n",
              "    </tr>\n",
              "    <tr>\n",
              "      <th>9</th>\n",
              "      <td>16</td>\n",
              "      <td>16</td>\n",
              "      <td>16</td>\n",
              "      <td>8</td>\n",
              "      <td>8</td>\n",
              "      <td>8</td>\n",
              "      <td>8</td>\n",
              "      <td>2</td>\n",
              "      <td>1</td>\n",
              "      <td>1</td>\n",
              "      <td>1</td>\n",
              "      <td>0</td>\n",
              "      <td>0</td>\n",
              "      <td>1</td>\n",
              "      <td>85.76</td>\n",
              "      <td>85.30</td>\n",
              "      <td>86.96</td>\n",
              "      <td>87.19</td>\n",
              "    </tr>\n",
              "    <tr>\n",
              "      <th>10</th>\n",
              "      <td>16</td>\n",
              "      <td>16</td>\n",
              "      <td>16</td>\n",
              "      <td>8</td>\n",
              "      <td>8</td>\n",
              "      <td>8</td>\n",
              "      <td>8</td>\n",
              "      <td>2</td>\n",
              "      <td>1</td>\n",
              "      <td>1</td>\n",
              "      <td>1</td>\n",
              "      <td>0</td>\n",
              "      <td>1</td>\n",
              "      <td>0</td>\n",
              "      <td>83.48</td>\n",
              "      <td>83.46</td>\n",
              "      <td>84.44</td>\n",
              "      <td>84.38</td>\n",
              "    </tr>\n",
              "    <tr>\n",
              "      <th>11</th>\n",
              "      <td>16</td>\n",
              "      <td>16</td>\n",
              "      <td>16</td>\n",
              "      <td>8</td>\n",
              "      <td>8</td>\n",
              "      <td>8</td>\n",
              "      <td>8</td>\n",
              "      <td>2</td>\n",
              "      <td>1</td>\n",
              "      <td>1</td>\n",
              "      <td>1</td>\n",
              "      <td>0</td>\n",
              "      <td>1</td>\n",
              "      <td>1</td>\n",
              "      <td>87.08</td>\n",
              "      <td>85.97</td>\n",
              "      <td>87.09</td>\n",
              "      <td>87.23</td>\n",
              "    </tr>\n",
              "    <tr>\n",
              "      <th>12</th>\n",
              "      <td>16</td>\n",
              "      <td>16</td>\n",
              "      <td>16</td>\n",
              "      <td>8</td>\n",
              "      <td>8</td>\n",
              "      <td>8</td>\n",
              "      <td>8</td>\n",
              "      <td>2</td>\n",
              "      <td>1</td>\n",
              "      <td>1</td>\n",
              "      <td>1</td>\n",
              "      <td>1</td>\n",
              "      <td>0</td>\n",
              "      <td>0</td>\n",
              "      <td>118.71</td>\n",
              "      <td>117.23</td>\n",
              "      <td>118.61</td>\n",
              "      <td>118.55</td>\n",
              "    </tr>\n",
              "    <tr>\n",
              "      <th>13</th>\n",
              "      <td>16</td>\n",
              "      <td>16</td>\n",
              "      <td>16</td>\n",
              "      <td>8</td>\n",
              "      <td>8</td>\n",
              "      <td>8</td>\n",
              "      <td>8</td>\n",
              "      <td>2</td>\n",
              "      <td>1</td>\n",
              "      <td>1</td>\n",
              "      <td>1</td>\n",
              "      <td>1</td>\n",
              "      <td>0</td>\n",
              "      <td>1</td>\n",
              "      <td>91.28</td>\n",
              "      <td>92.42</td>\n",
              "      <td>92.42</td>\n",
              "      <td>93.40</td>\n",
              "    </tr>\n",
              "  </tbody>\n",
              "</table>\n",
              "</div>"
            ],
            "text/plain": [
              "    MWG  NWG  KWG  MDIMC  NDIMC  ...  SB  Run1 (ms)  Run2 (ms)  Run3 (ms)  Run4 (ms)\n",
              "0    16   16   16      8      8  ...   0     115.26     115.87     118.55     115.80\n",
              "5    16   16   16      8      8  ...   1      81.10      82.41      87.01      82.14\n",
              "6    16   16   16      8      8  ...   0      83.31      82.86      88.60      82.97\n",
              "7    16   16   16      8      8  ...   1      93.13      94.30      96.19      94.43\n",
              "8    16   16   16      8      8  ...   0     117.38     116.95     124.15     117.83\n",
              "9    16   16   16      8      8  ...   1      85.76      85.30      86.96      87.19\n",
              "10   16   16   16      8      8  ...   0      83.48      83.46      84.44      84.38\n",
              "11   16   16   16      8      8  ...   1      87.08      85.97      87.09      87.23\n",
              "12   16   16   16      8      8  ...   0     118.71     117.23     118.61     118.55\n",
              "13   16   16   16      8      8  ...   1      91.28      92.42      92.42      93.40\n",
              "\n",
              "[10 rows x 18 columns]"
            ]
          },
          "metadata": {
            "tags": []
          },
          "execution_count": 20
        }
      ]
    },
    {
      "cell_type": "code",
      "metadata": {
        "id": "iUhPlOiVduTP",
        "colab_type": "code",
        "colab": {
          "base_uri": "https://localhost:8080/",
          "height": 221
        },
        "outputId": "e6efe773-dba3-455a-cc4b-68843cb44704"
      },
      "source": [
        "df[100:].head() #df.tail(-100) )"
      ],
      "execution_count": 21,
      "outputs": [
        {
          "output_type": "execute_result",
          "data": {
            "text/html": [
              "<div>\n",
              "<style scoped>\n",
              "    .dataframe tbody tr th:only-of-type {\n",
              "        vertical-align: middle;\n",
              "    }\n",
              "\n",
              "    .dataframe tbody tr th {\n",
              "        vertical-align: top;\n",
              "    }\n",
              "\n",
              "    .dataframe thead th {\n",
              "        text-align: right;\n",
              "    }\n",
              "</style>\n",
              "<table border=\"1\" class=\"dataframe\">\n",
              "  <thead>\n",
              "    <tr style=\"text-align: right;\">\n",
              "      <th></th>\n",
              "      <th>MWG</th>\n",
              "      <th>NWG</th>\n",
              "      <th>KWG</th>\n",
              "      <th>MDIMC</th>\n",
              "      <th>NDIMC</th>\n",
              "      <th>MDIMA</th>\n",
              "      <th>NDIMB</th>\n",
              "      <th>KWI</th>\n",
              "      <th>VWM</th>\n",
              "      <th>VWN</th>\n",
              "      <th>STRM</th>\n",
              "      <th>STRN</th>\n",
              "      <th>SA</th>\n",
              "      <th>SB</th>\n",
              "      <th>Run1 (ms)</th>\n",
              "      <th>Run2 (ms)</th>\n",
              "      <th>Run3 (ms)</th>\n",
              "      <th>Run4 (ms)</th>\n",
              "    </tr>\n",
              "  </thead>\n",
              "  <tbody>\n",
              "    <tr>\n",
              "      <th>100</th>\n",
              "      <td>16</td>\n",
              "      <td>16</td>\n",
              "      <td>16</td>\n",
              "      <td>8</td>\n",
              "      <td>8</td>\n",
              "      <td>8</td>\n",
              "      <td>8</td>\n",
              "      <td>8</td>\n",
              "      <td>2</td>\n",
              "      <td>1</td>\n",
              "      <td>0</td>\n",
              "      <td>1</td>\n",
              "      <td>0</td>\n",
              "      <td>0</td>\n",
              "      <td>71.44</td>\n",
              "      <td>71.83</td>\n",
              "      <td>71.50</td>\n",
              "      <td>72.01</td>\n",
              "    </tr>\n",
              "    <tr>\n",
              "      <th>101</th>\n",
              "      <td>16</td>\n",
              "      <td>16</td>\n",
              "      <td>16</td>\n",
              "      <td>8</td>\n",
              "      <td>8</td>\n",
              "      <td>8</td>\n",
              "      <td>8</td>\n",
              "      <td>8</td>\n",
              "      <td>2</td>\n",
              "      <td>1</td>\n",
              "      <td>0</td>\n",
              "      <td>1</td>\n",
              "      <td>0</td>\n",
              "      <td>1</td>\n",
              "      <td>72.57</td>\n",
              "      <td>73.83</td>\n",
              "      <td>73.10</td>\n",
              "      <td>73.68</td>\n",
              "    </tr>\n",
              "    <tr>\n",
              "      <th>102</th>\n",
              "      <td>16</td>\n",
              "      <td>16</td>\n",
              "      <td>16</td>\n",
              "      <td>8</td>\n",
              "      <td>8</td>\n",
              "      <td>8</td>\n",
              "      <td>8</td>\n",
              "      <td>8</td>\n",
              "      <td>2</td>\n",
              "      <td>1</td>\n",
              "      <td>0</td>\n",
              "      <td>1</td>\n",
              "      <td>1</td>\n",
              "      <td>0</td>\n",
              "      <td>61.74</td>\n",
              "      <td>63.56</td>\n",
              "      <td>62.75</td>\n",
              "      <td>63.85</td>\n",
              "    </tr>\n",
              "    <tr>\n",
              "      <th>103</th>\n",
              "      <td>16</td>\n",
              "      <td>16</td>\n",
              "      <td>16</td>\n",
              "      <td>8</td>\n",
              "      <td>8</td>\n",
              "      <td>8</td>\n",
              "      <td>8</td>\n",
              "      <td>8</td>\n",
              "      <td>2</td>\n",
              "      <td>1</td>\n",
              "      <td>0</td>\n",
              "      <td>1</td>\n",
              "      <td>1</td>\n",
              "      <td>1</td>\n",
              "      <td>73.26</td>\n",
              "      <td>75.15</td>\n",
              "      <td>74.37</td>\n",
              "      <td>72.73</td>\n",
              "    </tr>\n",
              "    <tr>\n",
              "      <th>104</th>\n",
              "      <td>16</td>\n",
              "      <td>16</td>\n",
              "      <td>16</td>\n",
              "      <td>8</td>\n",
              "      <td>8</td>\n",
              "      <td>8</td>\n",
              "      <td>8</td>\n",
              "      <td>8</td>\n",
              "      <td>2</td>\n",
              "      <td>1</td>\n",
              "      <td>1</td>\n",
              "      <td>0</td>\n",
              "      <td>0</td>\n",
              "      <td>0</td>\n",
              "      <td>71.72</td>\n",
              "      <td>71.71</td>\n",
              "      <td>71.88</td>\n",
              "      <td>71.85</td>\n",
              "    </tr>\n",
              "  </tbody>\n",
              "</table>\n",
              "</div>"
            ],
            "text/plain": [
              "     MWG  NWG  KWG  MDIMC  ...  Run1 (ms)  Run2 (ms)  Run3 (ms)  Run4 (ms)\n",
              "100   16   16   16      8  ...      71.44      71.83      71.50      72.01\n",
              "101   16   16   16      8  ...      72.57      73.83      73.10      73.68\n",
              "102   16   16   16      8  ...      61.74      63.56      62.75      63.85\n",
              "103   16   16   16      8  ...      73.26      75.15      74.37      72.73\n",
              "104   16   16   16      8  ...      71.72      71.71      71.88      71.85\n",
              "\n",
              "[5 rows x 18 columns]"
            ]
          },
          "metadata": {
            "tags": []
          },
          "execution_count": 21
        }
      ]
    },
    {
      "cell_type": "code",
      "metadata": {
        "id": "-1uWdG1mdyBF",
        "colab_type": "code",
        "colab": {
          "base_uri": "https://localhost:8080/",
          "height": 34
        },
        "outputId": "e4ab7687-bf38-425a-935c-bcf35638d9bc"
      },
      "source": [
        "df.VWM.values"
      ],
      "execution_count": 23,
      "outputs": [
        {
          "output_type": "execute_result",
          "data": {
            "text/plain": [
              "array([1, 1, 1, ..., 4, 4, 4])"
            ]
          },
          "metadata": {
            "tags": []
          },
          "execution_count": 23
        }
      ]
    },
    {
      "cell_type": "code",
      "metadata": {
        "id": "V-A6yszAd8-T",
        "colab_type": "code",
        "colab": {
          "base_uri": "https://localhost:8080/",
          "height": 34
        },
        "outputId": "e9759920-2675-4da2-d9e9-9a0bd1532866"
      },
      "source": [
        "df['VWM'].values"
      ],
      "execution_count": 24,
      "outputs": [
        {
          "output_type": "execute_result",
          "data": {
            "text/plain": [
              "array([1, 1, 1, ..., 4, 4, 4])"
            ]
          },
          "metadata": {
            "tags": []
          },
          "execution_count": 24
        }
      ]
    },
    {
      "cell_type": "code",
      "metadata": {
        "id": "C6sYc2HceILL",
        "colab_type": "code",
        "colab": {
          "base_uri": "https://localhost:8080/",
          "height": 34
        },
        "outputId": "b60dcd41-39cd-4fb5-972f-731e29769532"
      },
      "source": [
        "df.VWM.unique()"
      ],
      "execution_count": 25,
      "outputs": [
        {
          "output_type": "execute_result",
          "data": {
            "text/plain": [
              "array([1, 2, 4, 8])"
            ]
          },
          "metadata": {
            "tags": []
          },
          "execution_count": 25
        }
      ]
    },
    {
      "cell_type": "code",
      "metadata": {
        "id": "f40PZwRaeQZm",
        "colab_type": "code",
        "colab": {
          "base_uri": "https://localhost:8080/",
          "height": 102
        },
        "outputId": "bf650508-ef71-4ebd-a3a3-8a8bb5f08942"
      },
      "source": [
        "df.VWM.value_counts()"
      ],
      "execution_count": 26,
      "outputs": [
        {
          "output_type": "execute_result",
          "data": {
            "text/plain": [
              "1    99808\n",
              "2    75584\n",
              "4    47264\n",
              "8    18944\n",
              "Name: VWM, dtype: int64"
            ]
          },
          "metadata": {
            "tags": []
          },
          "execution_count": 26
        }
      ]
    },
    {
      "cell_type": "code",
      "metadata": {
        "id": "g7KwShLaeZQ_",
        "colab_type": "code",
        "colab": {
          "base_uri": "https://localhost:8080/",
          "height": 179
        },
        "outputId": "3c5676be-3bbe-4c33-95f4-93fab46f48e5"
      },
      "source": [
        "df.agg(['count', 'size', 'nunique'])"
      ],
      "execution_count": 27,
      "outputs": [
        {
          "output_type": "execute_result",
          "data": {
            "text/html": [
              "<div>\n",
              "<style scoped>\n",
              "    .dataframe tbody tr th:only-of-type {\n",
              "        vertical-align: middle;\n",
              "    }\n",
              "\n",
              "    .dataframe tbody tr th {\n",
              "        vertical-align: top;\n",
              "    }\n",
              "\n",
              "    .dataframe thead th {\n",
              "        text-align: right;\n",
              "    }\n",
              "</style>\n",
              "<table border=\"1\" class=\"dataframe\">\n",
              "  <thead>\n",
              "    <tr style=\"text-align: right;\">\n",
              "      <th></th>\n",
              "      <th>MWG</th>\n",
              "      <th>NWG</th>\n",
              "      <th>KWG</th>\n",
              "      <th>MDIMC</th>\n",
              "      <th>NDIMC</th>\n",
              "      <th>MDIMA</th>\n",
              "      <th>NDIMB</th>\n",
              "      <th>KWI</th>\n",
              "      <th>VWM</th>\n",
              "      <th>VWN</th>\n",
              "      <th>STRM</th>\n",
              "      <th>STRN</th>\n",
              "      <th>SA</th>\n",
              "      <th>SB</th>\n",
              "      <th>Run1 (ms)</th>\n",
              "      <th>Run2 (ms)</th>\n",
              "      <th>Run3 (ms)</th>\n",
              "      <th>Run4 (ms)</th>\n",
              "    </tr>\n",
              "  </thead>\n",
              "  <tbody>\n",
              "    <tr>\n",
              "      <th>count</th>\n",
              "      <td>241600</td>\n",
              "      <td>241600</td>\n",
              "      <td>241600</td>\n",
              "      <td>241600</td>\n",
              "      <td>241600</td>\n",
              "      <td>241600</td>\n",
              "      <td>241600</td>\n",
              "      <td>241600</td>\n",
              "      <td>241600</td>\n",
              "      <td>241600</td>\n",
              "      <td>241600</td>\n",
              "      <td>241600</td>\n",
              "      <td>241600</td>\n",
              "      <td>241600</td>\n",
              "      <td>241600</td>\n",
              "      <td>241600</td>\n",
              "      <td>241600</td>\n",
              "      <td>241600</td>\n",
              "    </tr>\n",
              "    <tr>\n",
              "      <th>size</th>\n",
              "      <td>241600</td>\n",
              "      <td>241600</td>\n",
              "      <td>241600</td>\n",
              "      <td>241600</td>\n",
              "      <td>241600</td>\n",
              "      <td>241600</td>\n",
              "      <td>241600</td>\n",
              "      <td>241600</td>\n",
              "      <td>241600</td>\n",
              "      <td>241600</td>\n",
              "      <td>241600</td>\n",
              "      <td>241600</td>\n",
              "      <td>241600</td>\n",
              "      <td>241600</td>\n",
              "      <td>241600</td>\n",
              "      <td>241600</td>\n",
              "      <td>241600</td>\n",
              "      <td>241600</td>\n",
              "    </tr>\n",
              "    <tr>\n",
              "      <th>nunique</th>\n",
              "      <td>4</td>\n",
              "      <td>4</td>\n",
              "      <td>2</td>\n",
              "      <td>3</td>\n",
              "      <td>3</td>\n",
              "      <td>3</td>\n",
              "      <td>3</td>\n",
              "      <td>2</td>\n",
              "      <td>4</td>\n",
              "      <td>4</td>\n",
              "      <td>2</td>\n",
              "      <td>2</td>\n",
              "      <td>2</td>\n",
              "      <td>2</td>\n",
              "      <td>58161</td>\n",
              "      <td>58269</td>\n",
              "      <td>58264</td>\n",
              "      <td>58154</td>\n",
              "    </tr>\n",
              "  </tbody>\n",
              "</table>\n",
              "</div>"
            ],
            "text/plain": [
              "            MWG     NWG     KWG  ...  Run2 (ms)  Run3 (ms)  Run4 (ms)\n",
              "count    241600  241600  241600  ...     241600     241600     241600\n",
              "size     241600  241600  241600  ...     241600     241600     241600\n",
              "nunique       4       4       2  ...      58269      58264      58154\n",
              "\n",
              "[3 rows x 18 columns]"
            ]
          },
          "metadata": {
            "tags": []
          },
          "execution_count": 27
        }
      ]
    },
    {
      "cell_type": "code",
      "metadata": {
        "id": "IoJCB8aEebjt",
        "colab_type": "code",
        "colab": {
          "base_uri": "https://localhost:8080/",
          "height": 489
        },
        "outputId": "9b534d31-b205-4c67-ecbb-2b232d21fc96"
      },
      "source": [
        "df.groupby('VWM').agg(['count', 'size', 'nunique']).stack()"
      ],
      "execution_count": 28,
      "outputs": [
        {
          "output_type": "execute_result",
          "data": {
            "text/html": [
              "<div>\n",
              "<style scoped>\n",
              "    .dataframe tbody tr th:only-of-type {\n",
              "        vertical-align: middle;\n",
              "    }\n",
              "\n",
              "    .dataframe tbody tr th {\n",
              "        vertical-align: top;\n",
              "    }\n",
              "\n",
              "    .dataframe thead th {\n",
              "        text-align: right;\n",
              "    }\n",
              "</style>\n",
              "<table border=\"1\" class=\"dataframe\">\n",
              "  <thead>\n",
              "    <tr style=\"text-align: right;\">\n",
              "      <th></th>\n",
              "      <th></th>\n",
              "      <th>MWG</th>\n",
              "      <th>NWG</th>\n",
              "      <th>KWG</th>\n",
              "      <th>MDIMC</th>\n",
              "      <th>NDIMC</th>\n",
              "      <th>MDIMA</th>\n",
              "      <th>NDIMB</th>\n",
              "      <th>KWI</th>\n",
              "      <th>VWN</th>\n",
              "      <th>STRM</th>\n",
              "      <th>STRN</th>\n",
              "      <th>SA</th>\n",
              "      <th>SB</th>\n",
              "      <th>Run1 (ms)</th>\n",
              "      <th>Run2 (ms)</th>\n",
              "      <th>Run3 (ms)</th>\n",
              "      <th>Run4 (ms)</th>\n",
              "    </tr>\n",
              "    <tr>\n",
              "      <th>VWM</th>\n",
              "      <th></th>\n",
              "      <th></th>\n",
              "      <th></th>\n",
              "      <th></th>\n",
              "      <th></th>\n",
              "      <th></th>\n",
              "      <th></th>\n",
              "      <th></th>\n",
              "      <th></th>\n",
              "      <th></th>\n",
              "      <th></th>\n",
              "      <th></th>\n",
              "      <th></th>\n",
              "      <th></th>\n",
              "      <th></th>\n",
              "      <th></th>\n",
              "      <th></th>\n",
              "      <th></th>\n",
              "    </tr>\n",
              "  </thead>\n",
              "  <tbody>\n",
              "    <tr>\n",
              "      <th rowspan=\"3\" valign=\"top\">1</th>\n",
              "      <th>count</th>\n",
              "      <td>99808</td>\n",
              "      <td>99808</td>\n",
              "      <td>99808</td>\n",
              "      <td>99808</td>\n",
              "      <td>99808</td>\n",
              "      <td>99808</td>\n",
              "      <td>99808</td>\n",
              "      <td>99808</td>\n",
              "      <td>99808</td>\n",
              "      <td>99808</td>\n",
              "      <td>99808</td>\n",
              "      <td>99808</td>\n",
              "      <td>99808</td>\n",
              "      <td>99808</td>\n",
              "      <td>99808</td>\n",
              "      <td>99808</td>\n",
              "      <td>99808</td>\n",
              "    </tr>\n",
              "    <tr>\n",
              "      <th>size</th>\n",
              "      <td>99808</td>\n",
              "      <td>99808</td>\n",
              "      <td>99808</td>\n",
              "      <td>99808</td>\n",
              "      <td>99808</td>\n",
              "      <td>99808</td>\n",
              "      <td>99808</td>\n",
              "      <td>99808</td>\n",
              "      <td>99808</td>\n",
              "      <td>99808</td>\n",
              "      <td>99808</td>\n",
              "      <td>99808</td>\n",
              "      <td>99808</td>\n",
              "      <td>99808</td>\n",
              "      <td>99808</td>\n",
              "      <td>99808</td>\n",
              "      <td>99808</td>\n",
              "    </tr>\n",
              "    <tr>\n",
              "      <th>nunique</th>\n",
              "      <td>4</td>\n",
              "      <td>4</td>\n",
              "      <td>2</td>\n",
              "      <td>3</td>\n",
              "      <td>3</td>\n",
              "      <td>3</td>\n",
              "      <td>3</td>\n",
              "      <td>2</td>\n",
              "      <td>4</td>\n",
              "      <td>2</td>\n",
              "      <td>2</td>\n",
              "      <td>2</td>\n",
              "      <td>2</td>\n",
              "      <td>30610</td>\n",
              "      <td>30703</td>\n",
              "      <td>30693</td>\n",
              "      <td>30664</td>\n",
              "    </tr>\n",
              "    <tr>\n",
              "      <th rowspan=\"3\" valign=\"top\">2</th>\n",
              "      <th>count</th>\n",
              "      <td>75584</td>\n",
              "      <td>75584</td>\n",
              "      <td>75584</td>\n",
              "      <td>75584</td>\n",
              "      <td>75584</td>\n",
              "      <td>75584</td>\n",
              "      <td>75584</td>\n",
              "      <td>75584</td>\n",
              "      <td>75584</td>\n",
              "      <td>75584</td>\n",
              "      <td>75584</td>\n",
              "      <td>75584</td>\n",
              "      <td>75584</td>\n",
              "      <td>75584</td>\n",
              "      <td>75584</td>\n",
              "      <td>75584</td>\n",
              "      <td>75584</td>\n",
              "    </tr>\n",
              "    <tr>\n",
              "      <th>size</th>\n",
              "      <td>75584</td>\n",
              "      <td>75584</td>\n",
              "      <td>75584</td>\n",
              "      <td>75584</td>\n",
              "      <td>75584</td>\n",
              "      <td>75584</td>\n",
              "      <td>75584</td>\n",
              "      <td>75584</td>\n",
              "      <td>75584</td>\n",
              "      <td>75584</td>\n",
              "      <td>75584</td>\n",
              "      <td>75584</td>\n",
              "      <td>75584</td>\n",
              "      <td>75584</td>\n",
              "      <td>75584</td>\n",
              "      <td>75584</td>\n",
              "      <td>75584</td>\n",
              "    </tr>\n",
              "    <tr>\n",
              "      <th>nunique</th>\n",
              "      <td>4</td>\n",
              "      <td>4</td>\n",
              "      <td>2</td>\n",
              "      <td>3</td>\n",
              "      <td>3</td>\n",
              "      <td>3</td>\n",
              "      <td>3</td>\n",
              "      <td>2</td>\n",
              "      <td>4</td>\n",
              "      <td>2</td>\n",
              "      <td>2</td>\n",
              "      <td>2</td>\n",
              "      <td>2</td>\n",
              "      <td>28104</td>\n",
              "      <td>28188</td>\n",
              "      <td>28300</td>\n",
              "      <td>28290</td>\n",
              "    </tr>\n",
              "    <tr>\n",
              "      <th rowspan=\"3\" valign=\"top\">4</th>\n",
              "      <th>count</th>\n",
              "      <td>47264</td>\n",
              "      <td>47264</td>\n",
              "      <td>47264</td>\n",
              "      <td>47264</td>\n",
              "      <td>47264</td>\n",
              "      <td>47264</td>\n",
              "      <td>47264</td>\n",
              "      <td>47264</td>\n",
              "      <td>47264</td>\n",
              "      <td>47264</td>\n",
              "      <td>47264</td>\n",
              "      <td>47264</td>\n",
              "      <td>47264</td>\n",
              "      <td>47264</td>\n",
              "      <td>47264</td>\n",
              "      <td>47264</td>\n",
              "      <td>47264</td>\n",
              "    </tr>\n",
              "    <tr>\n",
              "      <th>size</th>\n",
              "      <td>47264</td>\n",
              "      <td>47264</td>\n",
              "      <td>47264</td>\n",
              "      <td>47264</td>\n",
              "      <td>47264</td>\n",
              "      <td>47264</td>\n",
              "      <td>47264</td>\n",
              "      <td>47264</td>\n",
              "      <td>47264</td>\n",
              "      <td>47264</td>\n",
              "      <td>47264</td>\n",
              "      <td>47264</td>\n",
              "      <td>47264</td>\n",
              "      <td>47264</td>\n",
              "      <td>47264</td>\n",
              "      <td>47264</td>\n",
              "      <td>47264</td>\n",
              "    </tr>\n",
              "    <tr>\n",
              "      <th>nunique</th>\n",
              "      <td>3</td>\n",
              "      <td>4</td>\n",
              "      <td>2</td>\n",
              "      <td>3</td>\n",
              "      <td>3</td>\n",
              "      <td>3</td>\n",
              "      <td>3</td>\n",
              "      <td>2</td>\n",
              "      <td>4</td>\n",
              "      <td>2</td>\n",
              "      <td>2</td>\n",
              "      <td>2</td>\n",
              "      <td>2</td>\n",
              "      <td>25109</td>\n",
              "      <td>25185</td>\n",
              "      <td>25084</td>\n",
              "      <td>25111</td>\n",
              "    </tr>\n",
              "    <tr>\n",
              "      <th rowspan=\"3\" valign=\"top\">8</th>\n",
              "      <th>count</th>\n",
              "      <td>18944</td>\n",
              "      <td>18944</td>\n",
              "      <td>18944</td>\n",
              "      <td>18944</td>\n",
              "      <td>18944</td>\n",
              "      <td>18944</td>\n",
              "      <td>18944</td>\n",
              "      <td>18944</td>\n",
              "      <td>18944</td>\n",
              "      <td>18944</td>\n",
              "      <td>18944</td>\n",
              "      <td>18944</td>\n",
              "      <td>18944</td>\n",
              "      <td>18944</td>\n",
              "      <td>18944</td>\n",
              "      <td>18944</td>\n",
              "      <td>18944</td>\n",
              "    </tr>\n",
              "    <tr>\n",
              "      <th>size</th>\n",
              "      <td>18944</td>\n",
              "      <td>18944</td>\n",
              "      <td>18944</td>\n",
              "      <td>18944</td>\n",
              "      <td>18944</td>\n",
              "      <td>18944</td>\n",
              "      <td>18944</td>\n",
              "      <td>18944</td>\n",
              "      <td>18944</td>\n",
              "      <td>18944</td>\n",
              "      <td>18944</td>\n",
              "      <td>18944</td>\n",
              "      <td>18944</td>\n",
              "      <td>18944</td>\n",
              "      <td>18944</td>\n",
              "      <td>18944</td>\n",
              "      <td>18944</td>\n",
              "    </tr>\n",
              "    <tr>\n",
              "      <th>nunique</th>\n",
              "      <td>2</td>\n",
              "      <td>4</td>\n",
              "      <td>2</td>\n",
              "      <td>2</td>\n",
              "      <td>3</td>\n",
              "      <td>2</td>\n",
              "      <td>3</td>\n",
              "      <td>2</td>\n",
              "      <td>4</td>\n",
              "      <td>2</td>\n",
              "      <td>2</td>\n",
              "      <td>2</td>\n",
              "      <td>2</td>\n",
              "      <td>14653</td>\n",
              "      <td>14625</td>\n",
              "      <td>14618</td>\n",
              "      <td>14597</td>\n",
              "    </tr>\n",
              "  </tbody>\n",
              "</table>\n",
              "</div>"
            ],
            "text/plain": [
              "               MWG    NWG    KWG  ...  Run2 (ms)  Run3 (ms)  Run4 (ms)\n",
              "VWM                               ...                                 \n",
              "1   count    99808  99808  99808  ...      99808      99808      99808\n",
              "    size     99808  99808  99808  ...      99808      99808      99808\n",
              "    nunique      4      4      2  ...      30703      30693      30664\n",
              "2   count    75584  75584  75584  ...      75584      75584      75584\n",
              "    size     75584  75584  75584  ...      75584      75584      75584\n",
              "    nunique      4      4      2  ...      28188      28300      28290\n",
              "4   count    47264  47264  47264  ...      47264      47264      47264\n",
              "    size     47264  47264  47264  ...      47264      47264      47264\n",
              "    nunique      3      4      2  ...      25185      25084      25111\n",
              "8   count    18944  18944  18944  ...      18944      18944      18944\n",
              "    size     18944  18944  18944  ...      18944      18944      18944\n",
              "    nunique      2      4      2  ...      14625      14618      14597\n",
              "\n",
              "[12 rows x 17 columns]"
            ]
          },
          "metadata": {
            "tags": []
          },
          "execution_count": 28
        }
      ]
    },
    {
      "cell_type": "code",
      "metadata": {
        "id": "VYzxpd_9elBz",
        "colab_type": "code",
        "colab": {
          "base_uri": "https://localhost:8080/",
          "height": 255
        },
        "outputId": "2230f3fc-bdc5-4756-9c49-1576f35aca9f"
      },
      "source": [
        "df.groupby('VWM').agg(['count', 'size', 'nunique'])"
      ],
      "execution_count": 29,
      "outputs": [
        {
          "output_type": "execute_result",
          "data": {
            "text/html": [
              "<div>\n",
              "<style scoped>\n",
              "    .dataframe tbody tr th:only-of-type {\n",
              "        vertical-align: middle;\n",
              "    }\n",
              "\n",
              "    .dataframe tbody tr th {\n",
              "        vertical-align: top;\n",
              "    }\n",
              "\n",
              "    .dataframe thead tr th {\n",
              "        text-align: left;\n",
              "    }\n",
              "\n",
              "    .dataframe thead tr:last-of-type th {\n",
              "        text-align: right;\n",
              "    }\n",
              "</style>\n",
              "<table border=\"1\" class=\"dataframe\">\n",
              "  <thead>\n",
              "    <tr>\n",
              "      <th></th>\n",
              "      <th colspan=\"3\" halign=\"left\">MWG</th>\n",
              "      <th colspan=\"3\" halign=\"left\">NWG</th>\n",
              "      <th colspan=\"3\" halign=\"left\">KWG</th>\n",
              "      <th colspan=\"3\" halign=\"left\">MDIMC</th>\n",
              "      <th colspan=\"3\" halign=\"left\">NDIMC</th>\n",
              "      <th colspan=\"3\" halign=\"left\">MDIMA</th>\n",
              "      <th colspan=\"3\" halign=\"left\">NDIMB</th>\n",
              "      <th colspan=\"3\" halign=\"left\">KWI</th>\n",
              "      <th colspan=\"3\" halign=\"left\">VWN</th>\n",
              "      <th colspan=\"3\" halign=\"left\">STRM</th>\n",
              "      <th colspan=\"3\" halign=\"left\">STRN</th>\n",
              "      <th colspan=\"3\" halign=\"left\">SA</th>\n",
              "      <th colspan=\"3\" halign=\"left\">SB</th>\n",
              "      <th colspan=\"3\" halign=\"left\">Run1 (ms)</th>\n",
              "      <th colspan=\"3\" halign=\"left\">Run2 (ms)</th>\n",
              "      <th colspan=\"3\" halign=\"left\">Run3 (ms)</th>\n",
              "      <th colspan=\"3\" halign=\"left\">Run4 (ms)</th>\n",
              "    </tr>\n",
              "    <tr>\n",
              "      <th></th>\n",
              "      <th>count</th>\n",
              "      <th>size</th>\n",
              "      <th>nunique</th>\n",
              "      <th>count</th>\n",
              "      <th>size</th>\n",
              "      <th>nunique</th>\n",
              "      <th>count</th>\n",
              "      <th>size</th>\n",
              "      <th>nunique</th>\n",
              "      <th>count</th>\n",
              "      <th>size</th>\n",
              "      <th>nunique</th>\n",
              "      <th>count</th>\n",
              "      <th>size</th>\n",
              "      <th>nunique</th>\n",
              "      <th>count</th>\n",
              "      <th>size</th>\n",
              "      <th>nunique</th>\n",
              "      <th>count</th>\n",
              "      <th>size</th>\n",
              "      <th>nunique</th>\n",
              "      <th>count</th>\n",
              "      <th>size</th>\n",
              "      <th>nunique</th>\n",
              "      <th>count</th>\n",
              "      <th>size</th>\n",
              "      <th>nunique</th>\n",
              "      <th>count</th>\n",
              "      <th>size</th>\n",
              "      <th>nunique</th>\n",
              "      <th>count</th>\n",
              "      <th>size</th>\n",
              "      <th>nunique</th>\n",
              "      <th>count</th>\n",
              "      <th>size</th>\n",
              "      <th>nunique</th>\n",
              "      <th>count</th>\n",
              "      <th>size</th>\n",
              "      <th>nunique</th>\n",
              "      <th>count</th>\n",
              "      <th>size</th>\n",
              "      <th>nunique</th>\n",
              "      <th>count</th>\n",
              "      <th>size</th>\n",
              "      <th>nunique</th>\n",
              "      <th>count</th>\n",
              "      <th>size</th>\n",
              "      <th>nunique</th>\n",
              "      <th>count</th>\n",
              "      <th>size</th>\n",
              "      <th>nunique</th>\n",
              "    </tr>\n",
              "    <tr>\n",
              "      <th>VWM</th>\n",
              "      <th></th>\n",
              "      <th></th>\n",
              "      <th></th>\n",
              "      <th></th>\n",
              "      <th></th>\n",
              "      <th></th>\n",
              "      <th></th>\n",
              "      <th></th>\n",
              "      <th></th>\n",
              "      <th></th>\n",
              "      <th></th>\n",
              "      <th></th>\n",
              "      <th></th>\n",
              "      <th></th>\n",
              "      <th></th>\n",
              "      <th></th>\n",
              "      <th></th>\n",
              "      <th></th>\n",
              "      <th></th>\n",
              "      <th></th>\n",
              "      <th></th>\n",
              "      <th></th>\n",
              "      <th></th>\n",
              "      <th></th>\n",
              "      <th></th>\n",
              "      <th></th>\n",
              "      <th></th>\n",
              "      <th></th>\n",
              "      <th></th>\n",
              "      <th></th>\n",
              "      <th></th>\n",
              "      <th></th>\n",
              "      <th></th>\n",
              "      <th></th>\n",
              "      <th></th>\n",
              "      <th></th>\n",
              "      <th></th>\n",
              "      <th></th>\n",
              "      <th></th>\n",
              "      <th></th>\n",
              "      <th></th>\n",
              "      <th></th>\n",
              "      <th></th>\n",
              "      <th></th>\n",
              "      <th></th>\n",
              "      <th></th>\n",
              "      <th></th>\n",
              "      <th></th>\n",
              "      <th></th>\n",
              "      <th></th>\n",
              "      <th></th>\n",
              "    </tr>\n",
              "  </thead>\n",
              "  <tbody>\n",
              "    <tr>\n",
              "      <th>1</th>\n",
              "      <td>99808</td>\n",
              "      <td>99808</td>\n",
              "      <td>4</td>\n",
              "      <td>99808</td>\n",
              "      <td>99808</td>\n",
              "      <td>4</td>\n",
              "      <td>99808</td>\n",
              "      <td>99808</td>\n",
              "      <td>2</td>\n",
              "      <td>99808</td>\n",
              "      <td>99808</td>\n",
              "      <td>3</td>\n",
              "      <td>99808</td>\n",
              "      <td>99808</td>\n",
              "      <td>3</td>\n",
              "      <td>99808</td>\n",
              "      <td>99808</td>\n",
              "      <td>3</td>\n",
              "      <td>99808</td>\n",
              "      <td>99808</td>\n",
              "      <td>3</td>\n",
              "      <td>99808</td>\n",
              "      <td>99808</td>\n",
              "      <td>2</td>\n",
              "      <td>99808</td>\n",
              "      <td>99808</td>\n",
              "      <td>4</td>\n",
              "      <td>99808</td>\n",
              "      <td>99808</td>\n",
              "      <td>2</td>\n",
              "      <td>99808</td>\n",
              "      <td>99808</td>\n",
              "      <td>2</td>\n",
              "      <td>99808</td>\n",
              "      <td>99808</td>\n",
              "      <td>2</td>\n",
              "      <td>99808</td>\n",
              "      <td>99808</td>\n",
              "      <td>2</td>\n",
              "      <td>99808</td>\n",
              "      <td>99808</td>\n",
              "      <td>30610</td>\n",
              "      <td>99808</td>\n",
              "      <td>99808</td>\n",
              "      <td>30703</td>\n",
              "      <td>99808</td>\n",
              "      <td>99808</td>\n",
              "      <td>30693</td>\n",
              "      <td>99808</td>\n",
              "      <td>99808</td>\n",
              "      <td>30664</td>\n",
              "    </tr>\n",
              "    <tr>\n",
              "      <th>2</th>\n",
              "      <td>75584</td>\n",
              "      <td>75584</td>\n",
              "      <td>4</td>\n",
              "      <td>75584</td>\n",
              "      <td>75584</td>\n",
              "      <td>4</td>\n",
              "      <td>75584</td>\n",
              "      <td>75584</td>\n",
              "      <td>2</td>\n",
              "      <td>75584</td>\n",
              "      <td>75584</td>\n",
              "      <td>3</td>\n",
              "      <td>75584</td>\n",
              "      <td>75584</td>\n",
              "      <td>3</td>\n",
              "      <td>75584</td>\n",
              "      <td>75584</td>\n",
              "      <td>3</td>\n",
              "      <td>75584</td>\n",
              "      <td>75584</td>\n",
              "      <td>3</td>\n",
              "      <td>75584</td>\n",
              "      <td>75584</td>\n",
              "      <td>2</td>\n",
              "      <td>75584</td>\n",
              "      <td>75584</td>\n",
              "      <td>4</td>\n",
              "      <td>75584</td>\n",
              "      <td>75584</td>\n",
              "      <td>2</td>\n",
              "      <td>75584</td>\n",
              "      <td>75584</td>\n",
              "      <td>2</td>\n",
              "      <td>75584</td>\n",
              "      <td>75584</td>\n",
              "      <td>2</td>\n",
              "      <td>75584</td>\n",
              "      <td>75584</td>\n",
              "      <td>2</td>\n",
              "      <td>75584</td>\n",
              "      <td>75584</td>\n",
              "      <td>28104</td>\n",
              "      <td>75584</td>\n",
              "      <td>75584</td>\n",
              "      <td>28188</td>\n",
              "      <td>75584</td>\n",
              "      <td>75584</td>\n",
              "      <td>28300</td>\n",
              "      <td>75584</td>\n",
              "      <td>75584</td>\n",
              "      <td>28290</td>\n",
              "    </tr>\n",
              "    <tr>\n",
              "      <th>4</th>\n",
              "      <td>47264</td>\n",
              "      <td>47264</td>\n",
              "      <td>3</td>\n",
              "      <td>47264</td>\n",
              "      <td>47264</td>\n",
              "      <td>4</td>\n",
              "      <td>47264</td>\n",
              "      <td>47264</td>\n",
              "      <td>2</td>\n",
              "      <td>47264</td>\n",
              "      <td>47264</td>\n",
              "      <td>3</td>\n",
              "      <td>47264</td>\n",
              "      <td>47264</td>\n",
              "      <td>3</td>\n",
              "      <td>47264</td>\n",
              "      <td>47264</td>\n",
              "      <td>3</td>\n",
              "      <td>47264</td>\n",
              "      <td>47264</td>\n",
              "      <td>3</td>\n",
              "      <td>47264</td>\n",
              "      <td>47264</td>\n",
              "      <td>2</td>\n",
              "      <td>47264</td>\n",
              "      <td>47264</td>\n",
              "      <td>4</td>\n",
              "      <td>47264</td>\n",
              "      <td>47264</td>\n",
              "      <td>2</td>\n",
              "      <td>47264</td>\n",
              "      <td>47264</td>\n",
              "      <td>2</td>\n",
              "      <td>47264</td>\n",
              "      <td>47264</td>\n",
              "      <td>2</td>\n",
              "      <td>47264</td>\n",
              "      <td>47264</td>\n",
              "      <td>2</td>\n",
              "      <td>47264</td>\n",
              "      <td>47264</td>\n",
              "      <td>25109</td>\n",
              "      <td>47264</td>\n",
              "      <td>47264</td>\n",
              "      <td>25185</td>\n",
              "      <td>47264</td>\n",
              "      <td>47264</td>\n",
              "      <td>25084</td>\n",
              "      <td>47264</td>\n",
              "      <td>47264</td>\n",
              "      <td>25111</td>\n",
              "    </tr>\n",
              "    <tr>\n",
              "      <th>8</th>\n",
              "      <td>18944</td>\n",
              "      <td>18944</td>\n",
              "      <td>2</td>\n",
              "      <td>18944</td>\n",
              "      <td>18944</td>\n",
              "      <td>4</td>\n",
              "      <td>18944</td>\n",
              "      <td>18944</td>\n",
              "      <td>2</td>\n",
              "      <td>18944</td>\n",
              "      <td>18944</td>\n",
              "      <td>2</td>\n",
              "      <td>18944</td>\n",
              "      <td>18944</td>\n",
              "      <td>3</td>\n",
              "      <td>18944</td>\n",
              "      <td>18944</td>\n",
              "      <td>2</td>\n",
              "      <td>18944</td>\n",
              "      <td>18944</td>\n",
              "      <td>3</td>\n",
              "      <td>18944</td>\n",
              "      <td>18944</td>\n",
              "      <td>2</td>\n",
              "      <td>18944</td>\n",
              "      <td>18944</td>\n",
              "      <td>4</td>\n",
              "      <td>18944</td>\n",
              "      <td>18944</td>\n",
              "      <td>2</td>\n",
              "      <td>18944</td>\n",
              "      <td>18944</td>\n",
              "      <td>2</td>\n",
              "      <td>18944</td>\n",
              "      <td>18944</td>\n",
              "      <td>2</td>\n",
              "      <td>18944</td>\n",
              "      <td>18944</td>\n",
              "      <td>2</td>\n",
              "      <td>18944</td>\n",
              "      <td>18944</td>\n",
              "      <td>14653</td>\n",
              "      <td>18944</td>\n",
              "      <td>18944</td>\n",
              "      <td>14625</td>\n",
              "      <td>18944</td>\n",
              "      <td>18944</td>\n",
              "      <td>14618</td>\n",
              "      <td>18944</td>\n",
              "      <td>18944</td>\n",
              "      <td>14597</td>\n",
              "    </tr>\n",
              "  </tbody>\n",
              "</table>\n",
              "</div>"
            ],
            "text/plain": [
              "       MWG                   NWG         ... Run3 (ms)         Run4 (ms)               \n",
              "     count   size nunique  count   size  ...      size nunique     count   size nunique\n",
              "VWM                                      ...                                           \n",
              "1    99808  99808       4  99808  99808  ...     99808   30693     99808  99808   30664\n",
              "2    75584  75584       4  75584  75584  ...     75584   28300     75584  75584   28290\n",
              "4    47264  47264       3  47264  47264  ...     47264   25084     47264  47264   25111\n",
              "8    18944  18944       2  18944  18944  ...     18944   14618     18944  18944   14597\n",
              "\n",
              "[4 rows x 51 columns]"
            ]
          },
          "metadata": {
            "tags": []
          },
          "execution_count": 29
        }
      ]
    },
    {
      "cell_type": "code",
      "metadata": {
        "id": "rWxY8tBkeo0w",
        "colab_type": "code",
        "colab": {
          "base_uri": "https://localhost:8080/",
          "height": 221
        },
        "outputId": "5868a34f-040b-401d-d0ef-adf69acde59b"
      },
      "source": [
        "df_sample = df.sample(frac=0.05, random_state=1)\n",
        "df_sample.head()"
      ],
      "execution_count": 30,
      "outputs": [
        {
          "output_type": "execute_result",
          "data": {
            "text/html": [
              "<div>\n",
              "<style scoped>\n",
              "    .dataframe tbody tr th:only-of-type {\n",
              "        vertical-align: middle;\n",
              "    }\n",
              "\n",
              "    .dataframe tbody tr th {\n",
              "        vertical-align: top;\n",
              "    }\n",
              "\n",
              "    .dataframe thead th {\n",
              "        text-align: right;\n",
              "    }\n",
              "</style>\n",
              "<table border=\"1\" class=\"dataframe\">\n",
              "  <thead>\n",
              "    <tr style=\"text-align: right;\">\n",
              "      <th></th>\n",
              "      <th>MWG</th>\n",
              "      <th>NWG</th>\n",
              "      <th>KWG</th>\n",
              "      <th>MDIMC</th>\n",
              "      <th>NDIMC</th>\n",
              "      <th>MDIMA</th>\n",
              "      <th>NDIMB</th>\n",
              "      <th>KWI</th>\n",
              "      <th>VWM</th>\n",
              "      <th>VWN</th>\n",
              "      <th>STRM</th>\n",
              "      <th>STRN</th>\n",
              "      <th>SA</th>\n",
              "      <th>SB</th>\n",
              "      <th>Run1 (ms)</th>\n",
              "      <th>Run2 (ms)</th>\n",
              "      <th>Run3 (ms)</th>\n",
              "      <th>Run4 (ms)</th>\n",
              "    </tr>\n",
              "  </thead>\n",
              "  <tbody>\n",
              "    <tr>\n",
              "      <th>106120</th>\n",
              "      <td>64</td>\n",
              "      <td>64</td>\n",
              "      <td>32</td>\n",
              "      <td>16</td>\n",
              "      <td>16</td>\n",
              "      <td>8</td>\n",
              "      <td>32</td>\n",
              "      <td>8</td>\n",
              "      <td>4</td>\n",
              "      <td>1</td>\n",
              "      <td>1</td>\n",
              "      <td>0</td>\n",
              "      <td>0</td>\n",
              "      <td>0</td>\n",
              "      <td>44.31</td>\n",
              "      <td>44.38</td>\n",
              "      <td>44.58</td>\n",
              "      <td>44.34</td>\n",
              "    </tr>\n",
              "    <tr>\n",
              "      <th>128737</th>\n",
              "      <td>64</td>\n",
              "      <td>128</td>\n",
              "      <td>32</td>\n",
              "      <td>8</td>\n",
              "      <td>16</td>\n",
              "      <td>32</td>\n",
              "      <td>8</td>\n",
              "      <td>2</td>\n",
              "      <td>1</td>\n",
              "      <td>4</td>\n",
              "      <td>0</td>\n",
              "      <td>0</td>\n",
              "      <td>0</td>\n",
              "      <td>1</td>\n",
              "      <td>214.06</td>\n",
              "      <td>213.64</td>\n",
              "      <td>214.41</td>\n",
              "      <td>214.47</td>\n",
              "    </tr>\n",
              "    <tr>\n",
              "      <th>123689</th>\n",
              "      <td>64</td>\n",
              "      <td>128</td>\n",
              "      <td>32</td>\n",
              "      <td>8</td>\n",
              "      <td>8</td>\n",
              "      <td>8</td>\n",
              "      <td>16</td>\n",
              "      <td>2</td>\n",
              "      <td>2</td>\n",
              "      <td>4</td>\n",
              "      <td>1</td>\n",
              "      <td>0</td>\n",
              "      <td>0</td>\n",
              "      <td>1</td>\n",
              "      <td>939.56</td>\n",
              "      <td>926.92</td>\n",
              "      <td>930.16</td>\n",
              "      <td>933.80</td>\n",
              "    </tr>\n",
              "    <tr>\n",
              "      <th>208174</th>\n",
              "      <td>128</td>\n",
              "      <td>128</td>\n",
              "      <td>16</td>\n",
              "      <td>8</td>\n",
              "      <td>32</td>\n",
              "      <td>16</td>\n",
              "      <td>16</td>\n",
              "      <td>2</td>\n",
              "      <td>2</td>\n",
              "      <td>2</td>\n",
              "      <td>1</td>\n",
              "      <td>1</td>\n",
              "      <td>1</td>\n",
              "      <td>0</td>\n",
              "      <td>256.62</td>\n",
              "      <td>262.30</td>\n",
              "      <td>261.88</td>\n",
              "      <td>261.55</td>\n",
              "    </tr>\n",
              "    <tr>\n",
              "      <th>239379</th>\n",
              "      <td>128</td>\n",
              "      <td>128</td>\n",
              "      <td>32</td>\n",
              "      <td>32</td>\n",
              "      <td>8</td>\n",
              "      <td>32</td>\n",
              "      <td>16</td>\n",
              "      <td>2</td>\n",
              "      <td>2</td>\n",
              "      <td>2</td>\n",
              "      <td>0</td>\n",
              "      <td>0</td>\n",
              "      <td>1</td>\n",
              "      <td>1</td>\n",
              "      <td>178.68</td>\n",
              "      <td>177.72</td>\n",
              "      <td>178.73</td>\n",
              "      <td>178.80</td>\n",
              "    </tr>\n",
              "  </tbody>\n",
              "</table>\n",
              "</div>"
            ],
            "text/plain": [
              "        MWG  NWG  KWG  MDIMC  ...  Run1 (ms)  Run2 (ms)  Run3 (ms)  Run4 (ms)\n",
              "106120   64   64   32     16  ...      44.31      44.38      44.58      44.34\n",
              "128737   64  128   32      8  ...     214.06     213.64     214.41     214.47\n",
              "123689   64  128   32      8  ...     939.56     926.92     930.16     933.80\n",
              "208174  128  128   16      8  ...     256.62     262.30     261.88     261.55\n",
              "239379  128  128   32     32  ...     178.68     177.72     178.73     178.80\n",
              "\n",
              "[5 rows x 18 columns]"
            ]
          },
          "metadata": {
            "tags": []
          },
          "execution_count": 30
        }
      ]
    },
    {
      "cell_type": "code",
      "metadata": {
        "id": "a3Vuvdmxev26",
        "colab_type": "code",
        "colab": {
          "base_uri": "https://localhost:8080/",
          "height": 34
        },
        "outputId": "c5253d72-3877-4a82-daf6-3f283ef3c52f"
      },
      "source": [
        "df.shape"
      ],
      "execution_count": 31,
      "outputs": [
        {
          "output_type": "execute_result",
          "data": {
            "text/plain": [
              "(241600, 18)"
            ]
          },
          "metadata": {
            "tags": []
          },
          "execution_count": 31
        }
      ]
    },
    {
      "cell_type": "code",
      "metadata": {
        "id": "i19NW-2RezXq",
        "colab_type": "code",
        "colab": {
          "base_uri": "https://localhost:8080/",
          "height": 34
        },
        "outputId": "bf0fa5fc-5edc-4d81-cf07-d6d27419be5a"
      },
      "source": [
        "df_sample.shape"
      ],
      "execution_count": 32,
      "outputs": [
        {
          "output_type": "execute_result",
          "data": {
            "text/plain": [
              "(12080, 18)"
            ]
          },
          "metadata": {
            "tags": []
          },
          "execution_count": 32
        }
      ]
    },
    {
      "cell_type": "code",
      "metadata": {
        "id": "X_DqGpUPe4wl",
        "colab_type": "code",
        "colab": {
          "base_uri": "https://localhost:8080/",
          "height": 221
        },
        "outputId": "4ab7f8d9-b456-4f72-b516-e9db2e187ff9"
      },
      "source": [
        "df_dropped = df.dropna(subset=['KWI'])\n",
        "df_dropped.head()"
      ],
      "execution_count": 33,
      "outputs": [
        {
          "output_type": "execute_result",
          "data": {
            "text/html": [
              "<div>\n",
              "<style scoped>\n",
              "    .dataframe tbody tr th:only-of-type {\n",
              "        vertical-align: middle;\n",
              "    }\n",
              "\n",
              "    .dataframe tbody tr th {\n",
              "        vertical-align: top;\n",
              "    }\n",
              "\n",
              "    .dataframe thead th {\n",
              "        text-align: right;\n",
              "    }\n",
              "</style>\n",
              "<table border=\"1\" class=\"dataframe\">\n",
              "  <thead>\n",
              "    <tr style=\"text-align: right;\">\n",
              "      <th></th>\n",
              "      <th>MWG</th>\n",
              "      <th>NWG</th>\n",
              "      <th>KWG</th>\n",
              "      <th>MDIMC</th>\n",
              "      <th>NDIMC</th>\n",
              "      <th>MDIMA</th>\n",
              "      <th>NDIMB</th>\n",
              "      <th>KWI</th>\n",
              "      <th>VWM</th>\n",
              "      <th>VWN</th>\n",
              "      <th>STRM</th>\n",
              "      <th>STRN</th>\n",
              "      <th>SA</th>\n",
              "      <th>SB</th>\n",
              "      <th>Run1 (ms)</th>\n",
              "      <th>Run2 (ms)</th>\n",
              "      <th>Run3 (ms)</th>\n",
              "      <th>Run4 (ms)</th>\n",
              "    </tr>\n",
              "  </thead>\n",
              "  <tbody>\n",
              "    <tr>\n",
              "      <th>0</th>\n",
              "      <td>16</td>\n",
              "      <td>16</td>\n",
              "      <td>16</td>\n",
              "      <td>8</td>\n",
              "      <td>8</td>\n",
              "      <td>8</td>\n",
              "      <td>8</td>\n",
              "      <td>2</td>\n",
              "      <td>1</td>\n",
              "      <td>1</td>\n",
              "      <td>0</td>\n",
              "      <td>0</td>\n",
              "      <td>0</td>\n",
              "      <td>0</td>\n",
              "      <td>115.26</td>\n",
              "      <td>115.87</td>\n",
              "      <td>118.55</td>\n",
              "      <td>115.80</td>\n",
              "    </tr>\n",
              "    <tr>\n",
              "      <th>1</th>\n",
              "      <td>16</td>\n",
              "      <td>16</td>\n",
              "      <td>16</td>\n",
              "      <td>8</td>\n",
              "      <td>8</td>\n",
              "      <td>8</td>\n",
              "      <td>8</td>\n",
              "      <td>2</td>\n",
              "      <td>1</td>\n",
              "      <td>1</td>\n",
              "      <td>0</td>\n",
              "      <td>0</td>\n",
              "      <td>0</td>\n",
              "      <td>1</td>\n",
              "      <td>78.13</td>\n",
              "      <td>78.25</td>\n",
              "      <td>79.25</td>\n",
              "      <td>79.19</td>\n",
              "    </tr>\n",
              "    <tr>\n",
              "      <th>2</th>\n",
              "      <td>16</td>\n",
              "      <td>16</td>\n",
              "      <td>16</td>\n",
              "      <td>8</td>\n",
              "      <td>8</td>\n",
              "      <td>8</td>\n",
              "      <td>8</td>\n",
              "      <td>2</td>\n",
              "      <td>1</td>\n",
              "      <td>1</td>\n",
              "      <td>0</td>\n",
              "      <td>0</td>\n",
              "      <td>1</td>\n",
              "      <td>0</td>\n",
              "      <td>79.84</td>\n",
              "      <td>80.69</td>\n",
              "      <td>80.76</td>\n",
              "      <td>80.97</td>\n",
              "    </tr>\n",
              "    <tr>\n",
              "      <th>3</th>\n",
              "      <td>16</td>\n",
              "      <td>16</td>\n",
              "      <td>16</td>\n",
              "      <td>8</td>\n",
              "      <td>8</td>\n",
              "      <td>8</td>\n",
              "      <td>8</td>\n",
              "      <td>2</td>\n",
              "      <td>1</td>\n",
              "      <td>1</td>\n",
              "      <td>0</td>\n",
              "      <td>0</td>\n",
              "      <td>1</td>\n",
              "      <td>1</td>\n",
              "      <td>84.32</td>\n",
              "      <td>89.90</td>\n",
              "      <td>86.75</td>\n",
              "      <td>85.58</td>\n",
              "    </tr>\n",
              "    <tr>\n",
              "      <th>4</th>\n",
              "      <td>16</td>\n",
              "      <td>16</td>\n",
              "      <td>16</td>\n",
              "      <td>8</td>\n",
              "      <td>8</td>\n",
              "      <td>8</td>\n",
              "      <td>8</td>\n",
              "      <td>2</td>\n",
              "      <td>1</td>\n",
              "      <td>1</td>\n",
              "      <td>0</td>\n",
              "      <td>1</td>\n",
              "      <td>0</td>\n",
              "      <td>0</td>\n",
              "      <td>115.13</td>\n",
              "      <td>121.98</td>\n",
              "      <td>122.73</td>\n",
              "      <td>114.81</td>\n",
              "    </tr>\n",
              "  </tbody>\n",
              "</table>\n",
              "</div>"
            ],
            "text/plain": [
              "   MWG  NWG  KWG  MDIMC  NDIMC  ...  SB  Run1 (ms)  Run2 (ms)  Run3 (ms)  Run4 (ms)\n",
              "0   16   16   16      8      8  ...   0     115.26     115.87     118.55     115.80\n",
              "1   16   16   16      8      8  ...   1      78.13      78.25      79.25      79.19\n",
              "2   16   16   16      8      8  ...   0      79.84      80.69      80.76      80.97\n",
              "3   16   16   16      8      8  ...   1      84.32      89.90      86.75      85.58\n",
              "4   16   16   16      8      8  ...   0     115.13     121.98     122.73     114.81\n",
              "\n",
              "[5 rows x 18 columns]"
            ]
          },
          "metadata": {
            "tags": []
          },
          "execution_count": 33
        }
      ]
    },
    {
      "cell_type": "code",
      "metadata": {
        "id": "4O_jb0iCfFsw",
        "colab_type": "code",
        "colab": {
          "base_uri": "https://localhost:8080/",
          "height": 34
        },
        "outputId": "971f9d31-b69d-430a-b3fb-b58a2db01acc"
      },
      "source": [
        "df_dropped.shape"
      ],
      "execution_count": 34,
      "outputs": [
        {
          "output_type": "execute_result",
          "data": {
            "text/plain": [
              "(241600, 18)"
            ]
          },
          "metadata": {
            "tags": []
          },
          "execution_count": 34
        }
      ]
    },
    {
      "cell_type": "code",
      "metadata": {
        "id": "gP7ssk4yfJst",
        "colab_type": "code",
        "colab": {
          "base_uri": "https://localhost:8080/",
          "height": 221
        },
        "outputId": "f915a642-9472-40bb-d4f8-2d782b1e228b"
      },
      "source": [
        "df_copy = df.copy()\n",
        "df_copy.head()"
      ],
      "execution_count": 35,
      "outputs": [
        {
          "output_type": "execute_result",
          "data": {
            "text/html": [
              "<div>\n",
              "<style scoped>\n",
              "    .dataframe tbody tr th:only-of-type {\n",
              "        vertical-align: middle;\n",
              "    }\n",
              "\n",
              "    .dataframe tbody tr th {\n",
              "        vertical-align: top;\n",
              "    }\n",
              "\n",
              "    .dataframe thead th {\n",
              "        text-align: right;\n",
              "    }\n",
              "</style>\n",
              "<table border=\"1\" class=\"dataframe\">\n",
              "  <thead>\n",
              "    <tr style=\"text-align: right;\">\n",
              "      <th></th>\n",
              "      <th>MWG</th>\n",
              "      <th>NWG</th>\n",
              "      <th>KWG</th>\n",
              "      <th>MDIMC</th>\n",
              "      <th>NDIMC</th>\n",
              "      <th>MDIMA</th>\n",
              "      <th>NDIMB</th>\n",
              "      <th>KWI</th>\n",
              "      <th>VWM</th>\n",
              "      <th>VWN</th>\n",
              "      <th>STRM</th>\n",
              "      <th>STRN</th>\n",
              "      <th>SA</th>\n",
              "      <th>SB</th>\n",
              "      <th>Run1 (ms)</th>\n",
              "      <th>Run2 (ms)</th>\n",
              "      <th>Run3 (ms)</th>\n",
              "      <th>Run4 (ms)</th>\n",
              "    </tr>\n",
              "  </thead>\n",
              "  <tbody>\n",
              "    <tr>\n",
              "      <th>0</th>\n",
              "      <td>16</td>\n",
              "      <td>16</td>\n",
              "      <td>16</td>\n",
              "      <td>8</td>\n",
              "      <td>8</td>\n",
              "      <td>8</td>\n",
              "      <td>8</td>\n",
              "      <td>2</td>\n",
              "      <td>1</td>\n",
              "      <td>1</td>\n",
              "      <td>0</td>\n",
              "      <td>0</td>\n",
              "      <td>0</td>\n",
              "      <td>0</td>\n",
              "      <td>115.26</td>\n",
              "      <td>115.87</td>\n",
              "      <td>118.55</td>\n",
              "      <td>115.80</td>\n",
              "    </tr>\n",
              "    <tr>\n",
              "      <th>1</th>\n",
              "      <td>16</td>\n",
              "      <td>16</td>\n",
              "      <td>16</td>\n",
              "      <td>8</td>\n",
              "      <td>8</td>\n",
              "      <td>8</td>\n",
              "      <td>8</td>\n",
              "      <td>2</td>\n",
              "      <td>1</td>\n",
              "      <td>1</td>\n",
              "      <td>0</td>\n",
              "      <td>0</td>\n",
              "      <td>0</td>\n",
              "      <td>1</td>\n",
              "      <td>78.13</td>\n",
              "      <td>78.25</td>\n",
              "      <td>79.25</td>\n",
              "      <td>79.19</td>\n",
              "    </tr>\n",
              "    <tr>\n",
              "      <th>2</th>\n",
              "      <td>16</td>\n",
              "      <td>16</td>\n",
              "      <td>16</td>\n",
              "      <td>8</td>\n",
              "      <td>8</td>\n",
              "      <td>8</td>\n",
              "      <td>8</td>\n",
              "      <td>2</td>\n",
              "      <td>1</td>\n",
              "      <td>1</td>\n",
              "      <td>0</td>\n",
              "      <td>0</td>\n",
              "      <td>1</td>\n",
              "      <td>0</td>\n",
              "      <td>79.84</td>\n",
              "      <td>80.69</td>\n",
              "      <td>80.76</td>\n",
              "      <td>80.97</td>\n",
              "    </tr>\n",
              "    <tr>\n",
              "      <th>3</th>\n",
              "      <td>16</td>\n",
              "      <td>16</td>\n",
              "      <td>16</td>\n",
              "      <td>8</td>\n",
              "      <td>8</td>\n",
              "      <td>8</td>\n",
              "      <td>8</td>\n",
              "      <td>2</td>\n",
              "      <td>1</td>\n",
              "      <td>1</td>\n",
              "      <td>0</td>\n",
              "      <td>0</td>\n",
              "      <td>1</td>\n",
              "      <td>1</td>\n",
              "      <td>84.32</td>\n",
              "      <td>89.90</td>\n",
              "      <td>86.75</td>\n",
              "      <td>85.58</td>\n",
              "    </tr>\n",
              "    <tr>\n",
              "      <th>4</th>\n",
              "      <td>16</td>\n",
              "      <td>16</td>\n",
              "      <td>16</td>\n",
              "      <td>8</td>\n",
              "      <td>8</td>\n",
              "      <td>8</td>\n",
              "      <td>8</td>\n",
              "      <td>2</td>\n",
              "      <td>1</td>\n",
              "      <td>1</td>\n",
              "      <td>0</td>\n",
              "      <td>1</td>\n",
              "      <td>0</td>\n",
              "      <td>0</td>\n",
              "      <td>115.13</td>\n",
              "      <td>121.98</td>\n",
              "      <td>122.73</td>\n",
              "      <td>114.81</td>\n",
              "    </tr>\n",
              "  </tbody>\n",
              "</table>\n",
              "</div>"
            ],
            "text/plain": [
              "   MWG  NWG  KWG  MDIMC  NDIMC  ...  SB  Run1 (ms)  Run2 (ms)  Run3 (ms)  Run4 (ms)\n",
              "0   16   16   16      8      8  ...   0     115.26     115.87     118.55     115.80\n",
              "1   16   16   16      8      8  ...   1      78.13      78.25      79.25      79.19\n",
              "2   16   16   16      8      8  ...   0      79.84      80.69      80.76      80.97\n",
              "3   16   16   16      8      8  ...   1      84.32      89.90      86.75      85.58\n",
              "4   16   16   16      8      8  ...   0     115.13     121.98     122.73     114.81\n",
              "\n",
              "[5 rows x 18 columns]"
            ]
          },
          "metadata": {
            "tags": []
          },
          "execution_count": 35
        }
      ]
    },
    {
      "cell_type": "code",
      "metadata": {
        "id": "Fw3aosp6fL-w",
        "colab_type": "code",
        "colab": {
          "base_uri": "https://localhost:8080/",
          "height": 34
        },
        "outputId": "f6e42b09-29dd-4ac9-f3e0-f424f225e19a"
      },
      "source": [
        "df_copy.shape"
      ],
      "execution_count": 36,
      "outputs": [
        {
          "output_type": "execute_result",
          "data": {
            "text/plain": [
              "(241600, 18)"
            ]
          },
          "metadata": {
            "tags": []
          },
          "execution_count": 36
        }
      ]
    },
    {
      "cell_type": "code",
      "metadata": {
        "id": "warlS2ZLfSAV",
        "colab_type": "code",
        "colab": {
          "base_uri": "https://localhost:8080/",
          "height": 34
        },
        "outputId": "aabe2eb4-8895-4554-8405-806e87d23e77"
      },
      "source": [
        "df_dropped['NDIMC'].dtype"
      ],
      "execution_count": 37,
      "outputs": [
        {
          "output_type": "execute_result",
          "data": {
            "text/plain": [
              "dtype('int64')"
            ]
          },
          "metadata": {
            "tags": []
          },
          "execution_count": 37
        }
      ]
    },
    {
      "cell_type": "code",
      "metadata": {
        "id": "V0VSB5zwfa_l",
        "colab_type": "code",
        "colab": {
          "base_uri": "https://localhost:8080/",
          "height": 34
        },
        "outputId": "cd7c44a9-68fa-45c8-fe27-72f723a5ee2d"
      },
      "source": [
        "df_dropped['NDIMC'].mean()"
      ],
      "execution_count": 38,
      "outputs": [
        {
          "output_type": "execute_result",
          "data": {
            "text/plain": [
              "13.9358940397351"
            ]
          },
          "metadata": {
            "tags": []
          },
          "execution_count": 38
        }
      ]
    },
    {
      "cell_type": "code",
      "metadata": {
        "id": "UsoBBfkAfhO3",
        "colab_type": "code",
        "colab": {}
      },
      "source": [
        "df_copy['NDIMC'].fillna(value=np.round(df['NDIMC'].mean(),decimals=0), inplace=True)"
      ],
      "execution_count": 0,
      "outputs": []
    },
    {
      "cell_type": "code",
      "metadata": {
        "id": "CkvsCr8tfpKY",
        "colab_type": "code",
        "colab": {
          "base_uri": "https://localhost:8080/",
          "height": 179
        },
        "outputId": "6b033152-a61b-4642-f52e-492b44cef1d1"
      },
      "source": [
        "df_copy.agg(['count', 'size', 'nunique'])"
      ],
      "execution_count": 41,
      "outputs": [
        {
          "output_type": "execute_result",
          "data": {
            "text/html": [
              "<div>\n",
              "<style scoped>\n",
              "    .dataframe tbody tr th:only-of-type {\n",
              "        vertical-align: middle;\n",
              "    }\n",
              "\n",
              "    .dataframe tbody tr th {\n",
              "        vertical-align: top;\n",
              "    }\n",
              "\n",
              "    .dataframe thead th {\n",
              "        text-align: right;\n",
              "    }\n",
              "</style>\n",
              "<table border=\"1\" class=\"dataframe\">\n",
              "  <thead>\n",
              "    <tr style=\"text-align: right;\">\n",
              "      <th></th>\n",
              "      <th>MWG</th>\n",
              "      <th>NWG</th>\n",
              "      <th>KWG</th>\n",
              "      <th>MDIMC</th>\n",
              "      <th>NDIMC</th>\n",
              "      <th>MDIMA</th>\n",
              "      <th>NDIMB</th>\n",
              "      <th>KWI</th>\n",
              "      <th>VWM</th>\n",
              "      <th>VWN</th>\n",
              "      <th>STRM</th>\n",
              "      <th>STRN</th>\n",
              "      <th>SA</th>\n",
              "      <th>SB</th>\n",
              "      <th>Run1 (ms)</th>\n",
              "      <th>Run2 (ms)</th>\n",
              "      <th>Run3 (ms)</th>\n",
              "      <th>Run4 (ms)</th>\n",
              "    </tr>\n",
              "  </thead>\n",
              "  <tbody>\n",
              "    <tr>\n",
              "      <th>count</th>\n",
              "      <td>241600</td>\n",
              "      <td>241600</td>\n",
              "      <td>241600</td>\n",
              "      <td>241600</td>\n",
              "      <td>241600</td>\n",
              "      <td>241600</td>\n",
              "      <td>241600</td>\n",
              "      <td>241600</td>\n",
              "      <td>241600</td>\n",
              "      <td>241600</td>\n",
              "      <td>241600</td>\n",
              "      <td>241600</td>\n",
              "      <td>241600</td>\n",
              "      <td>241600</td>\n",
              "      <td>241600</td>\n",
              "      <td>241600</td>\n",
              "      <td>241600</td>\n",
              "      <td>241600</td>\n",
              "    </tr>\n",
              "    <tr>\n",
              "      <th>size</th>\n",
              "      <td>241600</td>\n",
              "      <td>241600</td>\n",
              "      <td>241600</td>\n",
              "      <td>241600</td>\n",
              "      <td>241600</td>\n",
              "      <td>241600</td>\n",
              "      <td>241600</td>\n",
              "      <td>241600</td>\n",
              "      <td>241600</td>\n",
              "      <td>241600</td>\n",
              "      <td>241600</td>\n",
              "      <td>241600</td>\n",
              "      <td>241600</td>\n",
              "      <td>241600</td>\n",
              "      <td>241600</td>\n",
              "      <td>241600</td>\n",
              "      <td>241600</td>\n",
              "      <td>241600</td>\n",
              "    </tr>\n",
              "    <tr>\n",
              "      <th>nunique</th>\n",
              "      <td>4</td>\n",
              "      <td>4</td>\n",
              "      <td>2</td>\n",
              "      <td>3</td>\n",
              "      <td>3</td>\n",
              "      <td>3</td>\n",
              "      <td>3</td>\n",
              "      <td>2</td>\n",
              "      <td>4</td>\n",
              "      <td>4</td>\n",
              "      <td>2</td>\n",
              "      <td>2</td>\n",
              "      <td>2</td>\n",
              "      <td>2</td>\n",
              "      <td>58161</td>\n",
              "      <td>58269</td>\n",
              "      <td>58264</td>\n",
              "      <td>58154</td>\n",
              "    </tr>\n",
              "  </tbody>\n",
              "</table>\n",
              "</div>"
            ],
            "text/plain": [
              "            MWG     NWG     KWG  ...  Run2 (ms)  Run3 (ms)  Run4 (ms)\n",
              "count    241600  241600  241600  ...     241600     241600     241600\n",
              "size     241600  241600  241600  ...     241600     241600     241600\n",
              "nunique       4       4       2  ...      58269      58264      58154\n",
              "\n",
              "[3 rows x 18 columns]"
            ]
          },
          "metadata": {
            "tags": []
          },
          "execution_count": 41
        }
      ]
    },
    {
      "cell_type": "code",
      "metadata": {
        "id": "qHsoW0B1fuwo",
        "colab_type": "code",
        "colab": {
          "base_uri": "https://localhost:8080/",
          "height": 34
        },
        "outputId": "feb7f26b-7fb0-4b0e-afda-7456820e6c46"
      },
      "source": [
        "list(df['STRM'].unique())"
      ],
      "execution_count": 42,
      "outputs": [
        {
          "output_type": "execute_result",
          "data": {
            "text/plain": [
              "[0, 1]"
            ]
          },
          "metadata": {
            "tags": []
          },
          "execution_count": 42
        }
      ]
    },
    {
      "cell_type": "code",
      "metadata": {
        "id": "IQkOkaSxgCGf",
        "colab_type": "code",
        "colab": {}
      },
      "source": [
        "df['STRM'].replace({4:\"agrícolas\", \n",
        "                       5:\"animales\"\n",
        "                       }, inplace=True)"
      ],
      "execution_count": 0,
      "outputs": []
    },
    {
      "cell_type": "code",
      "metadata": {
        "id": "GU_fIV8dgSWt",
        "colab_type": "code",
        "colab": {
          "base_uri": "https://localhost:8080/",
          "height": 34
        },
        "outputId": "f091962f-f8ba-49a9-d4b3-3cb8e0d262b5"
      },
      "source": [
        "list(df['STRM'].unique())"
      ],
      "execution_count": 44,
      "outputs": [
        {
          "output_type": "execute_result",
          "data": {
            "text/plain": [
              "[0, 1]"
            ]
          },
          "metadata": {
            "tags": []
          },
          "execution_count": 44
        }
      ]
    },
    {
      "cell_type": "code",
      "metadata": {
        "id": "zIE4ncEigq6A",
        "colab_type": "code",
        "colab": {
          "base_uri": "https://localhost:8080/",
          "height": 34
        },
        "outputId": "d261350e-2b64-45f7-f0f4-8d3d4ef24856"
      },
      "source": [
        "df_copy['STRM'].mean()"
      ],
      "execution_count": 47,
      "outputs": [
        {
          "output_type": "execute_result",
          "data": {
            "text/plain": [
              "0.5"
            ]
          },
          "metadata": {
            "tags": []
          },
          "execution_count": 47
        }
      ]
    },
    {
      "cell_type": "code",
      "metadata": {
        "id": "pFILOANqgyKG",
        "colab_type": "code",
        "colab": {
          "base_uri": "https://localhost:8080/",
          "height": 34
        },
        "outputId": "8cf1cfa9-5667-46dc-fa6a-99de924f728d"
      },
      "source": [
        "df_copy['STRM'][df_copy['MDIMC'] == 6]"
      ],
      "execution_count": 49,
      "outputs": [
        {
          "output_type": "execute_result",
          "data": {
            "text/plain": [
              "Series([], Name: STRM, dtype: int64)"
            ]
          },
          "metadata": {
            "tags": []
          },
          "execution_count": 49
        }
      ]
    },
    {
      "cell_type": "code",
      "metadata": {
        "id": "0HmuTWWphSFN",
        "colab_type": "code",
        "colab": {
          "base_uri": "https://localhost:8080/",
          "height": 221
        },
        "outputId": "297609d1-8077-4c1e-d573-59083d85eae6"
      },
      "source": [
        "df_sample = df.sample(frac=0.05, random_state=1)\n",
        "df_sample.head()"
      ],
      "execution_count": 51,
      "outputs": [
        {
          "output_type": "execute_result",
          "data": {
            "text/html": [
              "<div>\n",
              "<style scoped>\n",
              "    .dataframe tbody tr th:only-of-type {\n",
              "        vertical-align: middle;\n",
              "    }\n",
              "\n",
              "    .dataframe tbody tr th {\n",
              "        vertical-align: top;\n",
              "    }\n",
              "\n",
              "    .dataframe thead th {\n",
              "        text-align: right;\n",
              "    }\n",
              "</style>\n",
              "<table border=\"1\" class=\"dataframe\">\n",
              "  <thead>\n",
              "    <tr style=\"text-align: right;\">\n",
              "      <th></th>\n",
              "      <th>MWG</th>\n",
              "      <th>NWG</th>\n",
              "      <th>KWG</th>\n",
              "      <th>MDIMC</th>\n",
              "      <th>NDIMC</th>\n",
              "      <th>MDIMA</th>\n",
              "      <th>NDIMB</th>\n",
              "      <th>KWI</th>\n",
              "      <th>VWM</th>\n",
              "      <th>VWN</th>\n",
              "      <th>STRM</th>\n",
              "      <th>STRN</th>\n",
              "      <th>SA</th>\n",
              "      <th>SB</th>\n",
              "      <th>Run1 (ms)</th>\n",
              "      <th>Run2 (ms)</th>\n",
              "      <th>Run3 (ms)</th>\n",
              "      <th>Run4 (ms)</th>\n",
              "    </tr>\n",
              "  </thead>\n",
              "  <tbody>\n",
              "    <tr>\n",
              "      <th>106120</th>\n",
              "      <td>64</td>\n",
              "      <td>64</td>\n",
              "      <td>32</td>\n",
              "      <td>16</td>\n",
              "      <td>16</td>\n",
              "      <td>8</td>\n",
              "      <td>32</td>\n",
              "      <td>8</td>\n",
              "      <td>4</td>\n",
              "      <td>1</td>\n",
              "      <td>1</td>\n",
              "      <td>0</td>\n",
              "      <td>0</td>\n",
              "      <td>0</td>\n",
              "      <td>44.31</td>\n",
              "      <td>44.38</td>\n",
              "      <td>44.58</td>\n",
              "      <td>44.34</td>\n",
              "    </tr>\n",
              "    <tr>\n",
              "      <th>128737</th>\n",
              "      <td>64</td>\n",
              "      <td>128</td>\n",
              "      <td>32</td>\n",
              "      <td>8</td>\n",
              "      <td>16</td>\n",
              "      <td>32</td>\n",
              "      <td>8</td>\n",
              "      <td>2</td>\n",
              "      <td>1</td>\n",
              "      <td>4</td>\n",
              "      <td>0</td>\n",
              "      <td>0</td>\n",
              "      <td>0</td>\n",
              "      <td>1</td>\n",
              "      <td>214.06</td>\n",
              "      <td>213.64</td>\n",
              "      <td>214.41</td>\n",
              "      <td>214.47</td>\n",
              "    </tr>\n",
              "    <tr>\n",
              "      <th>123689</th>\n",
              "      <td>64</td>\n",
              "      <td>128</td>\n",
              "      <td>32</td>\n",
              "      <td>8</td>\n",
              "      <td>8</td>\n",
              "      <td>8</td>\n",
              "      <td>16</td>\n",
              "      <td>2</td>\n",
              "      <td>2</td>\n",
              "      <td>4</td>\n",
              "      <td>1</td>\n",
              "      <td>0</td>\n",
              "      <td>0</td>\n",
              "      <td>1</td>\n",
              "      <td>939.56</td>\n",
              "      <td>926.92</td>\n",
              "      <td>930.16</td>\n",
              "      <td>933.80</td>\n",
              "    </tr>\n",
              "    <tr>\n",
              "      <th>208174</th>\n",
              "      <td>128</td>\n",
              "      <td>128</td>\n",
              "      <td>16</td>\n",
              "      <td>8</td>\n",
              "      <td>32</td>\n",
              "      <td>16</td>\n",
              "      <td>16</td>\n",
              "      <td>2</td>\n",
              "      <td>2</td>\n",
              "      <td>2</td>\n",
              "      <td>1</td>\n",
              "      <td>1</td>\n",
              "      <td>1</td>\n",
              "      <td>0</td>\n",
              "      <td>256.62</td>\n",
              "      <td>262.30</td>\n",
              "      <td>261.88</td>\n",
              "      <td>261.55</td>\n",
              "    </tr>\n",
              "    <tr>\n",
              "      <th>239379</th>\n",
              "      <td>128</td>\n",
              "      <td>128</td>\n",
              "      <td>32</td>\n",
              "      <td>32</td>\n",
              "      <td>8</td>\n",
              "      <td>32</td>\n",
              "      <td>16</td>\n",
              "      <td>2</td>\n",
              "      <td>2</td>\n",
              "      <td>2</td>\n",
              "      <td>0</td>\n",
              "      <td>0</td>\n",
              "      <td>1</td>\n",
              "      <td>1</td>\n",
              "      <td>178.68</td>\n",
              "      <td>177.72</td>\n",
              "      <td>178.73</td>\n",
              "      <td>178.80</td>\n",
              "    </tr>\n",
              "  </tbody>\n",
              "</table>\n",
              "</div>"
            ],
            "text/plain": [
              "        MWG  NWG  KWG  MDIMC  ...  Run1 (ms)  Run2 (ms)  Run3 (ms)  Run4 (ms)\n",
              "106120   64   64   32     16  ...      44.31      44.38      44.58      44.34\n",
              "128737   64  128   32      8  ...     214.06     213.64     214.41     214.47\n",
              "123689   64  128   32      8  ...     939.56     926.92     930.16     933.80\n",
              "208174  128  128   16      8  ...     256.62     262.30     261.88     261.55\n",
              "239379  128  128   32     32  ...     178.68     177.72     178.73     178.80\n",
              "\n",
              "[5 rows x 18 columns]"
            ]
          },
          "metadata": {
            "tags": []
          },
          "execution_count": 51
        }
      ]
    },
    {
      "cell_type": "code",
      "metadata": {
        "id": "ZescFgGQhceP",
        "colab_type": "code",
        "colab": {
          "base_uri": "https://localhost:8080/",
          "height": 266
        },
        "outputId": "d328739d-d9ac-4b36-9eba-9df9ff908142"
      },
      "source": [
        "%matplotlib inline\n",
        "import matplotlib.pyplot as plt\n",
        "plt.style.use('seaborn-white')\n",
        "\n",
        "ax1 = plt.axes()  # standard axes\n",
        "ax2 = plt.axes([0.65, 0.65, 0.2, 0.2])"
      ],
      "execution_count": 52,
      "outputs": [
        {
          "output_type": "display_data",
          "data": {
            "image/png": "[encoded data removed]",
            "text/plain": [
              "<Figure size 432x288 with 2 Axes>"
            ]
          },
          "metadata": {
            "tags": []
          }
        }
      ]
    },
    {
      "cell_type": "code",
      "metadata": {
        "id": "PVOJYzqehh7r",
        "colab_type": "code",
        "colab": {
          "base_uri": "https://localhost:8080/",
          "height": 292
        },
        "outputId": "ad991cc6-4eb2-434c-ee1f-9faf37b3191b"
      },
      "source": [
        "#The equivalent of this command within the object-oriented interface is fig.add_axes()\n",
        "\n",
        "fig = plt.figure()\n",
        "ax1 = fig.add_axes([0.1, 0.5, 0.8, 0.4],\n",
        "                   xticklabels=[], ylim=(-1.2, 1.2))\n",
        "ax2 = fig.add_axes([0.1, 0.1, 0.8, 0.4],\n",
        "                   ylim=(-1.2, 1.2))\n",
        "\n",
        "x = np.linspace(0, 10)\n",
        "ax1.plot(np.sin(x))\n",
        "ax2.plot(np.cos(x))"
      ],
      "execution_count": 53,
      "outputs": [
        {
          "output_type": "execute_result",
          "data": {
            "text/plain": [
              "[<matplotlib.lines.Line2D at 0x7fa9c2329d68>]"
            ]
          },
          "metadata": {
            "tags": []
          },
          "execution_count": 53
        },
        {
          "output_type": "display_data",
          "data": {
            "image/png": "[encoded data removed]",
            "text/plain": [
              "<Figure size 432x288 with 2 Axes>"
            ]
          },
          "metadata": {
            "tags": []
          }
        }
      ]
    },
    {
      "cell_type": "code",
      "metadata": {
        "id": "DYQI4mDUhmqe",
        "colab_type": "code",
        "colab": {
          "base_uri": "https://localhost:8080/",
          "height": 266
        },
        "outputId": "09369933-5031-4393-e778-4f4fd243406c"
      },
      "source": [
        "# The lowest level of these is plt.subplot(), which creates a single subplot within a grid\n",
        "for i in range(1, 7):\n",
        "    plt.subplot(2, 3, i)\n",
        "    plt.text(0.5, 0.5, str((2, 3, i)),\n",
        "             fontsize=18, ha='center')"
      ],
      "execution_count": 54,
      "outputs": [
        {
          "output_type": "display_data",
          "data": {
            "image/png": "[encoded data removed]",
            "text/plain": [
              "<Figure size 432x288 with 6 Axes>"
            ]
          },
          "metadata": {
            "tags": []
          }
        }
      ]
    },
    {
      "cell_type": "code",
      "metadata": {
        "id": "L8F7lRxshrzM",
        "colab_type": "code",
        "colab": {
          "base_uri": "https://localhost:8080/",
          "height": 266
        },
        "outputId": "73c9edec-550e-4d45-a430-e59ab341f19a"
      },
      "source": [
        "# plt.subplots_adjust can be used to adjust the spacing between these plots\n",
        "fig = plt.figure()\n",
        "fig.subplots_adjust(hspace=0.4, wspace=0.4)\n",
        "for i in range(1, 7):\n",
        "    ax = fig.add_subplot(2, 3, i)\n",
        "    ax.text(0.5, 0.5, str((2, 3, i)),\n",
        "           fontsize=18, ha='center')"
      ],
      "execution_count": 55,
      "outputs": [
        {
          "output_type": "display_data",
          "data": {
            "image/png": "[encoded data removed]",
            "text/plain": [
              "<Figure size 432x288 with 6 Axes>"
            ]
          },
          "metadata": {
            "tags": []
          }
        }
      ]
    },
    {
      "cell_type": "code",
      "metadata": {
        "id": "o10pS8Mqhwo3",
        "colab_type": "code",
        "colab": {
          "base_uri": "https://localhost:8080/",
          "height": 266
        },
        "outputId": "deb34f14-a6fc-44c3-b627-9da0177665c2"
      },
      "source": [
        "fig, ax = plt.subplots(2, 3, sharex='col', sharey='row')"
      ],
      "execution_count": 56,
      "outputs": [
        {
          "output_type": "display_data",
          "data": {
            "image/png": "[encoded data removed]",
            "text/plain": [
              "<Figure size 432x288 with 6 Axes>"
            ]
          },
          "metadata": {
            "tags": []
          }
        }
      ]
    },
    {
      "cell_type": "code",
      "metadata": {
        "id": "R1owrZQJh1Bb",
        "colab_type": "code",
        "colab": {
          "base_uri": "https://localhost:8080/",
          "height": 266
        },
        "outputId": "9c402a80-7bd0-481b-e9a2-4d6fada8b0a1"
      },
      "source": [
        "# axes are in a two-dimensional array, indexed by [row, col]\n",
        "for i in range(2):\n",
        "    for j in range(3):\n",
        "        ax[i, j].text(0.5, 0.5, str((i, j)),\n",
        "                      fontsize=18, ha='center')\n",
        "fig"
      ],
      "execution_count": 59,
      "outputs": [
        {
          "output_type": "execute_result",
          "data": {
            "image/png": "[encoded data removed]",
            "text/plain": [
              "<Figure size 432x288 with 6 Axes>"
            ]
          },
          "metadata": {
            "tags": []
          },
          "execution_count": 59
        }
      ]
    },
    {
      "cell_type": "code",
      "metadata": {
        "id": "IP1S2ly7iAOa",
        "colab_type": "code",
        "colab": {
          "base_uri": "https://localhost:8080/",
          "height": 371
        },
        "outputId": "d126165d-e3c2-411f-f785-58cfb0c9e407"
      },
      "source": [
        "# Create some normally distributed data\n",
        "mean = [0, 0]\n",
        "cov = [[1, 1], [1, 2]]\n",
        "x, y = np.random.multivariate_normal(mean, cov, 3000).T\n",
        "\n",
        "# Set up the axes with gridspec\n",
        "fig = plt.figure(figsize=(6, 6))\n",
        "grid = plt.GridSpec(4, 4, hspace=0.2, wspace=0.2)\n",
        "main_ax = fig.add_subplot(grid[:-1, 1:])\n",
        "y_hist = fig.add_subplot(grid[:-1, 0], xticklabels=[], sharey=main_ax)\n",
        "x_hist = fig.add_subplot(grid[-1, 1:], yticklabels=[], sharex=main_ax)\n",
        "\n",
        "# scatter points on the main axes\n",
        "main_ax.plot(x, y, 'ok', markersize=3, alpha=0.2)\n",
        "\n",
        "# histogram on the attached axes\n",
        "x_hist.hist(x, 40, histtype='stepfilled',\n",
        "            orientation='vertical', color='gray')\n",
        "x_hist.invert_yaxis()\n",
        "\n",
        "y_hist.hist(y, 40, histtype='stepfilled',\n",
        "            orientation='horizontal', color='gray')\n",
        "y_hist.invert_xaxis()"
      ],
      "execution_count": 60,
      "outputs": [
        {
          "output_type": "display_data",
          "data": {
            "image/png": "[encoded data removed]",
            "text/plain": [
              "<Figure size 432x432 with 3 Axes>"
            ]
          },
          "metadata": {
            "tags": []
          }
        }
      ]
    },
    {
      "cell_type": "code",
      "metadata": {
        "id": "SLkqNqHviJLH",
        "colab_type": "code",
        "colab": {
          "base_uri": "https://localhost:8080/",
          "height": 293
        },
        "outputId": "85064d4a-3512-4b9e-dca5-18171014968a"
      },
      "source": [
        "#figure.savefig('.../.jpeg')\n",
        "#df_sample['KWI'] = dropna()\n",
        "df_sample['KWI'] = df_sample['KWI'].astype('int64')\n",
        "\n",
        "df_sample.plot(kind='scatter',x='KWI',y='VWM')"
      ],
      "execution_count": 61,
      "outputs": [
        {
          "output_type": "execute_result",
          "data": {
            "text/plain": [
              "<matplotlib.axes._subplots.AxesSubplot at 0x7fa9c1fd35f8>"
            ]
          },
          "metadata": {
            "tags": []
          },
          "execution_count": 61
        },
        {
          "output_type": "display_data",
          "data": {
            "image/png": "[encoded data removed]",
            "text/plain": [
              "<Figure size 432x288 with 1 Axes>"
            ]
          },
          "metadata": {
            "tags": []
          }
        }
      ]
    },
    {
      "cell_type": "code",
      "metadata": {
        "id": "2olNcxOoievX",
        "colab_type": "code",
        "colab": {
          "base_uri": "https://localhost:8080/",
          "height": 308
        },
        "outputId": "fe7d7ae8-6dae-49f1-ca62-969a091d0fe9"
      },
      "source": [
        "plt.hist(df_sample['KWI'])\n",
        "plt.xlabel('KWI')\n",
        "plt.ylabel('Frequency')\n",
        "plt.title('Frequency of KWI')"
      ],
      "execution_count": 62,
      "outputs": [
        {
          "output_type": "execute_result",
          "data": {
            "text/plain": [
              "Text(0.5, 1.0, 'Frequency of KWI')"
            ]
          },
          "metadata": {
            "tags": []
          },
          "execution_count": 62
        },
        {
          "output_type": "display_data",
          "data": {
            "image/png": "[encoded data removed]",
            "text/plain": [
              "<Figure size 432x288 with 1 Axes>"
            ]
          },
          "metadata": {
            "tags": []
          }
        }
      ]
    },
    {
      "cell_type": "code",
      "metadata": {
        "id": "3T01tdxLiwYA",
        "colab_type": "code",
        "colab": {
          "base_uri": "https://localhost:8080/",
          "height": 294
        },
        "outputId": "a5286bdc-96ee-4da2-b7ce-b647da8db218"
      },
      "source": [
        "#plt.boxplot(df_sample['KWI'])\n",
        "plt.boxplot(df_sample['KWI'], showmeans=True, meanline=True)\n",
        "plt.ylabel('KWI count')\n",
        "plt.title('Box Plot of KWI count')"
      ],
      "execution_count": 63,
      "outputs": [
        {
          "output_type": "execute_result",
          "data": {
            "text/plain": [
              "Text(0.5, 1.0, 'Box Plot of KWI count')"
            ]
          },
          "metadata": {
            "tags": []
          },
          "execution_count": 63
        },
        {
          "output_type": "display_data",
          "data": {
            "image/png": "[encoded data removed]",
            "text/plain": [
              "<Figure size 432x288 with 1 Axes>"
            ]
          },
          "metadata": {
            "tags": []
          }
        }
      ]
    }
  ]
}